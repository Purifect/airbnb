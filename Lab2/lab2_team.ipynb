{
 "cells": [
  {
   "cell_type": "markdown",
   "id": "703635f5",
   "metadata": {},
   "source": [
    "___\n",
    "\n",
    "#### Group 2:\n",
    "#### DJ Dawkins, Rick Fontenot, Joe Lazarus, Puri Rudick\n",
    "___\n"
   ]
  },
  {
   "cell_type": "markdown",
   "id": "353af2e4",
   "metadata": {},
   "source": [
    "# Lab 2: Classification"
   ]
  },
  {
   "cell_type": "markdown",
   "id": "f495dfd8",
   "metadata": {},
   "source": [
    "___\n",
    "# Data Preparation\n",
    "#### [15 points total] \n",
    "___"
   ]
  },
  {
   "cell_type": "markdown",
   "id": "a6dad5cf",
   "metadata": {},
   "source": [
    "> \n",
    "> ##   Data Prep - Define and Prepare Your Class Variables \n",
    "> \n",
    "Use proper variable representations (int, float, one-hot, etc.). Use pre-processing methods (as needed) for dimensionality reduction, scaling, etc. Remove variables that are not needed/useful for the analysis.\n",
    "\n",
    "> #### [10 points]"
   ]
  },
  {
   "cell_type": "code",
   "execution_count": null,
   "id": "ac19b1cc",
   "metadata": {},
   "outputs": [],
   "source": []
  },
  {
   "cell_type": "code",
   "execution_count": null,
   "id": "a9a828ad",
   "metadata": {},
   "outputs": [],
   "source": []
  },
  {
   "cell_type": "code",
   "execution_count": null,
   "id": "0cf8ceb7",
   "metadata": {},
   "outputs": [],
   "source": []
  },
  {
   "cell_type": "markdown",
   "id": "b5c8e8f9",
   "metadata": {},
   "source": [
    ">\n",
    "> ## Data Prep - Describe The Final Dataset that is used for classification/Regression\n",
    ">\n",
    "(include a description of any newly formed variables you created).\n",
    "\n",
    "> #### [5 points]"
   ]
  },
  {
   "cell_type": "code",
   "execution_count": null,
   "id": "8e1fe1f2",
   "metadata": {},
   "outputs": [],
   "source": []
  },
  {
   "cell_type": "code",
   "execution_count": null,
   "id": "14dbbd1a",
   "metadata": {},
   "outputs": [],
   "source": []
  },
  {
   "cell_type": "code",
   "execution_count": null,
   "id": "f4318b89",
   "metadata": {},
   "outputs": [],
   "source": []
  },
  {
   "cell_type": "markdown",
   "id": "3288733e",
   "metadata": {},
   "source": [
    "# Modeling and Evaluation \n",
    "\n",
    "\n",
    "#### [70 points total]"
   ]
  },
  {
   "cell_type": "markdown",
   "id": "96db1852",
   "metadata": {},
   "source": [
    "> \n",
    "> ## Choose and explain your evaluation metrics\n",
    "> \n",
    "\n",
    "i.e., accuracy, precision, recall, F-measure, or any metric we have discussed). Why are the measure(s) appropriate for analyzing the results of your modeling? Give a detailed explanation backing up any assertions.\n",
    "\n",
    "> #### [10 points]"
   ]
  },
  {
   "cell_type": "code",
   "execution_count": null,
   "id": "b51429e5",
   "metadata": {},
   "outputs": [],
   "source": []
  },
  {
   "cell_type": "code",
   "execution_count": null,
   "id": "5e617ba7",
   "metadata": {},
   "outputs": [],
   "source": []
  },
  {
   "cell_type": "code",
   "execution_count": null,
   "id": "62782c8f",
   "metadata": {},
   "outputs": [],
   "source": []
  },
  {
   "cell_type": "markdown",
   "id": "cf36cc46",
   "metadata": {},
   "source": [
    "> \n",
    "> ## Choose the method you will use for dividing your data into training and testing splits\n",
    "> \n",
    "\n",
    "i.e., are you using Stratified 10-fold cross validation? Why?). Explain why your chosen method is appropriate or use more than one method as appropriate.\n",
    "\n",
    "> #### [10 points]"
   ]
  },
  {
   "cell_type": "code",
   "execution_count": null,
   "id": "9aadcdf1",
   "metadata": {},
   "outputs": [],
   "source": []
  },
  {
   "cell_type": "code",
   "execution_count": null,
   "id": "9bc42fa4",
   "metadata": {},
   "outputs": [],
   "source": []
  },
  {
   "cell_type": "code",
   "execution_count": null,
   "id": "e992f35d",
   "metadata": {},
   "outputs": [],
   "source": []
  },
  {
   "cell_type": "markdown",
   "id": "96028b4d",
   "metadata": {},
   "source": [
    "> \n",
    "> ## Create three different classification/regression models (e.g., random forest, KNN, and SVM).\n",
    "> \n",
    "\n",
    "Two modeling techniques must be new (but the third could be SVM or logistic regression). Adjust parameters as appropriate to increase generalization\n",
    "\n",
    "> #### [20 points]"
   ]
  },
  {
   "cell_type": "code",
   "execution_count": null,
   "id": "9b047779",
   "metadata": {},
   "outputs": [],
   "source": []
  },
  {
   "cell_type": "code",
   "execution_count": null,
   "id": "d122be21",
   "metadata": {},
   "outputs": [],
   "source": []
  },
  {
   "cell_type": "code",
   "execution_count": null,
   "id": "7324f112",
   "metadata": {},
   "outputs": [],
   "source": []
  },
  {
   "cell_type": "markdown",
   "id": "11d2607e",
   "metadata": {},
   "source": [
    ">\n",
    "> ## Analyze the results using your chosen method of evaluation.\n",
    "> \n",
    "\n",
    "Use visualizations of the results to bolster the analysis. Explain any visuals and analyze why they are interesting to someone that might use this model.\n",
    "\n",
    "#### [10 points]"
   ]
  },
  {
   "cell_type": "code",
   "execution_count": null,
   "id": "d69676a2",
   "metadata": {},
   "outputs": [],
   "source": []
  },
  {
   "cell_type": "code",
   "execution_count": null,
   "id": "f8c7aa3c",
   "metadata": {},
   "outputs": [],
   "source": []
  },
  {
   "cell_type": "code",
   "execution_count": null,
   "id": "51869e5a",
   "metadata": {},
   "outputs": [],
   "source": []
  },
  {
   "cell_type": "markdown",
   "id": "b35f8b16",
   "metadata": {},
   "source": [
    ">\n",
    "> ## Discuss the advantages of each model for each classification task\n",
    "> \n",
    "\n",
    "(if any) If there are not advantages, explain why. Is any model better than another? Is the difference significant with 95% confidence? Use proper statistical comparison methods.\n",
    "\n",
    "> #### [10 points]"
   ]
  },
  {
   "cell_type": "code",
   "execution_count": null,
   "id": "8d7095e3",
   "metadata": {},
   "outputs": [],
   "source": []
  },
  {
   "cell_type": "code",
   "execution_count": null,
   "id": "8a85ec78",
   "metadata": {},
   "outputs": [],
   "source": []
  },
  {
   "cell_type": "code",
   "execution_count": null,
   "id": "0edce505",
   "metadata": {},
   "outputs": [],
   "source": []
  },
  {
   "cell_type": "markdown",
   "id": "e8bbf9a3",
   "metadata": {},
   "source": [
    ">\n",
    "> ## Which attributes from your analysis are most important?\n",
    "> \n",
    "\n",
    "Use proper methods discussed in class to evaluate the importance of different attributes. Discuss the results and hypothesize about why certain attributes are more important than others for a given classification task.\n",
    "\n",
    "> #### [10 points]"
   ]
  },
  {
   "cell_type": "code",
   "execution_count": null,
   "id": "16ce4f30",
   "metadata": {},
   "outputs": [],
   "source": []
  },
  {
   "cell_type": "code",
   "execution_count": null,
   "id": "884df7c9",
   "metadata": {},
   "outputs": [],
   "source": []
  },
  {
   "cell_type": "code",
   "execution_count": null,
   "id": "c1ea5331",
   "metadata": {},
   "outputs": [],
   "source": []
  },
  {
   "cell_type": "markdown",
   "id": "565d9493",
   "metadata": {},
   "source": [
    "# Deployment \n",
    "\n",
    "How useful is your model for interested parties (i.e., the companies or organizations that might want to use it for prediction)? How would you measure the model's value if it was used by these parties? How would your deploy your model for interested parties? What other data should be collected? How often would the model need to be updated, etc.?\n",
    "\n",
    "#### [5 points total]"
   ]
  },
  {
   "cell_type": "code",
   "execution_count": null,
   "id": "7be7f600",
   "metadata": {},
   "outputs": [],
   "source": []
  },
  {
   "cell_type": "code",
   "execution_count": null,
   "id": "e1039664",
   "metadata": {},
   "outputs": [],
   "source": []
  },
  {
   "cell_type": "code",
   "execution_count": null,
   "id": "5ed772be",
   "metadata": {},
   "outputs": [],
   "source": []
  },
  {
   "cell_type": "markdown",
   "id": "3690003b",
   "metadata": {},
   "source": [
    "# Exceptional Work \n",
    "\n",
    "You have free reign to provide additional modeling. One idea: grid search parameters in a parallelized fashion and visualize the performances across attributes. Which parameters are most significant for making a good model for each classification algorithm?\n",
    "\n",
    "#### [10 points total]"
   ]
  },
  {
   "cell_type": "code",
   "execution_count": null,
   "id": "531a63b3",
   "metadata": {},
   "outputs": [],
   "source": []
  }
 ],
 "metadata": {
  "kernelspec": {
   "display_name": "Python 3 (ipykernel)",
   "language": "python",
   "name": "python3"
  },
  "language_info": {
   "codemirror_mode": {
    "name": "ipython",
    "version": 3
   },
   "file_extension": ".py",
   "mimetype": "text/x-python",
   "name": "python",
   "nbconvert_exporter": "python",
   "pygments_lexer": "ipython3",
   "version": "3.8.12"
  }
 },
 "nbformat": 4,
 "nbformat_minor": 5
}

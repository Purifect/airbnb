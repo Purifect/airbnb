{
 "metadata": {
  "language_info": {
   "codemirror_mode": {
    "name": "ipython",
    "version": 3
   },
   "file_extension": ".py",
   "mimetype": "text/x-python",
   "name": "python",
   "nbconvert_exporter": "python",
   "pygments_lexer": "ipython3",
   "version": "3.8.2"
  },
  "orig_nbformat": 4,
  "kernelspec": {
   "name": "python3",
   "display_name": "Python 3.8.2 64-bit ('ML7331': conda)"
  },
  "interpreter": {
   "hash": "cbda91dd9203448bc32b4be90dc652a7612a0a1c1eadb39ecd15f24cd65e5247"
  }
 },
 "nbformat": 4,
 "nbformat_minor": 2,
 "cells": [
  {
   "cell_type": "code",
   "execution_count": 14,
   "metadata": {},
   "outputs": [],
   "source": [
    "import numpy as np\n",
    "import pandas as pd\n",
    "import matplotlib.pyplot as plt"
   ]
  },
  {
   "cell_type": "code",
   "execution_count": 21,
   "metadata": {},
   "outputs": [],
   "source": [
    "from IPython.core.interactiveshell import InteractiveShell\n",
    "InteractiveShell.ast_node_interactivity = \"all\""
   ]
  },
  {
   "cell_type": "code",
   "execution_count": 2,
   "metadata": {},
   "outputs": [],
   "source": [
    "listings=pd.read_csv(\"https://raw.githubusercontent.com/rickfontenot/airbnb/main/airbnb_nyc_listings.csv?token=ARN5NNHQQO5DGH6T72FBV2DBGD342\")"
   ]
  },
  {
   "cell_type": "code",
   "execution_count": 6,
   "metadata": {},
   "outputs": [
    {
     "output_type": "execute_result",
     "data": {
      "text/plain": [
       "(36724, 58)"
      ]
     },
     "metadata": {},
     "execution_count": 6
    }
   ],
   "source": [
    "listings_reduced = listings[['id', 'host_id', \n",
    "       'host_name', 'host_since', \n",
    "       'host_response_time', 'host_response_rate', 'host_acceptance_rate',\n",
    "       'host_is_superhost', \n",
    "       'host_neighbourhood', 'host_listings_count',\n",
    "       'host_total_listings_count', 'host_verifications',\n",
    "       'host_has_profile_pic', 'host_identity_verified', 'neighbourhood',\n",
    "       'neighbourhood_cleansed', 'neighbourhood_group_cleansed', 'latitude',\n",
    "       'longitude', 'property_type', 'room_type', 'accommodates', #'bathrooms',\n",
    "       'bathrooms_text', 'bedrooms', 'beds', 'amenities', 'price',\n",
    "       'minimum_nights', 'maximum_nights', 'minimum_minimum_nights',\n",
    "       'maximum_minimum_nights', 'minimum_maximum_nights',\n",
    "       'maximum_maximum_nights', 'minimum_nights_avg_ntm',\n",
    "       'maximum_nights_avg_ntm', 'has_availability',\n",
    "       'availability_30', 'availability_60', 'availability_90',\n",
    "       'availability_365', 'number_of_reviews',\n",
    "       'number_of_reviews_ltm', 'number_of_reviews_l30d', 'first_review',\n",
    "       'last_review', 'review_scores_rating', 'review_scores_accuracy',\n",
    "       'review_scores_cleanliness', 'review_scores_checkin',\n",
    "       'review_scores_communication', 'review_scores_location',\n",
    "       'review_scores_value', #'license', \n",
    "       'instant_bookable',\n",
    "       'calculated_host_listings_count',\n",
    "       'calculated_host_listings_count_entire_homes',\n",
    "       'calculated_host_listings_count_private_rooms',\n",
    "       'calculated_host_listings_count_shared_rooms', 'reviews_per_month']]\n",
    "\n",
    "listings_reduced.shape\n"
   ]
  },
  {
   "cell_type": "code",
   "execution_count": 7,
   "metadata": {},
   "outputs": [
    {
     "output_type": "stream",
     "name": "stdout",
     "text": [
      "<class 'pandas.core.frame.DataFrame'>\nRangeIndex: 36724 entries, 0 to 36723\nData columns (total 58 columns):\n #   Column                                        Non-Null Count  Dtype  \n---  ------                                        --------------  -----  \n 0   id                                            36724 non-null  int64  \n 1   host_id                                       36724 non-null  int64  \n 2   host_name                                     36701 non-null  object \n 3   host_since                                    36701 non-null  object \n 4   host_response_time                            21048 non-null  object \n 5   host_response_rate                            21048 non-null  object \n 6   host_acceptance_rate                          21538 non-null  object \n 7   host_is_superhost                             36701 non-null  object \n 8   host_neighbourhood                            29853 non-null  object \n 9   host_listings_count                           36701 non-null  float64\n 10  host_total_listings_count                     36701 non-null  float64\n 11  host_verifications                            36724 non-null  object \n 12  host_has_profile_pic                          36701 non-null  object \n 13  host_identity_verified                        36701 non-null  object \n 14  neighbourhood                                 22592 non-null  object \n 15  neighbourhood_cleansed                        36724 non-null  object \n 16  neighbourhood_group_cleansed                  36724 non-null  object \n 17  latitude                                      36724 non-null  float64\n 18  longitude                                     36724 non-null  float64\n 19  property_type                                 36724 non-null  object \n 20  room_type                                     36724 non-null  object \n 21  accommodates                                  36724 non-null  int64  \n 22  bathrooms_text                                36615 non-null  object \n 23  bedrooms                                      32855 non-null  float64\n 24  beds                                          36130 non-null  float64\n 25  amenities                                     36724 non-null  object \n 26  price                                         36724 non-null  object \n 27  minimum_nights                                36724 non-null  int64  \n 28  maximum_nights                                36724 non-null  int64  \n 29  minimum_minimum_nights                        36707 non-null  float64\n 30  maximum_minimum_nights                        36707 non-null  float64\n 31  minimum_maximum_nights                        36707 non-null  float64\n 32  maximum_maximum_nights                        36707 non-null  float64\n 33  minimum_nights_avg_ntm                        36707 non-null  float64\n 34  maximum_nights_avg_ntm                        36707 non-null  float64\n 35  has_availability                              36724 non-null  object \n 36  availability_30                               36724 non-null  int64  \n 37  availability_60                               36724 non-null  int64  \n 38  availability_90                               36724 non-null  int64  \n 39  availability_365                              36724 non-null  int64  \n 40  number_of_reviews                             36724 non-null  int64  \n 41  number_of_reviews_ltm                         36724 non-null  int64  \n 42  number_of_reviews_l30d                        36724 non-null  int64  \n 43  first_review                                  27309 non-null  object \n 44  last_review                                   27309 non-null  object \n 45  review_scores_rating                          27309 non-null  float64\n 46  review_scores_accuracy                        26661 non-null  float64\n 47  review_scores_cleanliness                     26672 non-null  float64\n 48  review_scores_checkin                         26653 non-null  float64\n 49  review_scores_communication                   26664 non-null  float64\n 50  review_scores_location                        26649 non-null  float64\n 51  review_scores_value                           26649 non-null  float64\n 52  instant_bookable                              36724 non-null  object \n 53  calculated_host_listings_count                36724 non-null  int64  \n 54  calculated_host_listings_count_entire_homes   36724 non-null  int64  \n 55  calculated_host_listings_count_private_rooms  36724 non-null  int64  \n 56  calculated_host_listings_count_shared_rooms   36724 non-null  int64  \n 57  reviews_per_month                             27309 non-null  float64\ndtypes: float64(20), int64(16), object(22)\nmemory usage: 16.3+ MB\n"
     ]
    }
   ],
   "source": [
    "listings_reduced.info()"
   ]
  },
  {
   "cell_type": "code",
   "execution_count": 11,
   "metadata": {},
   "outputs": [
    {
     "output_type": "stream",
     "name": "stdout",
     "text": [
      "<class 'pandas.core.frame.DataFrame'>\nRangeIndex: 36724 entries, 0 to 36723\nData columns (total 36 columns):\n #   Column                                        Non-Null Count  Dtype  \n---  ------                                        --------------  -----  \n 0   id                                            36724 non-null  int64  \n 1   host_id                                       36724 non-null  int64  \n 2   host_listings_count                           36701 non-null  float64\n 3   host_total_listings_count                     36701 non-null  float64\n 4   latitude                                      36724 non-null  float64\n 5   longitude                                     36724 non-null  float64\n 6   accommodates                                  36724 non-null  int64  \n 7   bedrooms                                      32855 non-null  float64\n 8   beds                                          36130 non-null  float64\n 9   minimum_nights                                36724 non-null  int64  \n 10  maximum_nights                                36724 non-null  int64  \n 11  minimum_minimum_nights                        36707 non-null  float64\n 12  maximum_minimum_nights                        36707 non-null  float64\n 13  minimum_maximum_nights                        36707 non-null  float64\n 14  maximum_maximum_nights                        36707 non-null  float64\n 15  minimum_nights_avg_ntm                        36707 non-null  float64\n 16  maximum_nights_avg_ntm                        36707 non-null  float64\n 17  availability_30                               36724 non-null  int64  \n 18  availability_60                               36724 non-null  int64  \n 19  availability_90                               36724 non-null  int64  \n 20  availability_365                              36724 non-null  int64  \n 21  number_of_reviews                             36724 non-null  int64  \n 22  number_of_reviews_ltm                         36724 non-null  int64  \n 23  number_of_reviews_l30d                        36724 non-null  int64  \n 24  review_scores_rating                          27309 non-null  float64\n 25  review_scores_accuracy                        26661 non-null  float64\n 26  review_scores_cleanliness                     26672 non-null  float64\n 27  review_scores_checkin                         26653 non-null  float64\n 28  review_scores_communication                   26664 non-null  float64\n 29  review_scores_location                        26649 non-null  float64\n 30  review_scores_value                           26649 non-null  float64\n 31  calculated_host_listings_count                36724 non-null  int64  \n 32  calculated_host_listings_count_entire_homes   36724 non-null  int64  \n 33  calculated_host_listings_count_private_rooms  36724 non-null  int64  \n 34  calculated_host_listings_count_shared_rooms   36724 non-null  int64  \n 35  reviews_per_month                             27309 non-null  float64\ndtypes: float64(20), int64(16)\nmemory usage: 10.1 MB\n"
     ]
    }
   ],
   "source": [
    "listings_num = listings_reduced.select_dtypes(include=np.number)\n",
    "listings_num.info()"
   ]
  },
  {
   "cell_type": "code",
   "execution_count": 12,
   "metadata": {},
   "outputs": [
    {
     "output_type": "execute_result",
     "data": {
      "text/plain": [
       "id                                                  0\n",
       "host_id                                             0\n",
       "host_listings_count                                23\n",
       "host_total_listings_count                          23\n",
       "latitude                                            0\n",
       "longitude                                           0\n",
       "accommodates                                        0\n",
       "bedrooms                                         3869\n",
       "beds                                              594\n",
       "minimum_nights                                      0\n",
       "maximum_nights                                      0\n",
       "minimum_minimum_nights                             17\n",
       "maximum_minimum_nights                             17\n",
       "minimum_maximum_nights                             17\n",
       "maximum_maximum_nights                             17\n",
       "minimum_nights_avg_ntm                             17\n",
       "maximum_nights_avg_ntm                             17\n",
       "availability_30                                     0\n",
       "availability_60                                     0\n",
       "availability_90                                     0\n",
       "availability_365                                    0\n",
       "number_of_reviews                                   0\n",
       "number_of_reviews_ltm                               0\n",
       "number_of_reviews_l30d                              0\n",
       "review_scores_rating                             9415\n",
       "review_scores_accuracy                          10063\n",
       "review_scores_cleanliness                       10052\n",
       "review_scores_checkin                           10071\n",
       "review_scores_communication                     10060\n",
       "review_scores_location                          10075\n",
       "review_scores_value                             10075\n",
       "calculated_host_listings_count                      0\n",
       "calculated_host_listings_count_entire_homes         0\n",
       "calculated_host_listings_count_private_rooms        0\n",
       "calculated_host_listings_count_shared_rooms         0\n",
       "reviews_per_month                                9415\n",
       "dtype: int64"
      ]
     },
     "metadata": {},
     "execution_count": 12
    }
   ],
   "source": [
    "listings_num.isna().sum()"
   ]
  },
  {
   "cell_type": "code",
   "execution_count": 22,
   "metadata": {},
   "outputs": [
    {
     "output_type": "execute_result",
     "data": {
      "text/plain": [
       "array([   0.,    1.,   14.,   27.,    3.,   23.,    2.,   15.,   25.,\n",
       "         58.,  -15.,    5.,   17.,   16.,   13.,   29.,    6.,    4.,\n",
       "          8.,  138.,    7.,   26.,   11.,   60.,   12.,    9.,  105.,\n",
       "        290.,   33.,  -27.,   10.,   28.,   21.,   -1.,   -2.,   18.,\n",
       "         30.,   22.,   -5.,  -28.,  179.,   19.,  -29.,   -3., -700.,\n",
       "         34.,   20., -640.,   50.,  -26.,  -30.,   nan,  233.,  305.,\n",
       "         24.,  144.,  -60.,  142.,   55.,  116.,  135.,   37.])"
      ]
     },
     "metadata": {},
     "execution_count": 22
    },
    {
     "output_type": "execute_result",
     "data": {
      "text/plain": [
       " 0.0      35664\n",
       " 1.0        359\n",
       " 2.0        188\n",
       " 5.0        121\n",
       " 3.0         76\n",
       "          ...  \n",
       "-27.0         1\n",
       " 33.0         1\n",
       " 105.0        1\n",
       " 13.0         1\n",
       " 37.0         1\n",
       "Length: 61, dtype: int64"
      ]
     },
     "metadata": {},
     "execution_count": 22
    },
    {
     "output_type": "execute_result",
     "data": {
      "text/plain": [
       "(array([2.1000e+01, 0.0000e+00, 0.0000e+00, 0.0000e+00, 0.0000e+00,\n",
       "        0.0000e+00, 3.6355e+04, 3.2000e+02, 7.0000e+00, 4.0000e+00]),\n",
       " array([-700. , -599.5, -499. , -398.5, -298. , -197.5,  -97. ,    3.5,\n",
       "         104. ,  204.5,  305. ]),\n",
       " <BarContainer object of 10 artists>)"
      ]
     },
     "metadata": {},
     "execution_count": 22
    },
    {
     "output_type": "display_data",
     "data": {
      "text/plain": "<Figure size 432x288 with 1 Axes>",
      "image/svg+xml": "<?xml version=\"1.0\" encoding=\"utf-8\" standalone=\"no\"?>\n<!DOCTYPE svg PUBLIC \"-//W3C//DTD SVG 1.1//EN\"\n  \"http://www.w3.org/Graphics/SVG/1.1/DTD/svg11.dtd\">\n<svg height=\"248.518125pt\" version=\"1.1\" viewBox=\"0 0 388.0125 248.518125\" width=\"388.0125pt\" xmlns=\"http://www.w3.org/2000/svg\" xmlns:xlink=\"http://www.w3.org/1999/xlink\">\n <metadata>\n  <rdf:RDF xmlns:cc=\"http://creativecommons.org/ns#\" xmlns:dc=\"http://purl.org/dc/elements/1.1/\" xmlns:rdf=\"http://www.w3.org/1999/02/22-rdf-syntax-ns#\">\n   <cc:Work>\n    <dc:type rdf:resource=\"http://purl.org/dc/dcmitype/StillImage\"/>\n    <dc:date>2021-09-07T21:52:42.153709</dc:date>\n    <dc:format>image/svg+xml</dc:format>\n    <dc:creator>\n     <cc:Agent>\n      <dc:title>Matplotlib v3.4.3, https://matplotlib.org/</dc:title>\n     </cc:Agent>\n    </dc:creator>\n   </cc:Work>\n  </rdf:RDF>\n </metadata>\n <defs>\n  <style type=\"text/css\">*{stroke-linecap:butt;stroke-linejoin:round;}</style>\n </defs>\n <g id=\"figure_1\">\n  <g id=\"patch_1\">\n   <path d=\"M 0 248.518125 \nL 388.0125 248.518125 \nL 388.0125 0 \nL 0 0 \nz\n\" style=\"fill:none;\"/>\n  </g>\n  <g id=\"axes_1\">\n   <g id=\"patch_2\">\n    <path d=\"M 46.0125 224.64 \nL 380.8125 224.64 \nL 380.8125 7.2 \nL 46.0125 7.2 \nz\n\" style=\"fill:#ffffff;\"/>\n   </g>\n   <g id=\"patch_3\">\n    <path clip-path=\"url(#pc2fc690730)\" d=\"M 61.230682 224.64 \nL 91.667045 224.64 \nL 91.667045 224.52038 \nL 61.230682 224.52038 \nz\n\" style=\"fill:#1f77b4;\"/>\n   </g>\n   <g id=\"patch_4\">\n    <path clip-path=\"url(#pc2fc690730)\" d=\"M 91.667045 224.64 \nL 122.103409 224.64 \nL 122.103409 224.64 \nL 91.667045 224.64 \nz\n\" style=\"fill:#1f77b4;\"/>\n   </g>\n   <g id=\"patch_5\">\n    <path clip-path=\"url(#pc2fc690730)\" d=\"M 122.103409 224.64 \nL 152.539773 224.64 \nL 152.539773 224.64 \nL 122.103409 224.64 \nz\n\" style=\"fill:#1f77b4;\"/>\n   </g>\n   <g id=\"patch_6\">\n    <path clip-path=\"url(#pc2fc690730)\" d=\"M 152.539773 224.64 \nL 182.976136 224.64 \nL 182.976136 224.64 \nL 152.539773 224.64 \nz\n\" style=\"fill:#1f77b4;\"/>\n   </g>\n   <g id=\"patch_7\">\n    <path clip-path=\"url(#pc2fc690730)\" d=\"M 182.976136 224.64 \nL 213.4125 224.64 \nL 213.4125 224.64 \nL 182.976136 224.64 \nz\n\" style=\"fill:#1f77b4;\"/>\n   </g>\n   <g id=\"patch_8\">\n    <path clip-path=\"url(#pc2fc690730)\" d=\"M 213.4125 224.64 \nL 243.848864 224.64 \nL 243.848864 224.64 \nL 213.4125 224.64 \nz\n\" style=\"fill:#1f77b4;\"/>\n   </g>\n   <g id=\"patch_9\">\n    <path clip-path=\"url(#pc2fc690730)\" d=\"M 243.848864 224.64 \nL 274.285227 224.64 \nL 274.285227 17.554286 \nL 243.848864 17.554286 \nz\n\" style=\"fill:#1f77b4;\"/>\n   </g>\n   <g id=\"patch_10\">\n    <path clip-path=\"url(#pc2fc690730)\" d=\"M 274.285227 224.64 \nL 304.721591 224.64 \nL 304.721591 222.817213 \nL 274.285227 222.817213 \nz\n\" style=\"fill:#1f77b4;\"/>\n   </g>\n   <g id=\"patch_11\">\n    <path clip-path=\"url(#pc2fc690730)\" d=\"M 304.721591 224.64 \nL 335.157955 224.64 \nL 335.157955 224.600127 \nL 304.721591 224.600127 \nz\n\" style=\"fill:#1f77b4;\"/>\n   </g>\n   <g id=\"patch_12\">\n    <path clip-path=\"url(#pc2fc690730)\" d=\"M 335.157955 224.64 \nL 365.594318 224.64 \nL 365.594318 224.617215 \nL 335.157955 224.617215 \nz\n\" style=\"fill:#1f77b4;\"/>\n   </g>\n   <g id=\"matplotlib.axis_1\">\n    <g id=\"xtick_1\">\n     <g id=\"line2d_1\">\n      <defs>\n       <path d=\"M 0 0 \nL 0 3.5 \n\" id=\"m35b05b3224\" style=\"stroke:#000000;stroke-width:0.8;\"/>\n      </defs>\n      <g>\n       <use style=\"stroke:#000000;stroke-width:0.8;\" x=\"91.515621\" xlink:href=\"#m35b05b3224\" y=\"224.64\"/>\n      </g>\n     </g>\n     <g id=\"text_1\">\n      <!-- −600 -->\n      <g transform=\"translate(77.782027 239.238437)scale(0.1 -0.1)\">\n       <defs>\n        <path d=\"M 678 2272 \nL 4684 2272 \nL 4684 1741 \nL 678 1741 \nL 678 2272 \nz\n\" id=\"DejaVuSans-2212\" transform=\"scale(0.015625)\"/>\n        <path d=\"M 2113 2584 \nQ 1688 2584 1439 2293 \nQ 1191 2003 1191 1497 \nQ 1191 994 1439 701 \nQ 1688 409 2113 409 \nQ 2538 409 2786 701 \nQ 3034 994 3034 1497 \nQ 3034 2003 2786 2293 \nQ 2538 2584 2113 2584 \nz\nM 3366 4563 \nL 3366 3988 \nQ 3128 4100 2886 4159 \nQ 2644 4219 2406 4219 \nQ 1781 4219 1451 3797 \nQ 1122 3375 1075 2522 \nQ 1259 2794 1537 2939 \nQ 1816 3084 2150 3084 \nQ 2853 3084 3261 2657 \nQ 3669 2231 3669 1497 \nQ 3669 778 3244 343 \nQ 2819 -91 2113 -91 \nQ 1303 -91 875 529 \nQ 447 1150 447 2328 \nQ 447 3434 972 4092 \nQ 1497 4750 2381 4750 \nQ 2619 4750 2861 4703 \nQ 3103 4656 3366 4563 \nz\n\" id=\"DejaVuSans-36\" transform=\"scale(0.015625)\"/>\n        <path d=\"M 2034 4250 \nQ 1547 4250 1301 3770 \nQ 1056 3291 1056 2328 \nQ 1056 1369 1301 889 \nQ 1547 409 2034 409 \nQ 2525 409 2770 889 \nQ 3016 1369 3016 2328 \nQ 3016 3291 2770 3770 \nQ 2525 4250 2034 4250 \nz\nM 2034 4750 \nQ 2819 4750 3233 4129 \nQ 3647 3509 3647 2328 \nQ 3647 1150 3233 529 \nQ 2819 -91 2034 -91 \nQ 1250 -91 836 529 \nQ 422 1150 422 2328 \nQ 422 3509 836 4129 \nQ 1250 4750 2034 4750 \nz\n\" id=\"DejaVuSans-30\" transform=\"scale(0.015625)\"/>\n       </defs>\n       <use xlink:href=\"#DejaVuSans-2212\"/>\n       <use x=\"83.789062\" xlink:href=\"#DejaVuSans-36\"/>\n       <use x=\"147.412109\" xlink:href=\"#DejaVuSans-30\"/>\n       <use x=\"211.035156\" xlink:href=\"#DejaVuSans-30\"/>\n      </g>\n     </g>\n    </g>\n    <g id=\"xtick_2\">\n     <g id=\"line2d_2\">\n      <g>\n       <use style=\"stroke:#000000;stroke-width:0.8;\" x=\"152.085499\" xlink:href=\"#m35b05b3224\" y=\"224.64\"/>\n      </g>\n     </g>\n     <g id=\"text_2\">\n      <!-- −400 -->\n      <g transform=\"translate(138.351905 239.238437)scale(0.1 -0.1)\">\n       <defs>\n        <path d=\"M 2419 4116 \nL 825 1625 \nL 2419 1625 \nL 2419 4116 \nz\nM 2253 4666 \nL 3047 4666 \nL 3047 1625 \nL 3713 1625 \nL 3713 1100 \nL 3047 1100 \nL 3047 0 \nL 2419 0 \nL 2419 1100 \nL 313 1100 \nL 313 1709 \nL 2253 4666 \nz\n\" id=\"DejaVuSans-34\" transform=\"scale(0.015625)\"/>\n       </defs>\n       <use xlink:href=\"#DejaVuSans-2212\"/>\n       <use x=\"83.789062\" xlink:href=\"#DejaVuSans-34\"/>\n       <use x=\"147.412109\" xlink:href=\"#DejaVuSans-30\"/>\n       <use x=\"211.035156\" xlink:href=\"#DejaVuSans-30\"/>\n      </g>\n     </g>\n    </g>\n    <g id=\"xtick_3\">\n     <g id=\"line2d_3\">\n      <g>\n       <use style=\"stroke:#000000;stroke-width:0.8;\" x=\"212.655377\" xlink:href=\"#m35b05b3224\" y=\"224.64\"/>\n      </g>\n     </g>\n     <g id=\"text_3\">\n      <!-- −200 -->\n      <g transform=\"translate(198.921783 239.238437)scale(0.1 -0.1)\">\n       <defs>\n        <path d=\"M 1228 531 \nL 3431 531 \nL 3431 0 \nL 469 0 \nL 469 531 \nQ 828 903 1448 1529 \nQ 2069 2156 2228 2338 \nQ 2531 2678 2651 2914 \nQ 2772 3150 2772 3378 \nQ 2772 3750 2511 3984 \nQ 2250 4219 1831 4219 \nQ 1534 4219 1204 4116 \nQ 875 4013 500 3803 \nL 500 4441 \nQ 881 4594 1212 4672 \nQ 1544 4750 1819 4750 \nQ 2544 4750 2975 4387 \nQ 3406 4025 3406 3419 \nQ 3406 3131 3298 2873 \nQ 3191 2616 2906 2266 \nQ 2828 2175 2409 1742 \nQ 1991 1309 1228 531 \nz\n\" id=\"DejaVuSans-32\" transform=\"scale(0.015625)\"/>\n       </defs>\n       <use xlink:href=\"#DejaVuSans-2212\"/>\n       <use x=\"83.789062\" xlink:href=\"#DejaVuSans-32\"/>\n       <use x=\"147.412109\" xlink:href=\"#DejaVuSans-30\"/>\n       <use x=\"211.035156\" xlink:href=\"#DejaVuSans-30\"/>\n      </g>\n     </g>\n    </g>\n    <g id=\"xtick_4\">\n     <g id=\"line2d_4\">\n      <g>\n       <use style=\"stroke:#000000;stroke-width:0.8;\" x=\"273.225254\" xlink:href=\"#m35b05b3224\" y=\"224.64\"/>\n      </g>\n     </g>\n     <g id=\"text_4\">\n      <!-- 0 -->\n      <g transform=\"translate(270.044004 239.238437)scale(0.1 -0.1)\">\n       <use xlink:href=\"#DejaVuSans-30\"/>\n      </g>\n     </g>\n    </g>\n    <g id=\"xtick_5\">\n     <g id=\"line2d_5\">\n      <g>\n       <use style=\"stroke:#000000;stroke-width:0.8;\" x=\"333.795132\" xlink:href=\"#m35b05b3224\" y=\"224.64\"/>\n      </g>\n     </g>\n     <g id=\"text_5\">\n      <!-- 200 -->\n      <g transform=\"translate(324.251382 239.238437)scale(0.1 -0.1)\">\n       <use xlink:href=\"#DejaVuSans-32\"/>\n       <use x=\"63.623047\" xlink:href=\"#DejaVuSans-30\"/>\n       <use x=\"127.246094\" xlink:href=\"#DejaVuSans-30\"/>\n      </g>\n     </g>\n    </g>\n   </g>\n   <g id=\"matplotlib.axis_2\">\n    <g id=\"ytick_1\">\n     <g id=\"line2d_6\">\n      <defs>\n       <path d=\"M 0 0 \nL -3.5 0 \n\" id=\"m3b6d608dc9\" style=\"stroke:#000000;stroke-width:0.8;\"/>\n      </defs>\n      <g>\n       <use style=\"stroke:#000000;stroke-width:0.8;\" x=\"46.0125\" xlink:href=\"#m3b6d608dc9\" y=\"224.64\"/>\n      </g>\n     </g>\n     <g id=\"text_6\">\n      <!-- 0 -->\n      <g transform=\"translate(32.65 228.439219)scale(0.1 -0.1)\">\n       <use xlink:href=\"#DejaVuSans-30\"/>\n      </g>\n     </g>\n    </g>\n    <g id=\"ytick_2\">\n     <g id=\"line2d_7\">\n      <g>\n       <use style=\"stroke:#000000;stroke-width:0.8;\" x=\"46.0125\" xlink:href=\"#m3b6d608dc9\" y=\"196.15895\"/>\n      </g>\n     </g>\n     <g id=\"text_7\">\n      <!-- 5000 -->\n      <g transform=\"translate(13.5625 199.958169)scale(0.1 -0.1)\">\n       <defs>\n        <path d=\"M 691 4666 \nL 3169 4666 \nL 3169 4134 \nL 1269 4134 \nL 1269 2991 \nQ 1406 3038 1543 3061 \nQ 1681 3084 1819 3084 \nQ 2600 3084 3056 2656 \nQ 3513 2228 3513 1497 \nQ 3513 744 3044 326 \nQ 2575 -91 1722 -91 \nQ 1428 -91 1123 -41 \nQ 819 9 494 109 \nL 494 744 \nQ 775 591 1075 516 \nQ 1375 441 1709 441 \nQ 2250 441 2565 725 \nQ 2881 1009 2881 1497 \nQ 2881 1984 2565 2268 \nQ 2250 2553 1709 2553 \nQ 1456 2553 1204 2497 \nQ 953 2441 691 2322 \nL 691 4666 \nz\n\" id=\"DejaVuSans-35\" transform=\"scale(0.015625)\"/>\n       </defs>\n       <use xlink:href=\"#DejaVuSans-35\"/>\n       <use x=\"63.623047\" xlink:href=\"#DejaVuSans-30\"/>\n       <use x=\"127.246094\" xlink:href=\"#DejaVuSans-30\"/>\n       <use x=\"190.869141\" xlink:href=\"#DejaVuSans-30\"/>\n      </g>\n     </g>\n    </g>\n    <g id=\"ytick_3\">\n     <g id=\"line2d_8\">\n      <g>\n       <use style=\"stroke:#000000;stroke-width:0.8;\" x=\"46.0125\" xlink:href=\"#m3b6d608dc9\" y=\"167.6779\"/>\n      </g>\n     </g>\n     <g id=\"text_8\">\n      <!-- 10000 -->\n      <g transform=\"translate(7.2 171.477119)scale(0.1 -0.1)\">\n       <defs>\n        <path d=\"M 794 531 \nL 1825 531 \nL 1825 4091 \nL 703 3866 \nL 703 4441 \nL 1819 4666 \nL 2450 4666 \nL 2450 531 \nL 3481 531 \nL 3481 0 \nL 794 0 \nL 794 531 \nz\n\" id=\"DejaVuSans-31\" transform=\"scale(0.015625)\"/>\n       </defs>\n       <use xlink:href=\"#DejaVuSans-31\"/>\n       <use x=\"63.623047\" xlink:href=\"#DejaVuSans-30\"/>\n       <use x=\"127.246094\" xlink:href=\"#DejaVuSans-30\"/>\n       <use x=\"190.869141\" xlink:href=\"#DejaVuSans-30\"/>\n       <use x=\"254.492188\" xlink:href=\"#DejaVuSans-30\"/>\n      </g>\n     </g>\n    </g>\n    <g id=\"ytick_4\">\n     <g id=\"line2d_9\">\n      <g>\n       <use style=\"stroke:#000000;stroke-width:0.8;\" x=\"46.0125\" xlink:href=\"#m3b6d608dc9\" y=\"139.19685\"/>\n      </g>\n     </g>\n     <g id=\"text_9\">\n      <!-- 15000 -->\n      <g transform=\"translate(7.2 142.996069)scale(0.1 -0.1)\">\n       <use xlink:href=\"#DejaVuSans-31\"/>\n       <use x=\"63.623047\" xlink:href=\"#DejaVuSans-35\"/>\n       <use x=\"127.246094\" xlink:href=\"#DejaVuSans-30\"/>\n       <use x=\"190.869141\" xlink:href=\"#DejaVuSans-30\"/>\n       <use x=\"254.492188\" xlink:href=\"#DejaVuSans-30\"/>\n      </g>\n     </g>\n    </g>\n    <g id=\"ytick_5\">\n     <g id=\"line2d_10\">\n      <g>\n       <use style=\"stroke:#000000;stroke-width:0.8;\" x=\"46.0125\" xlink:href=\"#m3b6d608dc9\" y=\"110.7158\"/>\n      </g>\n     </g>\n     <g id=\"text_10\">\n      <!-- 20000 -->\n      <g transform=\"translate(7.2 114.515019)scale(0.1 -0.1)\">\n       <use xlink:href=\"#DejaVuSans-32\"/>\n       <use x=\"63.623047\" xlink:href=\"#DejaVuSans-30\"/>\n       <use x=\"127.246094\" xlink:href=\"#DejaVuSans-30\"/>\n       <use x=\"190.869141\" xlink:href=\"#DejaVuSans-30\"/>\n       <use x=\"254.492188\" xlink:href=\"#DejaVuSans-30\"/>\n      </g>\n     </g>\n    </g>\n    <g id=\"ytick_6\">\n     <g id=\"line2d_11\">\n      <g>\n       <use style=\"stroke:#000000;stroke-width:0.8;\" x=\"46.0125\" xlink:href=\"#m3b6d608dc9\" y=\"82.23475\"/>\n      </g>\n     </g>\n     <g id=\"text_11\">\n      <!-- 25000 -->\n      <g transform=\"translate(7.2 86.033969)scale(0.1 -0.1)\">\n       <use xlink:href=\"#DejaVuSans-32\"/>\n       <use x=\"63.623047\" xlink:href=\"#DejaVuSans-35\"/>\n       <use x=\"127.246094\" xlink:href=\"#DejaVuSans-30\"/>\n       <use x=\"190.869141\" xlink:href=\"#DejaVuSans-30\"/>\n       <use x=\"254.492188\" xlink:href=\"#DejaVuSans-30\"/>\n      </g>\n     </g>\n    </g>\n    <g id=\"ytick_7\">\n     <g id=\"line2d_12\">\n      <g>\n       <use style=\"stroke:#000000;stroke-width:0.8;\" x=\"46.0125\" xlink:href=\"#m3b6d608dc9\" y=\"53.7537\"/>\n      </g>\n     </g>\n     <g id=\"text_12\">\n      <!-- 30000 -->\n      <g transform=\"translate(7.2 57.552919)scale(0.1 -0.1)\">\n       <defs>\n        <path d=\"M 2597 2516 \nQ 3050 2419 3304 2112 \nQ 3559 1806 3559 1356 \nQ 3559 666 3084 287 \nQ 2609 -91 1734 -91 \nQ 1441 -91 1130 -33 \nQ 819 25 488 141 \nL 488 750 \nQ 750 597 1062 519 \nQ 1375 441 1716 441 \nQ 2309 441 2620 675 \nQ 2931 909 2931 1356 \nQ 2931 1769 2642 2001 \nQ 2353 2234 1838 2234 \nL 1294 2234 \nL 1294 2753 \nL 1863 2753 \nQ 2328 2753 2575 2939 \nQ 2822 3125 2822 3475 \nQ 2822 3834 2567 4026 \nQ 2313 4219 1838 4219 \nQ 1578 4219 1281 4162 \nQ 984 4106 628 3988 \nL 628 4550 \nQ 988 4650 1302 4700 \nQ 1616 4750 1894 4750 \nQ 2613 4750 3031 4423 \nQ 3450 4097 3450 3541 \nQ 3450 3153 3228 2886 \nQ 3006 2619 2597 2516 \nz\n\" id=\"DejaVuSans-33\" transform=\"scale(0.015625)\"/>\n       </defs>\n       <use xlink:href=\"#DejaVuSans-33\"/>\n       <use x=\"63.623047\" xlink:href=\"#DejaVuSans-30\"/>\n       <use x=\"127.246094\" xlink:href=\"#DejaVuSans-30\"/>\n       <use x=\"190.869141\" xlink:href=\"#DejaVuSans-30\"/>\n       <use x=\"254.492188\" xlink:href=\"#DejaVuSans-30\"/>\n      </g>\n     </g>\n    </g>\n    <g id=\"ytick_8\">\n     <g id=\"line2d_13\">\n      <g>\n       <use style=\"stroke:#000000;stroke-width:0.8;\" x=\"46.0125\" xlink:href=\"#m3b6d608dc9\" y=\"25.27265\"/>\n      </g>\n     </g>\n     <g id=\"text_13\">\n      <!-- 35000 -->\n      <g transform=\"translate(7.2 29.071869)scale(0.1 -0.1)\">\n       <use xlink:href=\"#DejaVuSans-33\"/>\n       <use x=\"63.623047\" xlink:href=\"#DejaVuSans-35\"/>\n       <use x=\"127.246094\" xlink:href=\"#DejaVuSans-30\"/>\n       <use x=\"190.869141\" xlink:href=\"#DejaVuSans-30\"/>\n       <use x=\"254.492188\" xlink:href=\"#DejaVuSans-30\"/>\n      </g>\n     </g>\n    </g>\n   </g>\n   <g id=\"patch_13\">\n    <path d=\"M 46.0125 224.64 \nL 46.0125 7.2 \n\" style=\"fill:none;stroke:#000000;stroke-linecap:square;stroke-linejoin:miter;stroke-width:0.8;\"/>\n   </g>\n   <g id=\"patch_14\">\n    <path d=\"M 380.8125 224.64 \nL 380.8125 7.2 \n\" style=\"fill:none;stroke:#000000;stroke-linecap:square;stroke-linejoin:miter;stroke-width:0.8;\"/>\n   </g>\n   <g id=\"patch_15\">\n    <path d=\"M 46.0125 224.64 \nL 380.8125 224.64 \n\" style=\"fill:none;stroke:#000000;stroke-linecap:square;stroke-linejoin:miter;stroke-width:0.8;\"/>\n   </g>\n   <g id=\"patch_16\">\n    <path d=\"M 46.0125 7.2 \nL 380.8125 7.2 \n\" style=\"fill:none;stroke:#000000;stroke-linecap:square;stroke-linejoin:miter;stroke-width:0.8;\"/>\n   </g>\n  </g>\n </g>\n <defs>\n  <clipPath id=\"pc2fc690730\">\n   <rect height=\"217.44\" width=\"334.8\" x=\"46.0125\" y=\"7.2\"/>\n  </clipPath>\n </defs>\n</svg>\n",
      "image/png": "[encoded data removed]"
     },
     "metadata": {
      "needs_background": "light"
     }
    }
   ],
   "source": [
    "minN_minus_minMinN = listings_num.minimum_nights - listings_num.minimum_minimum_nights\n",
    "minN_minus_minMinN.unique()\n",
    "minN_minus_minMinN.value_counts()\n",
    "\n",
    "plt.hist(minN_minus_minMinN)"
   ]
  },
  {
   "cell_type": "code",
   "execution_count": 25,
   "metadata": {},
   "outputs": [
    {
     "output_type": "execute_result",
     "data": {
      "text/plain": [
       "array([   0.,   -2.,  -29.,  -17.,   -3.,   -1.,  -55.,   -4.,    3.,\n",
       "         -9.,  -15.,  -25.,  -90.,   -5.,  -21.,  -13.,  -28.,  -27.,\n",
       "        -11.,    2., -120.,  -60.,   60.,    1.,  -75.,  -80.,  -16.,\n",
       "        -10.,  -20.,  -23.,   -6.,  -45.,   -8.,    7.,  -70.,  -26.,\n",
       "         -7.,  -87.,  -86., -700.,  -19.,  -56., -176.,   23.,  -14.,\n",
       "       -100., -640.,   28., -115., -113.,  -30.,  -43.,   29.,   nan,\n",
       "        -59.,  -40., -670.,  -89.,  -49.])"
      ]
     },
     "metadata": {},
     "execution_count": 25
    },
    {
     "output_type": "execute_result",
     "data": {
      "text/plain": [
       " 0.0      35142\n",
       "-1.0        604\n",
       "-700.0      281\n",
       "-2.0        197\n",
       "-3.0         75\n",
       "-60.0        51\n",
       "-27.0        46\n",
       "-6.0         45\n",
       "-29.0        29\n",
       "-30.0        27\n",
       "-4.0         24\n",
       "-5.0         23\n",
       " 1.0         15\n",
       "-45.0        15\n",
       "-7.0         13\n",
       "-28.0         9\n",
       "-26.0         8\n",
       "-25.0         8\n",
       "-11.0         7\n",
       "-16.0         7\n",
       "-8.0          6\n",
       "-87.0         5\n",
       "-86.0         5\n",
       "-640.0        4\n",
       "-10.0         4\n",
       "-23.0         4\n",
       "-9.0          4\n",
       "-13.0         4\n",
       " 2.0          3\n",
       " 3.0          3\n",
       "-21.0         3\n",
       "-15.0         2\n",
       "-14.0         2\n",
       "-75.0         2\n",
       " 29.0         2\n",
       "-19.0         2\n",
       " 28.0         2\n",
       "-59.0         2\n",
       "-70.0         2\n",
       " 60.0         2\n",
       "-115.0        1\n",
       "-40.0         1\n",
       "-670.0        1\n",
       "-43.0         1\n",
       "-89.0         1\n",
       "-17.0         1\n",
       "-113.0        1\n",
       "-80.0         1\n",
       "-176.0        1\n",
       "-55.0         1\n",
       "-100.0        1\n",
       " 23.0         1\n",
       "-56.0         1\n",
       "-90.0         1\n",
       " 7.0          1\n",
       "-120.0        1\n",
       "-20.0         1\n",
       "-49.0         1\n",
       "dtype: int64"
      ]
     },
     "metadata": {},
     "execution_count": 25
    },
    {
     "output_type": "execute_result",
     "data": {
      "text/plain": [
       "(array([2.8600e+02, 0.0000e+00, 0.0000e+00, 0.0000e+00, 0.0000e+00,\n",
       "        0.0000e+00, 1.0000e+00, 4.0000e+00, 2.2800e+02, 3.6188e+04]),\n",
       " array([-700., -624., -548., -472., -396., -320., -244., -168.,  -92.,\n",
       "         -16.,   60.]),\n",
       " <BarContainer object of 10 artists>)"
      ]
     },
     "metadata": {},
     "execution_count": 25
    },
    {
     "output_type": "display_data",
     "data": {
      "text/plain": "<Figure size 432x288 with 1 Axes>",
      "image/svg+xml": "<?xml version=\"1.0\" encoding=\"utf-8\" standalone=\"no\"?>\n<!DOCTYPE svg PUBLIC \"-//W3C//DTD SVG 1.1//EN\"\n  \"http://www.w3.org/Graphics/SVG/1.1/DTD/svg11.dtd\">\n<svg height=\"248.518125pt\" version=\"1.1\" viewBox=\"0 0 388.0125 248.518125\" width=\"388.0125pt\" xmlns=\"http://www.w3.org/2000/svg\" xmlns:xlink=\"http://www.w3.org/1999/xlink\">\n <metadata>\n  <rdf:RDF xmlns:cc=\"http://creativecommons.org/ns#\" xmlns:dc=\"http://purl.org/dc/elements/1.1/\" xmlns:rdf=\"http://www.w3.org/1999/02/22-rdf-syntax-ns#\">\n   <cc:Work>\n    <dc:type rdf:resource=\"http://purl.org/dc/dcmitype/StillImage\"/>\n    <dc:date>2021-09-07T21:56:32.443467</dc:date>\n    <dc:format>image/svg+xml</dc:format>\n    <dc:creator>\n     <cc:Agent>\n      <dc:title>Matplotlib v3.4.3, https://matplotlib.org/</dc:title>\n     </cc:Agent>\n    </dc:creator>\n   </cc:Work>\n  </rdf:RDF>\n </metadata>\n <defs>\n  <style type=\"text/css\">*{stroke-linecap:butt;stroke-linejoin:round;}</style>\n </defs>\n <g id=\"figure_1\">\n  <g id=\"patch_1\">\n   <path d=\"M 0 248.518125 \nL 388.0125 248.518125 \nL 388.0125 0 \nL 0 0 \nz\n\" style=\"fill:none;\"/>\n  </g>\n  <g id=\"axes_1\">\n   <g id=\"patch_2\">\n    <path d=\"M 46.0125 224.64 \nL 380.8125 224.64 \nL 380.8125 7.2 \nL 46.0125 7.2 \nz\n\" style=\"fill:#ffffff;\"/>\n   </g>\n   <g id=\"patch_3\">\n    <path clip-path=\"url(#p0dd11c484b)\" d=\"M 61.230682 224.64 \nL 91.667045 224.64 \nL 91.667045 223.003366 \nL 61.230682 223.003366 \nz\n\" style=\"fill:#1f77b4;\"/>\n   </g>\n   <g id=\"patch_4\">\n    <path clip-path=\"url(#p0dd11c484b)\" d=\"M 91.667045 224.64 \nL 122.103409 224.64 \nL 122.103409 224.64 \nL 91.667045 224.64 \nz\n\" style=\"fill:#1f77b4;\"/>\n   </g>\n   <g id=\"patch_5\">\n    <path clip-path=\"url(#p0dd11c484b)\" d=\"M 122.103409 224.64 \nL 152.539773 224.64 \nL 152.539773 224.64 \nL 122.103409 224.64 \nz\n\" style=\"fill:#1f77b4;\"/>\n   </g>\n   <g id=\"patch_6\">\n    <path clip-path=\"url(#p0dd11c484b)\" d=\"M 152.539773 224.64 \nL 182.976136 224.64 \nL 182.976136 224.64 \nL 152.539773 224.64 \nz\n\" style=\"fill:#1f77b4;\"/>\n   </g>\n   <g id=\"patch_7\">\n    <path clip-path=\"url(#p0dd11c484b)\" d=\"M 182.976136 224.64 \nL 213.4125 224.64 \nL 213.4125 224.64 \nL 182.976136 224.64 \nz\n\" style=\"fill:#1f77b4;\"/>\n   </g>\n   <g id=\"patch_8\">\n    <path clip-path=\"url(#p0dd11c484b)\" d=\"M 213.4125 224.64 \nL 243.848864 224.64 \nL 243.848864 224.64 \nL 213.4125 224.64 \nz\n\" style=\"fill:#1f77b4;\"/>\n   </g>\n   <g id=\"patch_9\">\n    <path clip-path=\"url(#p0dd11c484b)\" d=\"M 243.848864 224.64 \nL 274.285227 224.64 \nL 274.285227 224.634278 \nL 243.848864 224.634278 \nz\n\" style=\"fill:#1f77b4;\"/>\n   </g>\n   <g id=\"patch_10\">\n    <path clip-path=\"url(#p0dd11c484b)\" d=\"M 274.285227 224.64 \nL 304.721591 224.64 \nL 304.721591 224.61711 \nL 274.285227 224.61711 \nz\n\" style=\"fill:#1f77b4;\"/>\n   </g>\n   <g id=\"patch_11\">\n    <path clip-path=\"url(#p0dd11c484b)\" d=\"M 304.721591 224.64 \nL 335.157955 224.64 \nL 335.157955 223.335271 \nL 304.721591 223.335271 \nz\n\" style=\"fill:#1f77b4;\"/>\n   </g>\n   <g id=\"patch_12\">\n    <path clip-path=\"url(#p0dd11c484b)\" d=\"M 335.157955 224.64 \nL 365.594318 224.64 \nL 365.594318 17.554286 \nL 335.157955 17.554286 \nz\n\" style=\"fill:#1f77b4;\"/>\n   </g>\n   <g id=\"matplotlib.axis_1\">\n    <g id=\"xtick_1\">\n     <g id=\"line2d_1\">\n      <defs>\n       <path d=\"M 0 0 \nL 0 3.5 \n\" id=\"m98fd02095e\" style=\"stroke:#000000;stroke-width:0.8;\"/>\n      </defs>\n      <g>\n       <use style=\"stroke:#000000;stroke-width:0.8;\" x=\"61.230682\" xlink:href=\"#m98fd02095e\" y=\"224.64\"/>\n      </g>\n     </g>\n     <g id=\"text_1\">\n      <!-- −700 -->\n      <g transform=\"translate(47.497088 239.238437)scale(0.1 -0.1)\">\n       <defs>\n        <path d=\"M 678 2272 \nL 4684 2272 \nL 4684 1741 \nL 678 1741 \nL 678 2272 \nz\n\" id=\"DejaVuSans-2212\" transform=\"scale(0.015625)\"/>\n        <path d=\"M 525 4666 \nL 3525 4666 \nL 3525 4397 \nL 1831 0 \nL 1172 0 \nL 2766 4134 \nL 525 4134 \nL 525 4666 \nz\n\" id=\"DejaVuSans-37\" transform=\"scale(0.015625)\"/>\n        <path d=\"M 2034 4250 \nQ 1547 4250 1301 3770 \nQ 1056 3291 1056 2328 \nQ 1056 1369 1301 889 \nQ 1547 409 2034 409 \nQ 2525 409 2770 889 \nQ 3016 1369 3016 2328 \nQ 3016 3291 2770 3770 \nQ 2525 4250 2034 4250 \nz\nM 2034 4750 \nQ 2819 4750 3233 4129 \nQ 3647 3509 3647 2328 \nQ 3647 1150 3233 529 \nQ 2819 -91 2034 -91 \nQ 1250 -91 836 529 \nQ 422 1150 422 2328 \nQ 422 3509 836 4129 \nQ 1250 4750 2034 4750 \nz\n\" id=\"DejaVuSans-30\" transform=\"scale(0.015625)\"/>\n       </defs>\n       <use xlink:href=\"#DejaVuSans-2212\"/>\n       <use x=\"83.789062\" xlink:href=\"#DejaVuSans-37\"/>\n       <use x=\"147.412109\" xlink:href=\"#DejaVuSans-30\"/>\n       <use x=\"211.035156\" xlink:href=\"#DejaVuSans-30\"/>\n      </g>\n     </g>\n    </g>\n    <g id=\"xtick_2\">\n     <g id=\"line2d_2\">\n      <g>\n       <use style=\"stroke:#000000;stroke-width:0.8;\" x=\"101.278529\" xlink:href=\"#m98fd02095e\" y=\"224.64\"/>\n      </g>\n     </g>\n     <g id=\"text_2\">\n      <!-- −600 -->\n      <g transform=\"translate(87.544935 239.238437)scale(0.1 -0.1)\">\n       <defs>\n        <path d=\"M 2113 2584 \nQ 1688 2584 1439 2293 \nQ 1191 2003 1191 1497 \nQ 1191 994 1439 701 \nQ 1688 409 2113 409 \nQ 2538 409 2786 701 \nQ 3034 994 3034 1497 \nQ 3034 2003 2786 2293 \nQ 2538 2584 2113 2584 \nz\nM 3366 4563 \nL 3366 3988 \nQ 3128 4100 2886 4159 \nQ 2644 4219 2406 4219 \nQ 1781 4219 1451 3797 \nQ 1122 3375 1075 2522 \nQ 1259 2794 1537 2939 \nQ 1816 3084 2150 3084 \nQ 2853 3084 3261 2657 \nQ 3669 2231 3669 1497 \nQ 3669 778 3244 343 \nQ 2819 -91 2113 -91 \nQ 1303 -91 875 529 \nQ 447 1150 447 2328 \nQ 447 3434 972 4092 \nQ 1497 4750 2381 4750 \nQ 2619 4750 2861 4703 \nQ 3103 4656 3366 4563 \nz\n\" id=\"DejaVuSans-36\" transform=\"scale(0.015625)\"/>\n       </defs>\n       <use xlink:href=\"#DejaVuSans-2212\"/>\n       <use x=\"83.789062\" xlink:href=\"#DejaVuSans-36\"/>\n       <use x=\"147.412109\" xlink:href=\"#DejaVuSans-30\"/>\n       <use x=\"211.035156\" xlink:href=\"#DejaVuSans-30\"/>\n      </g>\n     </g>\n    </g>\n    <g id=\"xtick_3\">\n     <g id=\"line2d_3\">\n      <g>\n       <use style=\"stroke:#000000;stroke-width:0.8;\" x=\"141.326376\" xlink:href=\"#m98fd02095e\" y=\"224.64\"/>\n      </g>\n     </g>\n     <g id=\"text_3\">\n      <!-- −500 -->\n      <g transform=\"translate(127.592782 239.238437)scale(0.1 -0.1)\">\n       <defs>\n        <path d=\"M 691 4666 \nL 3169 4666 \nL 3169 4134 \nL 1269 4134 \nL 1269 2991 \nQ 1406 3038 1543 3061 \nQ 1681 3084 1819 3084 \nQ 2600 3084 3056 2656 \nQ 3513 2228 3513 1497 \nQ 3513 744 3044 326 \nQ 2575 -91 1722 -91 \nQ 1428 -91 1123 -41 \nQ 819 9 494 109 \nL 494 744 \nQ 775 591 1075 516 \nQ 1375 441 1709 441 \nQ 2250 441 2565 725 \nQ 2881 1009 2881 1497 \nQ 2881 1984 2565 2268 \nQ 2250 2553 1709 2553 \nQ 1456 2553 1204 2497 \nQ 953 2441 691 2322 \nL 691 4666 \nz\n\" id=\"DejaVuSans-35\" transform=\"scale(0.015625)\"/>\n       </defs>\n       <use xlink:href=\"#DejaVuSans-2212\"/>\n       <use x=\"83.789062\" xlink:href=\"#DejaVuSans-35\"/>\n       <use x=\"147.412109\" xlink:href=\"#DejaVuSans-30\"/>\n       <use x=\"211.035156\" xlink:href=\"#DejaVuSans-30\"/>\n      </g>\n     </g>\n    </g>\n    <g id=\"xtick_4\">\n     <g id=\"line2d_4\">\n      <g>\n       <use style=\"stroke:#000000;stroke-width:0.8;\" x=\"181.374222\" xlink:href=\"#m98fd02095e\" y=\"224.64\"/>\n      </g>\n     </g>\n     <g id=\"text_4\">\n      <!-- −400 -->\n      <g transform=\"translate(167.640629 239.238437)scale(0.1 -0.1)\">\n       <defs>\n        <path d=\"M 2419 4116 \nL 825 1625 \nL 2419 1625 \nL 2419 4116 \nz\nM 2253 4666 \nL 3047 4666 \nL 3047 1625 \nL 3713 1625 \nL 3713 1100 \nL 3047 1100 \nL 3047 0 \nL 2419 0 \nL 2419 1100 \nL 313 1100 \nL 313 1709 \nL 2253 4666 \nz\n\" id=\"DejaVuSans-34\" transform=\"scale(0.015625)\"/>\n       </defs>\n       <use xlink:href=\"#DejaVuSans-2212\"/>\n       <use x=\"83.789062\" xlink:href=\"#DejaVuSans-34\"/>\n       <use x=\"147.412109\" xlink:href=\"#DejaVuSans-30\"/>\n       <use x=\"211.035156\" xlink:href=\"#DejaVuSans-30\"/>\n      </g>\n     </g>\n    </g>\n    <g id=\"xtick_5\">\n     <g id=\"line2d_5\">\n      <g>\n       <use style=\"stroke:#000000;stroke-width:0.8;\" x=\"221.422069\" xlink:href=\"#m98fd02095e\" y=\"224.64\"/>\n      </g>\n     </g>\n     <g id=\"text_5\">\n      <!-- −300 -->\n      <g transform=\"translate(207.688476 239.238437)scale(0.1 -0.1)\">\n       <defs>\n        <path d=\"M 2597 2516 \nQ 3050 2419 3304 2112 \nQ 3559 1806 3559 1356 \nQ 3559 666 3084 287 \nQ 2609 -91 1734 -91 \nQ 1441 -91 1130 -33 \nQ 819 25 488 141 \nL 488 750 \nQ 750 597 1062 519 \nQ 1375 441 1716 441 \nQ 2309 441 2620 675 \nQ 2931 909 2931 1356 \nQ 2931 1769 2642 2001 \nQ 2353 2234 1838 2234 \nL 1294 2234 \nL 1294 2753 \nL 1863 2753 \nQ 2328 2753 2575 2939 \nQ 2822 3125 2822 3475 \nQ 2822 3834 2567 4026 \nQ 2313 4219 1838 4219 \nQ 1578 4219 1281 4162 \nQ 984 4106 628 3988 \nL 628 4550 \nQ 988 4650 1302 4700 \nQ 1616 4750 1894 4750 \nQ 2613 4750 3031 4423 \nQ 3450 4097 3450 3541 \nQ 3450 3153 3228 2886 \nQ 3006 2619 2597 2516 \nz\n\" id=\"DejaVuSans-33\" transform=\"scale(0.015625)\"/>\n       </defs>\n       <use xlink:href=\"#DejaVuSans-2212\"/>\n       <use x=\"83.789062\" xlink:href=\"#DejaVuSans-33\"/>\n       <use x=\"147.412109\" xlink:href=\"#DejaVuSans-30\"/>\n       <use x=\"211.035156\" xlink:href=\"#DejaVuSans-30\"/>\n      </g>\n     </g>\n    </g>\n    <g id=\"xtick_6\">\n     <g id=\"line2d_6\">\n      <g>\n       <use style=\"stroke:#000000;stroke-width:0.8;\" x=\"261.469916\" xlink:href=\"#m98fd02095e\" y=\"224.64\"/>\n      </g>\n     </g>\n     <g id=\"text_6\">\n      <!-- −200 -->\n      <g transform=\"translate(247.736323 239.238437)scale(0.1 -0.1)\">\n       <defs>\n        <path d=\"M 1228 531 \nL 3431 531 \nL 3431 0 \nL 469 0 \nL 469 531 \nQ 828 903 1448 1529 \nQ 2069 2156 2228 2338 \nQ 2531 2678 2651 2914 \nQ 2772 3150 2772 3378 \nQ 2772 3750 2511 3984 \nQ 2250 4219 1831 4219 \nQ 1534 4219 1204 4116 \nQ 875 4013 500 3803 \nL 500 4441 \nQ 881 4594 1212 4672 \nQ 1544 4750 1819 4750 \nQ 2544 4750 2975 4387 \nQ 3406 4025 3406 3419 \nQ 3406 3131 3298 2873 \nQ 3191 2616 2906 2266 \nQ 2828 2175 2409 1742 \nQ 1991 1309 1228 531 \nz\n\" id=\"DejaVuSans-32\" transform=\"scale(0.015625)\"/>\n       </defs>\n       <use xlink:href=\"#DejaVuSans-2212\"/>\n       <use x=\"83.789062\" xlink:href=\"#DejaVuSans-32\"/>\n       <use x=\"147.412109\" xlink:href=\"#DejaVuSans-30\"/>\n       <use x=\"211.035156\" xlink:href=\"#DejaVuSans-30\"/>\n      </g>\n     </g>\n    </g>\n    <g id=\"xtick_7\">\n     <g id=\"line2d_7\">\n      <g>\n       <use style=\"stroke:#000000;stroke-width:0.8;\" x=\"301.517763\" xlink:href=\"#m98fd02095e\" y=\"224.64\"/>\n      </g>\n     </g>\n     <g id=\"text_7\">\n      <!-- −100 -->\n      <g transform=\"translate(287.784169 239.238437)scale(0.1 -0.1)\">\n       <defs>\n        <path d=\"M 794 531 \nL 1825 531 \nL 1825 4091 \nL 703 3866 \nL 703 4441 \nL 1819 4666 \nL 2450 4666 \nL 2450 531 \nL 3481 531 \nL 3481 0 \nL 794 0 \nL 794 531 \nz\n\" id=\"DejaVuSans-31\" transform=\"scale(0.015625)\"/>\n       </defs>\n       <use xlink:href=\"#DejaVuSans-2212\"/>\n       <use x=\"83.789062\" xlink:href=\"#DejaVuSans-31\"/>\n       <use x=\"147.412109\" xlink:href=\"#DejaVuSans-30\"/>\n       <use x=\"211.035156\" xlink:href=\"#DejaVuSans-30\"/>\n      </g>\n     </g>\n    </g>\n    <g id=\"xtick_8\">\n     <g id=\"line2d_8\">\n      <g>\n       <use style=\"stroke:#000000;stroke-width:0.8;\" x=\"341.56561\" xlink:href=\"#m98fd02095e\" y=\"224.64\"/>\n      </g>\n     </g>\n     <g id=\"text_8\">\n      <!-- 0 -->\n      <g transform=\"translate(338.38436 239.238437)scale(0.1 -0.1)\">\n       <use xlink:href=\"#DejaVuSans-30\"/>\n      </g>\n     </g>\n    </g>\n   </g>\n   <g id=\"matplotlib.axis_2\">\n    <g id=\"ytick_1\">\n     <g id=\"line2d_9\">\n      <defs>\n       <path d=\"M 0 0 \nL -3.5 0 \n\" id=\"m3f103cae63\" style=\"stroke:#000000;stroke-width:0.8;\"/>\n      </defs>\n      <g>\n       <use style=\"stroke:#000000;stroke-width:0.8;\" x=\"46.0125\" xlink:href=\"#m3f103cae63\" y=\"224.64\"/>\n      </g>\n     </g>\n     <g id=\"text_9\">\n      <!-- 0 -->\n      <g transform=\"translate(32.65 228.439219)scale(0.1 -0.1)\">\n       <use xlink:href=\"#DejaVuSans-30\"/>\n      </g>\n     </g>\n    </g>\n    <g id=\"ytick_2\">\n     <g id=\"line2d_10\">\n      <g>\n       <use style=\"stroke:#000000;stroke-width:0.8;\" x=\"46.0125\" xlink:href=\"#m3f103cae63\" y=\"196.027516\"/>\n      </g>\n     </g>\n     <g id=\"text_10\">\n      <!-- 5000 -->\n      <g transform=\"translate(13.5625 199.826735)scale(0.1 -0.1)\">\n       <use xlink:href=\"#DejaVuSans-35\"/>\n       <use x=\"63.623047\" xlink:href=\"#DejaVuSans-30\"/>\n       <use x=\"127.246094\" xlink:href=\"#DejaVuSans-30\"/>\n       <use x=\"190.869141\" xlink:href=\"#DejaVuSans-30\"/>\n      </g>\n     </g>\n    </g>\n    <g id=\"ytick_3\">\n     <g id=\"line2d_11\">\n      <g>\n       <use style=\"stroke:#000000;stroke-width:0.8;\" x=\"46.0125\" xlink:href=\"#m3f103cae63\" y=\"167.415032\"/>\n      </g>\n     </g>\n     <g id=\"text_11\">\n      <!-- 10000 -->\n      <g transform=\"translate(7.2 171.214251)scale(0.1 -0.1)\">\n       <use xlink:href=\"#DejaVuSans-31\"/>\n       <use x=\"63.623047\" xlink:href=\"#DejaVuSans-30\"/>\n       <use x=\"127.246094\" xlink:href=\"#DejaVuSans-30\"/>\n       <use x=\"190.869141\" xlink:href=\"#DejaVuSans-30\"/>\n       <use x=\"254.492188\" xlink:href=\"#DejaVuSans-30\"/>\n      </g>\n     </g>\n    </g>\n    <g id=\"ytick_4\">\n     <g id=\"line2d_12\">\n      <g>\n       <use style=\"stroke:#000000;stroke-width:0.8;\" x=\"46.0125\" xlink:href=\"#m3f103cae63\" y=\"138.802548\"/>\n      </g>\n     </g>\n     <g id=\"text_12\">\n      <!-- 15000 -->\n      <g transform=\"translate(7.2 142.601767)scale(0.1 -0.1)\">\n       <use xlink:href=\"#DejaVuSans-31\"/>\n       <use x=\"63.623047\" xlink:href=\"#DejaVuSans-35\"/>\n       <use x=\"127.246094\" xlink:href=\"#DejaVuSans-30\"/>\n       <use x=\"190.869141\" xlink:href=\"#DejaVuSans-30\"/>\n       <use x=\"254.492188\" xlink:href=\"#DejaVuSans-30\"/>\n      </g>\n     </g>\n    </g>\n    <g id=\"ytick_5\">\n     <g id=\"line2d_13\">\n      <g>\n       <use style=\"stroke:#000000;stroke-width:0.8;\" x=\"46.0125\" xlink:href=\"#m3f103cae63\" y=\"110.190064\"/>\n      </g>\n     </g>\n     <g id=\"text_13\">\n      <!-- 20000 -->\n      <g transform=\"translate(7.2 113.989283)scale(0.1 -0.1)\">\n       <use xlink:href=\"#DejaVuSans-32\"/>\n       <use x=\"63.623047\" xlink:href=\"#DejaVuSans-30\"/>\n       <use x=\"127.246094\" xlink:href=\"#DejaVuSans-30\"/>\n       <use x=\"190.869141\" xlink:href=\"#DejaVuSans-30\"/>\n       <use x=\"254.492188\" xlink:href=\"#DejaVuSans-30\"/>\n      </g>\n     </g>\n    </g>\n    <g id=\"ytick_6\">\n     <g id=\"line2d_14\">\n      <g>\n       <use style=\"stroke:#000000;stroke-width:0.8;\" x=\"46.0125\" xlink:href=\"#m3f103cae63\" y=\"81.57758\"/>\n      </g>\n     </g>\n     <g id=\"text_14\">\n      <!-- 25000 -->\n      <g transform=\"translate(7.2 85.376799)scale(0.1 -0.1)\">\n       <use xlink:href=\"#DejaVuSans-32\"/>\n       <use x=\"63.623047\" xlink:href=\"#DejaVuSans-35\"/>\n       <use x=\"127.246094\" xlink:href=\"#DejaVuSans-30\"/>\n       <use x=\"190.869141\" xlink:href=\"#DejaVuSans-30\"/>\n       <use x=\"254.492188\" xlink:href=\"#DejaVuSans-30\"/>\n      </g>\n     </g>\n    </g>\n    <g id=\"ytick_7\">\n     <g id=\"line2d_15\">\n      <g>\n       <use style=\"stroke:#000000;stroke-width:0.8;\" x=\"46.0125\" xlink:href=\"#m3f103cae63\" y=\"52.965096\"/>\n      </g>\n     </g>\n     <g id=\"text_15\">\n      <!-- 30000 -->\n      <g transform=\"translate(7.2 56.764315)scale(0.1 -0.1)\">\n       <use xlink:href=\"#DejaVuSans-33\"/>\n       <use x=\"63.623047\" xlink:href=\"#DejaVuSans-30\"/>\n       <use x=\"127.246094\" xlink:href=\"#DejaVuSans-30\"/>\n       <use x=\"190.869141\" xlink:href=\"#DejaVuSans-30\"/>\n       <use x=\"254.492188\" xlink:href=\"#DejaVuSans-30\"/>\n      </g>\n     </g>\n    </g>\n    <g id=\"ytick_8\">\n     <g id=\"line2d_16\">\n      <g>\n       <use style=\"stroke:#000000;stroke-width:0.8;\" x=\"46.0125\" xlink:href=\"#m3f103cae63\" y=\"24.352612\"/>\n      </g>\n     </g>\n     <g id=\"text_16\">\n      <!-- 35000 -->\n      <g transform=\"translate(7.2 28.151831)scale(0.1 -0.1)\">\n       <use xlink:href=\"#DejaVuSans-33\"/>\n       <use x=\"63.623047\" xlink:href=\"#DejaVuSans-35\"/>\n       <use x=\"127.246094\" xlink:href=\"#DejaVuSans-30\"/>\n       <use x=\"190.869141\" xlink:href=\"#DejaVuSans-30\"/>\n       <use x=\"254.492188\" xlink:href=\"#DejaVuSans-30\"/>\n      </g>\n     </g>\n    </g>\n   </g>\n   <g id=\"patch_13\">\n    <path d=\"M 46.0125 224.64 \nL 46.0125 7.2 \n\" style=\"fill:none;stroke:#000000;stroke-linecap:square;stroke-linejoin:miter;stroke-width:0.8;\"/>\n   </g>\n   <g id=\"patch_14\">\n    <path d=\"M 380.8125 224.64 \nL 380.8125 7.2 \n\" style=\"fill:none;stroke:#000000;stroke-linecap:square;stroke-linejoin:miter;stroke-width:0.8;\"/>\n   </g>\n   <g id=\"patch_15\">\n    <path d=\"M 46.0125 224.64 \nL 380.8125 224.64 \n\" style=\"fill:none;stroke:#000000;stroke-linecap:square;stroke-linejoin:miter;stroke-width:0.8;\"/>\n   </g>\n   <g id=\"patch_16\">\n    <path d=\"M 46.0125 7.2 \nL 380.8125 7.2 \n\" style=\"fill:none;stroke:#000000;stroke-linecap:square;stroke-linejoin:miter;stroke-width:0.8;\"/>\n   </g>\n  </g>\n </g>\n <defs>\n  <clipPath id=\"p0dd11c484b\">\n   <rect height=\"217.44\" width=\"334.8\" x=\"46.0125\" y=\"7.2\"/>\n  </clipPath>\n </defs>\n</svg>\n",
      "image/png": "[encoded data removed]"
     },
     "metadata": {
      "needs_background": "light"
     }
    }
   ],
   "source": [
    "minN_minus_maxMinN = listings_num.minimum_nights - listings_num.maximum_minimum_nights\n",
    "minN_minus_maxMinN.unique()\n",
    "minN_minus_maxMinN.value_counts()\n",
    "\n",
    "plt.hist(minN_minus_maxMinN)"
   ]
  },
  {
   "cell_type": "code",
   "execution_count": 24,
   "metadata": {},
   "outputs": [
    {
     "output_type": "execute_result",
     "data": {
      "text/plain": [
       "array([ 0.000e+00, -1.000e-01, -7.300e+00, -2.000e-01,  1.000e-01,\n",
       "       -1.300e+00,  1.000e+00, -1.220e+01, -3.000e-01,  2.000e-01,\n",
       "       -2.390e+01,  1.000e-01,  5.000e-01, -3.000e-01,  1.000e-01,\n",
       "        3.000e-01, -1.000e-01,  3.000e+00,  5.700e+00,  3.000e-01,\n",
       "       -1.500e+01,  1.700e+00,  3.000e-01, -4.000e-01,  2.000e-01,\n",
       "       -2.200e+00,  7.000e-01, -3.530e+01, -9.000e-01,  4.000e-01,\n",
       "        6.400e+00, -1.800e+00, -8.000e-01, -6.000e-01, -7.000e+00,\n",
       "        8.200e+00, -5.000e-01, -1.900e+00,  1.000e-01,  1.500e+00,\n",
       "        9.000e-01, -1.000e-01, -7.000e-01,  3.920e+01,  6.000e-01,\n",
       "        5.900e+00,  1.300e+00,  2.000e+00, -1.096e+02,  3.100e+00,\n",
       "       -2.000e-01, -2.510e+01,  6.000e+01,  3.900e+00,  6.000e-01,\n",
       "       -8.000e-01, -3.060e+01,  6.000e-01, -1.700e+00, -3.350e+01,\n",
       "        1.700e+00, -4.000e-01, -4.700e+00, -1.000e+00, -9.800e+00,\n",
       "        7.000e-01, -1.500e+00, -1.160e+01, -2.230e+01, -5.300e+00,\n",
       "       -7.000e-01, -7.100e+00,  7.400e+00,  2.050e+01, -3.200e+00,\n",
       "       -3.100e+00, -4.200e+00, -4.400e+00,  2.300e+00,  1.160e+01,\n",
       "       -3.000e+00,  9.000e-01,  4.000e-01, -2.700e+01, -2.420e+01,\n",
       "       -7.000e-01,  4.000e-01, -1.400e+00,  7.900e+00,  7.000e+00,\n",
       "       -2.540e+01,  1.200e+00, -4.000e-01,  3.600e+00,  8.940e+01,\n",
       "        8.000e-01, -1.980e+01,  7.000e-01, -1.200e+00, -1.260e+01,\n",
       "        8.000e-01,  4.800e+00,  1.100e+00,  2.000e-01,  1.200e+00,\n",
       "       -2.600e+00,  6.300e+00, -7.600e+00,  8.500e+00, -1.400e+00,\n",
       "       -5.000e+00, -3.700e+00, -1.690e+01, -7.100e+00, -3.310e+01,\n",
       "       -3.270e+01, -6.717e+02, -4.800e+00, -2.000e+00, -2.130e+01,\n",
       "       -1.635e+02, -1.150e+01, -2.800e+01,  1.400e+00,  2.300e+01,\n",
       "       -1.900e+00, -9.100e+00, -6.754e+02, -5.060e+01, -6.817e+02,\n",
       "       -7.200e+00, -3.260e+01, -2.600e+00, -6.000e-01,  2.600e+00,\n",
       "       -6.581e+02,  2.500e+00,  8.000e-01, -3.590e+01,  9.000e-01,\n",
       "       -2.900e+01, -8.200e+00, -4.300e+00, -4.100e+00, -6.801e+02,\n",
       "       -4.000e+00, -1.100e+00, -6.707e+02, -6.673e+02, -6.785e+02,\n",
       "       -2.800e+00, -6.623e+02, -7.000e+02, -6.726e+02, -6.720e+02,\n",
       "       -6.750e+02, -6.724e+02, -6.769e+02, -6.738e+02, -6.663e+02,\n",
       "       -6.792e+02, -6.669e+02, -6.920e+02, -6.618e+02, -6.746e+02,\n",
       "       -6.713e+02, -6.741e+02, -6.675e+02, -6.761e+02, -6.808e+02,\n",
       "       -6.731e+02, -6.783e+02, -6.222e+02, -6.572e+02, -6.579e+02,\n",
       "       -6.698e+02, -6.651e+02, -6.705e+02, -6.684e+02, -6.762e+02,\n",
       "       -6.793e+02, -6.722e+02, -6.968e+02, -6.558e+02, -6.777e+02,\n",
       "       -6.708e+02, -6.737e+02, -6.690e+02,  5.960e+01, -3.500e+00,\n",
       "        6.000e+00, -3.000e-01,  1.800e+00, -6.656e+02, -6.567e+02,\n",
       "        2.900e+00, -6.800e+02, -6.400e+02, -4.500e+00,  2.900e+01,\n",
       "        4.200e+00, -6.144e+02, -6.646e+02, -6.583e+02, -8.620e+01,\n",
       "        4.400e+00,  4.500e+00, -2.100e+00, -4.700e+01, -4.800e+00,\n",
       "       -5.900e+00, -6.691e+02, -2.170e+01, -6.753e+02,  1.400e+00,\n",
       "       -6.715e+02, -6.534e+02, -3.900e+00, -6.685e+02, -3.400e+00,\n",
       "       -3.200e+00,  2.890e+01, -6.936e+02, -6.439e+02, -1.000e-01,\n",
       "       -2.690e+01, -2.100e+00, -3.000e+01, -6.300e+00, -2.000e-01,\n",
       "       -6.809e+02, -6.775e+02, -2.800e+00, -9.800e+00,        nan,\n",
       "       -1.270e+01, -6.729e+02, -1.190e+01,  3.500e+00,  2.810e+01,\n",
       "       -6.759e+02,  2.800e+01,  1.450e+01,  1.400e+01,  1.278e+02,\n",
       "       -1.600e+00,  2.100e+00,  1.080e+01,  1.210e+01,  1.220e+01,\n",
       "       -9.000e-01, -1.140e+01, -6.730e+02, -1.620e+01,  1.300e+00,\n",
       "        9.500e+00, -4.320e+01, -1.210e+01, -6.000e+01, -6.621e+02,\n",
       "       -6.800e+00, -2.190e+01, -1.930e+01,  6.600e+00, -2.700e+00,\n",
       "       -1.440e+01,  1.900e+00, -6.585e+02,  5.950e+01, -6.672e+02,\n",
       "       -2.300e+00, -8.000e-01, -2.060e+01, -2.200e+00,  1.600e+00,\n",
       "        1.390e+01, -6.984e+02, -1.600e+00,  1.100e+00, -1.610e+01,\n",
       "       -1.100e+00,  1.100e+00, -1.520e+01, -6.593e+02, -2.500e+00,\n",
       "       -2.100e+00,  5.300e+00, -3.490e+01, -3.290e+01, -6.400e+00,\n",
       "       -6.667e+02, -6.589e+02, -6.519e+02, -6.666e+02, -6.718e+02,\n",
       "        7.100e+00, -9.000e-01, -7.200e+00,  2.100e+00, -8.100e+00,\n",
       "       -3.600e+00, -3.830e+01,  5.200e+00,  3.300e+00,  2.550e+01,\n",
       "       -6.821e+02, -1.420e+01,  4.800e+00, -6.648e+02, -4.800e+00])"
      ]
     },
     "metadata": {},
     "execution_count": 24
    },
    {
     "output_type": "execute_result",
     "data": {
      "text/plain": [
       " 0.0      34935\n",
       "-0.1        110\n",
       " 0.5         90\n",
       "-0.3         78\n",
       " 0.1         73\n",
       "          ...  \n",
       "-677.7        1\n",
       "-670.8        1\n",
       "-0.7          1\n",
       "-669.0        1\n",
       "-4.8          1\n",
       "Length: 309, dtype: int64"
      ]
     },
     "metadata": {},
     "execution_count": 24
    },
    {
     "output_type": "execute_result",
     "data": {
      "text/plain": [
       "(array([2.8500e+02, 1.0000e+00, 0.0000e+00, 0.0000e+00, 0.0000e+00,\n",
       "        0.0000e+00, 1.0000e+00, 3.5000e+01, 3.6377e+04, 8.0000e+00]),\n",
       " array([-700.  , -617.22, -534.44, -451.66, -368.88, -286.1 , -203.32,\n",
       "        -120.54,  -37.76,   45.02,  127.8 ]),\n",
       " <BarContainer object of 10 artists>)"
      ]
     },
     "metadata": {},
     "execution_count": 24
    },
    {
     "output_type": "display_data",
     "data": {
      "text/plain": "<Figure size 432x288 with 1 Axes>",
      "image/svg+xml": "<?xml version=\"1.0\" encoding=\"utf-8\" standalone=\"no\"?>\n<!DOCTYPE svg PUBLIC \"-//W3C//DTD SVG 1.1//EN\"\n  \"http://www.w3.org/Graphics/SVG/1.1/DTD/svg11.dtd\">\n<svg height=\"248.518125pt\" version=\"1.1\" viewBox=\"0 0 388.0125 248.518125\" width=\"388.0125pt\" xmlns=\"http://www.w3.org/2000/svg\" xmlns:xlink=\"http://www.w3.org/1999/xlink\">\n <metadata>\n  <rdf:RDF xmlns:cc=\"http://creativecommons.org/ns#\" xmlns:dc=\"http://purl.org/dc/elements/1.1/\" xmlns:rdf=\"http://www.w3.org/1999/02/22-rdf-syntax-ns#\">\n   <cc:Work>\n    <dc:type rdf:resource=\"http://purl.org/dc/dcmitype/StillImage\"/>\n    <dc:date>2021-09-07T21:55:12.385163</dc:date>\n    <dc:format>image/svg+xml</dc:format>\n    <dc:creator>\n     <cc:Agent>\n      <dc:title>Matplotlib v3.4.3, https://matplotlib.org/</dc:title>\n     </cc:Agent>\n    </dc:creator>\n   </cc:Work>\n  </rdf:RDF>\n </metadata>\n <defs>\n  <style type=\"text/css\">*{stroke-linecap:butt;stroke-linejoin:round;}</style>\n </defs>\n <g id=\"figure_1\">\n  <g id=\"patch_1\">\n   <path d=\"M 0 248.518125 \nL 388.0125 248.518125 \nL 388.0125 0 \nL 0 0 \nz\n\" style=\"fill:none;\"/>\n  </g>\n  <g id=\"axes_1\">\n   <g id=\"patch_2\">\n    <path d=\"M 46.0125 224.64 \nL 380.8125 224.64 \nL 380.8125 7.2 \nL 46.0125 7.2 \nz\n\" style=\"fill:#ffffff;\"/>\n   </g>\n   <g id=\"patch_3\">\n    <path clip-path=\"url(#p7d08e0a1b3)\" d=\"M 61.230682 224.64 \nL 91.667045 224.64 \nL 91.667045 223.017562 \nL 61.230682 223.017562 \nz\n\" style=\"fill:#1f77b4;\"/>\n   </g>\n   <g id=\"patch_4\">\n    <path clip-path=\"url(#p7d08e0a1b3)\" d=\"M 91.667045 224.64 \nL 122.103409 224.64 \nL 122.103409 224.634307 \nL 91.667045 224.634307 \nz\n\" style=\"fill:#1f77b4;\"/>\n   </g>\n   <g id=\"patch_5\">\n    <path clip-path=\"url(#p7d08e0a1b3)\" d=\"M 122.103409 224.64 \nL 152.539773 224.64 \nL 152.539773 224.64 \nL 122.103409 224.64 \nz\n\" style=\"fill:#1f77b4;\"/>\n   </g>\n   <g id=\"patch_6\">\n    <path clip-path=\"url(#p7d08e0a1b3)\" d=\"M 152.539773 224.64 \nL 182.976136 224.64 \nL 182.976136 224.64 \nL 152.539773 224.64 \nz\n\" style=\"fill:#1f77b4;\"/>\n   </g>\n   <g id=\"patch_7\">\n    <path clip-path=\"url(#p7d08e0a1b3)\" d=\"M 182.976136 224.64 \nL 213.4125 224.64 \nL 213.4125 224.64 \nL 182.976136 224.64 \nz\n\" style=\"fill:#1f77b4;\"/>\n   </g>\n   <g id=\"patch_8\">\n    <path clip-path=\"url(#p7d08e0a1b3)\" d=\"M 213.4125 224.64 \nL 243.848864 224.64 \nL 243.848864 224.64 \nL 213.4125 224.64 \nz\n\" style=\"fill:#1f77b4;\"/>\n   </g>\n   <g id=\"patch_9\">\n    <path clip-path=\"url(#p7d08e0a1b3)\" d=\"M 243.848864 224.64 \nL 274.285227 224.64 \nL 274.285227 224.634307 \nL 243.848864 224.634307 \nz\n\" style=\"fill:#1f77b4;\"/>\n   </g>\n   <g id=\"patch_10\">\n    <path clip-path=\"url(#p7d08e0a1b3)\" d=\"M 274.285227 224.64 \nL 304.721591 224.64 \nL 304.721591 224.440753 \nL 274.285227 224.440753 \nz\n\" style=\"fill:#1f77b4;\"/>\n   </g>\n   <g id=\"patch_11\">\n    <path clip-path=\"url(#p7d08e0a1b3)\" d=\"M 304.721591 224.64 \nL 335.157955 224.64 \nL 335.157955 17.554286 \nL 304.721591 17.554286 \nz\n\" style=\"fill:#1f77b4;\"/>\n   </g>\n   <g id=\"patch_12\">\n    <path clip-path=\"url(#p7d08e0a1b3)\" d=\"M 335.157955 224.64 \nL 365.594318 224.64 \nL 365.594318 224.594458 \nL 335.157955 224.594458 \nz\n\" style=\"fill:#1f77b4;\"/>\n   </g>\n   <g id=\"matplotlib.axis_1\">\n    <g id=\"xtick_1\">\n     <g id=\"line2d_1\">\n      <defs>\n       <path d=\"M 0 0 \nL 0 3.5 \n\" id=\"m1f60890d34\" style=\"stroke:#000000;stroke-width:0.8;\"/>\n      </defs>\n      <g>\n       <use style=\"stroke:#000000;stroke-width:0.8;\" x=\"97.998456\" xlink:href=\"#m1f60890d34\" y=\"224.64\"/>\n      </g>\n     </g>\n     <g id=\"text_1\">\n      <!-- −600 -->\n      <g transform=\"translate(84.264862 239.238438)scale(0.1 -0.1)\">\n       <defs>\n        <path d=\"M 678 2272 \nL 4684 2272 \nL 4684 1741 \nL 678 1741 \nL 678 2272 \nz\n\" id=\"DejaVuSans-2212\" transform=\"scale(0.015625)\"/>\n        <path d=\"M 2113 2584 \nQ 1688 2584 1439 2293 \nQ 1191 2003 1191 1497 \nQ 1191 994 1439 701 \nQ 1688 409 2113 409 \nQ 2538 409 2786 701 \nQ 3034 994 3034 1497 \nQ 3034 2003 2786 2293 \nQ 2538 2584 2113 2584 \nz\nM 3366 4563 \nL 3366 3988 \nQ 3128 4100 2886 4159 \nQ 2644 4219 2406 4219 \nQ 1781 4219 1451 3797 \nQ 1122 3375 1075 2522 \nQ 1259 2794 1537 2939 \nQ 1816 3084 2150 3084 \nQ 2853 3084 3261 2657 \nQ 3669 2231 3669 1497 \nQ 3669 778 3244 343 \nQ 2819 -91 2113 -91 \nQ 1303 -91 875 529 \nQ 447 1150 447 2328 \nQ 447 3434 972 4092 \nQ 1497 4750 2381 4750 \nQ 2619 4750 2861 4703 \nQ 3103 4656 3366 4563 \nz\n\" id=\"DejaVuSans-36\" transform=\"scale(0.015625)\"/>\n        <path d=\"M 2034 4250 \nQ 1547 4250 1301 3770 \nQ 1056 3291 1056 2328 \nQ 1056 1369 1301 889 \nQ 1547 409 2034 409 \nQ 2525 409 2770 889 \nQ 3016 1369 3016 2328 \nQ 3016 3291 2770 3770 \nQ 2525 4250 2034 4250 \nz\nM 2034 4750 \nQ 2819 4750 3233 4129 \nQ 3647 3509 3647 2328 \nQ 3647 1150 3233 529 \nQ 2819 -91 2034 -91 \nQ 1250 -91 836 529 \nQ 422 1150 422 2328 \nQ 422 3509 836 4129 \nQ 1250 4750 2034 4750 \nz\n\" id=\"DejaVuSans-30\" transform=\"scale(0.015625)\"/>\n       </defs>\n       <use xlink:href=\"#DejaVuSans-2212\"/>\n       <use x=\"83.789062\" xlink:href=\"#DejaVuSans-36\"/>\n       <use x=\"147.412109\" xlink:href=\"#DejaVuSans-30\"/>\n       <use x=\"211.035156\" xlink:href=\"#DejaVuSans-30\"/>\n      </g>\n     </g>\n    </g>\n    <g id=\"xtick_2\">\n     <g id=\"line2d_2\">\n      <g>\n       <use style=\"stroke:#000000;stroke-width:0.8;\" x=\"171.534005\" xlink:href=\"#m1f60890d34\" y=\"224.64\"/>\n      </g>\n     </g>\n     <g id=\"text_2\">\n      <!-- −400 -->\n      <g transform=\"translate(157.800411 239.238438)scale(0.1 -0.1)\">\n       <defs>\n        <path d=\"M 2419 4116 \nL 825 1625 \nL 2419 1625 \nL 2419 4116 \nz\nM 2253 4666 \nL 3047 4666 \nL 3047 1625 \nL 3713 1625 \nL 3713 1100 \nL 3047 1100 \nL 3047 0 \nL 2419 0 \nL 2419 1100 \nL 313 1100 \nL 313 1709 \nL 2253 4666 \nz\n\" id=\"DejaVuSans-34\" transform=\"scale(0.015625)\"/>\n       </defs>\n       <use xlink:href=\"#DejaVuSans-2212\"/>\n       <use x=\"83.789062\" xlink:href=\"#DejaVuSans-34\"/>\n       <use x=\"147.412109\" xlink:href=\"#DejaVuSans-30\"/>\n       <use x=\"211.035156\" xlink:href=\"#DejaVuSans-30\"/>\n      </g>\n     </g>\n    </g>\n    <g id=\"xtick_3\">\n     <g id=\"line2d_3\">\n      <g>\n       <use style=\"stroke:#000000;stroke-width:0.8;\" x=\"245.069554\" xlink:href=\"#m1f60890d34\" y=\"224.64\"/>\n      </g>\n     </g>\n     <g id=\"text_3\">\n      <!-- −200 -->\n      <g transform=\"translate(231.33596 239.238438)scale(0.1 -0.1)\">\n       <defs>\n        <path d=\"M 1228 531 \nL 3431 531 \nL 3431 0 \nL 469 0 \nL 469 531 \nQ 828 903 1448 1529 \nQ 2069 2156 2228 2338 \nQ 2531 2678 2651 2914 \nQ 2772 3150 2772 3378 \nQ 2772 3750 2511 3984 \nQ 2250 4219 1831 4219 \nQ 1534 4219 1204 4116 \nQ 875 4013 500 3803 \nL 500 4441 \nQ 881 4594 1212 4672 \nQ 1544 4750 1819 4750 \nQ 2544 4750 2975 4387 \nQ 3406 4025 3406 3419 \nQ 3406 3131 3298 2873 \nQ 3191 2616 2906 2266 \nQ 2828 2175 2409 1742 \nQ 1991 1309 1228 531 \nz\n\" id=\"DejaVuSans-32\" transform=\"scale(0.015625)\"/>\n       </defs>\n       <use xlink:href=\"#DejaVuSans-2212\"/>\n       <use x=\"83.789062\" xlink:href=\"#DejaVuSans-32\"/>\n       <use x=\"147.412109\" xlink:href=\"#DejaVuSans-30\"/>\n       <use x=\"211.035156\" xlink:href=\"#DejaVuSans-30\"/>\n      </g>\n     </g>\n    </g>\n    <g id=\"xtick_4\">\n     <g id=\"line2d_4\">\n      <g>\n       <use style=\"stroke:#000000;stroke-width:0.8;\" x=\"318.605103\" xlink:href=\"#m1f60890d34\" y=\"224.64\"/>\n      </g>\n     </g>\n     <g id=\"text_4\">\n      <!-- 0 -->\n      <g transform=\"translate(315.423853 239.238438)scale(0.1 -0.1)\">\n       <use xlink:href=\"#DejaVuSans-30\"/>\n      </g>\n     </g>\n    </g>\n   </g>\n   <g id=\"matplotlib.axis_2\">\n    <g id=\"ytick_1\">\n     <g id=\"line2d_5\">\n      <defs>\n       <path d=\"M 0 0 \nL -3.5 0 \n\" id=\"m10d41250a4\" style=\"stroke:#000000;stroke-width:0.8;\"/>\n      </defs>\n      <g>\n       <use style=\"stroke:#000000;stroke-width:0.8;\" x=\"46.0125\" xlink:href=\"#m10d41250a4\" y=\"224.64\"/>\n      </g>\n     </g>\n     <g id=\"text_5\">\n      <!-- 0 -->\n      <g transform=\"translate(32.65 228.439219)scale(0.1 -0.1)\">\n       <use xlink:href=\"#DejaVuSans-30\"/>\n      </g>\n     </g>\n    </g>\n    <g id=\"ytick_2\">\n     <g id=\"line2d_6\">\n      <g>\n       <use style=\"stroke:#000000;stroke-width:0.8;\" x=\"46.0125\" xlink:href=\"#m10d41250a4\" y=\"196.176175\"/>\n      </g>\n     </g>\n     <g id=\"text_6\">\n      <!-- 5000 -->\n      <g transform=\"translate(13.5625 199.975393)scale(0.1 -0.1)\">\n       <defs>\n        <path d=\"M 691 4666 \nL 3169 4666 \nL 3169 4134 \nL 1269 4134 \nL 1269 2991 \nQ 1406 3038 1543 3061 \nQ 1681 3084 1819 3084 \nQ 2600 3084 3056 2656 \nQ 3513 2228 3513 1497 \nQ 3513 744 3044 326 \nQ 2575 -91 1722 -91 \nQ 1428 -91 1123 -41 \nQ 819 9 494 109 \nL 494 744 \nQ 775 591 1075 516 \nQ 1375 441 1709 441 \nQ 2250 441 2565 725 \nQ 2881 1009 2881 1497 \nQ 2881 1984 2565 2268 \nQ 2250 2553 1709 2553 \nQ 1456 2553 1204 2497 \nQ 953 2441 691 2322 \nL 691 4666 \nz\n\" id=\"DejaVuSans-35\" transform=\"scale(0.015625)\"/>\n       </defs>\n       <use xlink:href=\"#DejaVuSans-35\"/>\n       <use x=\"63.623047\" xlink:href=\"#DejaVuSans-30\"/>\n       <use x=\"127.246094\" xlink:href=\"#DejaVuSans-30\"/>\n       <use x=\"190.869141\" xlink:href=\"#DejaVuSans-30\"/>\n      </g>\n     </g>\n    </g>\n    <g id=\"ytick_3\">\n     <g id=\"line2d_7\">\n      <g>\n       <use style=\"stroke:#000000;stroke-width:0.8;\" x=\"46.0125\" xlink:href=\"#m10d41250a4\" y=\"167.712349\"/>\n      </g>\n     </g>\n     <g id=\"text_7\">\n      <!-- 10000 -->\n      <g transform=\"translate(7.2 171.511568)scale(0.1 -0.1)\">\n       <defs>\n        <path d=\"M 794 531 \nL 1825 531 \nL 1825 4091 \nL 703 3866 \nL 703 4441 \nL 1819 4666 \nL 2450 4666 \nL 2450 531 \nL 3481 531 \nL 3481 0 \nL 794 0 \nL 794 531 \nz\n\" id=\"DejaVuSans-31\" transform=\"scale(0.015625)\"/>\n       </defs>\n       <use xlink:href=\"#DejaVuSans-31\"/>\n       <use x=\"63.623047\" xlink:href=\"#DejaVuSans-30\"/>\n       <use x=\"127.246094\" xlink:href=\"#DejaVuSans-30\"/>\n       <use x=\"190.869141\" xlink:href=\"#DejaVuSans-30\"/>\n       <use x=\"254.492188\" xlink:href=\"#DejaVuSans-30\"/>\n      </g>\n     </g>\n    </g>\n    <g id=\"ytick_4\">\n     <g id=\"line2d_8\">\n      <g>\n       <use style=\"stroke:#000000;stroke-width:0.8;\" x=\"46.0125\" xlink:href=\"#m10d41250a4\" y=\"139.248524\"/>\n      </g>\n     </g>\n     <g id=\"text_8\">\n      <!-- 15000 -->\n      <g transform=\"translate(7.2 143.047743)scale(0.1 -0.1)\">\n       <use xlink:href=\"#DejaVuSans-31\"/>\n       <use x=\"63.623047\" xlink:href=\"#DejaVuSans-35\"/>\n       <use x=\"127.246094\" xlink:href=\"#DejaVuSans-30\"/>\n       <use x=\"190.869141\" xlink:href=\"#DejaVuSans-30\"/>\n       <use x=\"254.492188\" xlink:href=\"#DejaVuSans-30\"/>\n      </g>\n     </g>\n    </g>\n    <g id=\"ytick_5\">\n     <g id=\"line2d_9\">\n      <g>\n       <use style=\"stroke:#000000;stroke-width:0.8;\" x=\"46.0125\" xlink:href=\"#m10d41250a4\" y=\"110.784699\"/>\n      </g>\n     </g>\n     <g id=\"text_9\">\n      <!-- 20000 -->\n      <g transform=\"translate(7.2 114.583918)scale(0.1 -0.1)\">\n       <use xlink:href=\"#DejaVuSans-32\"/>\n       <use x=\"63.623047\" xlink:href=\"#DejaVuSans-30\"/>\n       <use x=\"127.246094\" xlink:href=\"#DejaVuSans-30\"/>\n       <use x=\"190.869141\" xlink:href=\"#DejaVuSans-30\"/>\n       <use x=\"254.492188\" xlink:href=\"#DejaVuSans-30\"/>\n      </g>\n     </g>\n    </g>\n    <g id=\"ytick_6\">\n     <g id=\"line2d_10\">\n      <g>\n       <use style=\"stroke:#000000;stroke-width:0.8;\" x=\"46.0125\" xlink:href=\"#m10d41250a4\" y=\"82.320874\"/>\n      </g>\n     </g>\n     <g id=\"text_10\">\n      <!-- 25000 -->\n      <g transform=\"translate(7.2 86.120092)scale(0.1 -0.1)\">\n       <use xlink:href=\"#DejaVuSans-32\"/>\n       <use x=\"63.623047\" xlink:href=\"#DejaVuSans-35\"/>\n       <use x=\"127.246094\" xlink:href=\"#DejaVuSans-30\"/>\n       <use x=\"190.869141\" xlink:href=\"#DejaVuSans-30\"/>\n       <use x=\"254.492188\" xlink:href=\"#DejaVuSans-30\"/>\n      </g>\n     </g>\n    </g>\n    <g id=\"ytick_7\">\n     <g id=\"line2d_11\">\n      <g>\n       <use style=\"stroke:#000000;stroke-width:0.8;\" x=\"46.0125\" xlink:href=\"#m10d41250a4\" y=\"53.857048\"/>\n      </g>\n     </g>\n     <g id=\"text_11\">\n      <!-- 30000 -->\n      <g transform=\"translate(7.2 57.656267)scale(0.1 -0.1)\">\n       <defs>\n        <path d=\"M 2597 2516 \nQ 3050 2419 3304 2112 \nQ 3559 1806 3559 1356 \nQ 3559 666 3084 287 \nQ 2609 -91 1734 -91 \nQ 1441 -91 1130 -33 \nQ 819 25 488 141 \nL 488 750 \nQ 750 597 1062 519 \nQ 1375 441 1716 441 \nQ 2309 441 2620 675 \nQ 2931 909 2931 1356 \nQ 2931 1769 2642 2001 \nQ 2353 2234 1838 2234 \nL 1294 2234 \nL 1294 2753 \nL 1863 2753 \nQ 2328 2753 2575 2939 \nQ 2822 3125 2822 3475 \nQ 2822 3834 2567 4026 \nQ 2313 4219 1838 4219 \nQ 1578 4219 1281 4162 \nQ 984 4106 628 3988 \nL 628 4550 \nQ 988 4650 1302 4700 \nQ 1616 4750 1894 4750 \nQ 2613 4750 3031 4423 \nQ 3450 4097 3450 3541 \nQ 3450 3153 3228 2886 \nQ 3006 2619 2597 2516 \nz\n\" id=\"DejaVuSans-33\" transform=\"scale(0.015625)\"/>\n       </defs>\n       <use xlink:href=\"#DejaVuSans-33\"/>\n       <use x=\"63.623047\" xlink:href=\"#DejaVuSans-30\"/>\n       <use x=\"127.246094\" xlink:href=\"#DejaVuSans-30\"/>\n       <use x=\"190.869141\" xlink:href=\"#DejaVuSans-30\"/>\n       <use x=\"254.492188\" xlink:href=\"#DejaVuSans-30\"/>\n      </g>\n     </g>\n    </g>\n    <g id=\"ytick_8\">\n     <g id=\"line2d_12\">\n      <g>\n       <use style=\"stroke:#000000;stroke-width:0.8;\" x=\"46.0125\" xlink:href=\"#m10d41250a4\" y=\"25.393223\"/>\n      </g>\n     </g>\n     <g id=\"text_12\">\n      <!-- 35000 -->\n      <g transform=\"translate(7.2 29.192442)scale(0.1 -0.1)\">\n       <use xlink:href=\"#DejaVuSans-33\"/>\n       <use x=\"63.623047\" xlink:href=\"#DejaVuSans-35\"/>\n       <use x=\"127.246094\" xlink:href=\"#DejaVuSans-30\"/>\n       <use x=\"190.869141\" xlink:href=\"#DejaVuSans-30\"/>\n       <use x=\"254.492188\" xlink:href=\"#DejaVuSans-30\"/>\n      </g>\n     </g>\n    </g>\n   </g>\n   <g id=\"patch_13\">\n    <path d=\"M 46.0125 224.64 \nL 46.0125 7.2 \n\" style=\"fill:none;stroke:#000000;stroke-linecap:square;stroke-linejoin:miter;stroke-width:0.8;\"/>\n   </g>\n   <g id=\"patch_14\">\n    <path d=\"M 380.8125 224.64 \nL 380.8125 7.2 \n\" style=\"fill:none;stroke:#000000;stroke-linecap:square;stroke-linejoin:miter;stroke-width:0.8;\"/>\n   </g>\n   <g id=\"patch_15\">\n    <path d=\"M 46.0125 224.64 \nL 380.8125 224.64 \n\" style=\"fill:none;stroke:#000000;stroke-linecap:square;stroke-linejoin:miter;stroke-width:0.8;\"/>\n   </g>\n   <g id=\"patch_16\">\n    <path d=\"M 46.0125 7.2 \nL 380.8125 7.2 \n\" style=\"fill:none;stroke:#000000;stroke-linecap:square;stroke-linejoin:miter;stroke-width:0.8;\"/>\n   </g>\n  </g>\n </g>\n <defs>\n  <clipPath id=\"p7d08e0a1b3\">\n   <rect height=\"217.44\" width=\"334.8\" x=\"46.0125\" y=\"7.2\"/>\n  </clipPath>\n </defs>\n</svg>\n",
      "image/png": "[encoded data removed]"
     },
     "metadata": {
      "needs_background": "light"
     }
    }
   ],
   "source": [
    "minN_minus_minNAvg = listings_num.minimum_nights - listings_num.minimum_nights_avg_ntm\n",
    "minN_minus_minNAvg.unique()\n",
    "minN_minus_minNAvg.value_counts()\n",
    "\n",
    "plt.hist(minN_minus_minNAvg)"
   ]
  },
  {
   "cell_type": "code",
   "execution_count": 29,
   "metadata": {},
   "outputs": [
    {
     "output_type": "execute_result",
     "data": {
      "text/plain": [
       "array([ 0.00000000e+00, -3.95000000e+02, -4.25000000e+02, -1.09500000e+03,\n",
       "       -1.06500000e+03, -1.09600000e+03, -9.75000000e+02, -1.10000000e+03,\n",
       "       -7.60000000e+02, -1.03500000e+03,  3.00000000e+01, -1.08000000e+03,\n",
       "       -1.10400000e+03, -1.09800000e+03, -1.00000000e+00, -9.43000000e+02,\n",
       "       -8.25000000e+02, -8.55000000e+02,  3.37000000e+02, -1.05500000e+03,\n",
       "       -1.11100000e+03, -1.09700000e+03, -7.65000000e+02, -1.00500000e+03,\n",
       "       -1.09400000e+03, -1.12200000e+03, -9.45000000e+02, -1.11300000e+03,\n",
       "        6.00000000e+00, -1.12000000e+03,  5.00000000e+00, -1.08500000e+03,\n",
       "       -6.00000000e+01, -1.11700000e+03, -1.11800000e+03, -1.10700000e+03,\n",
       "       -1.10500000e+03, -1.09300000e+03,  1.03500000e+03, -1.11000000e+03,\n",
       "        5.60000000e+01, -8.85000000e+02, -1.06400000e+03, -1.09000000e+03,\n",
       "       -1.11500000e+03, -9.39000000e+02, -7.25000000e+02,  8.00000000e+00,\n",
       "       -1.02500000e+03,  1.46000000e+02, -9.25000000e+02,  1.09500000e+03,\n",
       "       -1.06600000e+03, -9.44000000e+02, -6.45000000e+02,  1.79000000e+02,\n",
       "       -1.03200000e+03, -1.25000000e+02, -9.15000000e+02,  2.40000000e+01,\n",
       "       -1.07000000e+03, -7.59000000e+02, -1.06300000e+03, -1.10800000e+03,\n",
       "       -1.03000000e+03, -1.40000000e+01, -6.25000000e+02, -1.09200000e+03,\n",
       "        1.20000000e+01,  1.12100000e+03, -7.95000000e+02,  8.70000000e+01,\n",
       "        4.00000000e+00, -2.00000000e+00,  7.65000000e+02, -1.00000000e+03,\n",
       "        1.85000000e+02, -9.95000000e+02, -1.08600000e+03, -1.08800000e+03,\n",
       "       -1.08900000e+03, -1.04500000e+03, -1.01300000e+03, -1.10200000e+03,\n",
       "       -5.20000000e+01, -1.02600000e+03, -5.00000000e+00, -1.10100000e+03,\n",
       "       -1.11900000e+03, -1.11200000e+03,  5.90000000e+01, -1.10900000e+03,\n",
       "       -7.61000000e+02, -1.02900000e+03, -7.69000000e+02, -9.35000000e+02,\n",
       "       -4.60000000e+01,  1.50000000e+01, -9.40000000e+02, -1.03600000e+03,\n",
       "        1.00000000e+00, -9.65000000e+02,  7.60000000e+02,  8.30000000e+01,\n",
       "       -1.07500000e+03, -1.09100000e+03, -1.03300000e+03, -1.11600000e+03,\n",
       "       -1.00000000e+01,  1.11000000e+03, -1.11400000e+03, -1.06000000e+03,\n",
       "       -1.00900000e+03, -3.60000000e+02, -1.06800000e+03, -1.05300000e+03,\n",
       "       -1.12300000e+03, -1.06200000e+03, -1.06700000e+03, -1.12100000e+03,\n",
       "       -1.09900000e+03, -1.02400000e+03, -1.03400000e+03, -1.07800000e+03,\n",
       "       -8.75000000e+02, -3.75000000e+02,  1.06500000e+03, -9.73000000e+02,\n",
       "       -1.08100000e+03, -1.20000000e+02, -8.65000000e+02,  6.00000000e+01,\n",
       "       -8.45000000e+02, -1.05000000e+03,  1.12400000e+03, -9.64000000e+02,\n",
       "       -1.02700000e+03, -9.00000000e+01,  7.00000000e+01,  3.35000000e+02,\n",
       "       -7.62000000e+02, -1.23000000e+02, -9.90000000e+02,  1.26000000e+02,\n",
       "       -4.05000000e+02, -9.37000000e+02,  1.09400000e+03, -1.05200000e+03,\n",
       "       -1.05100000e+03, -1.26000000e+02,  1.10400000e+03,  1.09700000e+03,\n",
       "        8.25000000e+02, -1.03100000e+03, -1.10600000e+03, -1.08700000e+03,\n",
       "        1.11500000e+03,  1.12300000e+03, -1.06100000e+03, -2.14748362e+09,\n",
       "        3.00000000e+00,  1.10000000e+01, -1.12400000e+03, -3.25000000e+02,\n",
       "       -1.00300000e+03, -7.71000000e+02, -2.14748362e+09, -1.08400000e+03,\n",
       "       -7.63000000e+02,  1.11900000e+03,  1.11300000e+03,  1.11100000e+03,\n",
       "       -2.14748252e+09,  8.40000000e+01, -1.07900000e+03,  2.90000000e+01,\n",
       "        1.08000000e+02,  2.70000000e+01,  1.60000000e+01,  7.80000000e+02,\n",
       "        8.00000000e+01,  9.00000000e+00, -1.10300000e+03, -1.08300000e+03,\n",
       "        1.17000000e+02,  8.90000000e+01, -9.26000000e+02,  1.00000000e+01,\n",
       "        1.09600000e+03, -5.70000000e+02, -3.48000000e+02, -1.05400000e+03,\n",
       "       -2.37000000e+02,  1.12200000e+03,  5.40000000e+01, -7.92000000e+02,\n",
       "       -5.25000000e+02, -9.05000000e+02, -6.81000000e+02, -8.26000000e+02,\n",
       "       -1.05600000e+03, -9.47000000e+02,  1.08500000e+03,  1.11600000e+03,\n",
       "       -8.87400000e+03, -1.01500000e+03, -9.93000000e+02, -1.01900000e+03,\n",
       "       -9.69000000e+02, -1.07200000e+03,  9.45000000e+02,             nan,\n",
       "       -1.07100000e+03, -8.93000000e+02, -2.50000000e+01, -8.87000000e+02,\n",
       "        1.80000000e+01, -1.02300000e+03,  2.00000000e+00, -2.25000000e+02,\n",
       "       -9.42000000e+02,  3.63000000e+02, -1.02000000e+03, -8.46000000e+02,\n",
       "        3.60000000e+02,  3.36000000e+02, -5.85000000e+02, -8.77000000e+02,\n",
       "       -7.58000000e+02,  1.10500000e+03, -4.21000000e+02, -8.66000000e+02,\n",
       "       -9.72000000e+02, -7.57000000e+02, -9.77000000e+02, -7.75000000e+02,\n",
       "       -7.49000000e+02, -9.12000000e+02, -9.46000000e+02, -7.45000000e+02,\n",
       "        2.80000000e+01, -7.39000000e+02, -7.47000000e+02,  9.90000000e+01,\n",
       "        1.02500000e+03,  1.65000000e+02, -9.80000000e+02,  3.40000000e+02,\n",
       "       -1.00800000e+03, -1.02100000e+03,  3.55000000e+02,  5.80000000e+01,\n",
       "       -7.48000000e+02, -9.60000000e+02, -6.34000000e+02,  3.10000000e+01,\n",
       "       -4.00000000e+00, -1.05900000e+03,  3.45000000e+02,  3.62000000e+02])"
      ]
     },
     "metadata": {},
     "execution_count": 29
    },
    {
     "output_type": "execute_result",
     "data": {
      "text/plain": [
       " 0.0       30725\n",
       "-1095.0      810\n",
       "-760.0       609\n",
       "-1035.0      416\n",
       "-1065.0      368\n",
       "           ...  \n",
       "-1052.0        1\n",
       "-937.0         1\n",
       "-990.0         1\n",
       "-123.0         1\n",
       " 362.0         1\n",
       "Length: 259, dtype: int64"
      ]
     },
     "metadata": {},
     "execution_count": 29
    },
    {
     "output_type": "execute_result",
     "data": {
      "text/plain": [
       "(array([3.6000e+01, 0.0000e+00, 0.0000e+00, 0.0000e+00, 0.0000e+00,\n",
       "        0.0000e+00, 0.0000e+00, 0.0000e+00, 0.0000e+00, 3.6671e+04]),\n",
       " array([-2.14748362e+09, -1.93273514e+09, -1.71798667e+09, -1.50323819e+09,\n",
       "        -1.28848972e+09, -1.07374125e+09, -8.58992772e+08, -6.44244298e+08,\n",
       "        -4.29495824e+08, -2.14747350e+08,  1.12400000e+03]),\n",
       " <BarContainer object of 10 artists>)"
      ]
     },
     "metadata": {},
     "execution_count": 29
    },
    {
     "output_type": "display_data",
     "data": {
      "text/plain": "<Figure size 432x288 with 1 Axes>",
      "image/svg+xml": "<?xml version=\"1.0\" encoding=\"utf-8\" standalone=\"no\"?>\n<!DOCTYPE svg PUBLIC \"-//W3C//DTD SVG 1.1//EN\"\n  \"http://www.w3.org/Graphics/SVG/1.1/DTD/svg11.dtd\">\n<svg height=\"261.19625pt\" version=\"1.1\" viewBox=\"0 0 388.0125 261.19625\" width=\"388.0125pt\" xmlns=\"http://www.w3.org/2000/svg\" xmlns:xlink=\"http://www.w3.org/1999/xlink\">\n <metadata>\n  <rdf:RDF xmlns:cc=\"http://creativecommons.org/ns#\" xmlns:dc=\"http://purl.org/dc/elements/1.1/\" xmlns:rdf=\"http://www.w3.org/1999/02/22-rdf-syntax-ns#\">\n   <cc:Work>\n    <dc:type rdf:resource=\"http://purl.org/dc/dcmitype/StillImage\"/>\n    <dc:date>2021-09-07T21:59:23.864391</dc:date>\n    <dc:format>image/svg+xml</dc:format>\n    <dc:creator>\n     <cc:Agent>\n      <dc:title>Matplotlib v3.4.3, https://matplotlib.org/</dc:title>\n     </cc:Agent>\n    </dc:creator>\n   </cc:Work>\n  </rdf:RDF>\n </metadata>\n <defs>\n  <style type=\"text/css\">*{stroke-linecap:butt;stroke-linejoin:round;}</style>\n </defs>\n <g id=\"figure_1\">\n  <g id=\"patch_1\">\n   <path d=\"M 0 261.19625 \nL 388.0125 261.19625 \nL 388.0125 0 \nL 0 0 \nz\n\" style=\"fill:none;\"/>\n  </g>\n  <g id=\"axes_1\">\n   <g id=\"patch_2\">\n    <path d=\"M 46.0125 224.64 \nL 380.8125 224.64 \nL 380.8125 7.2 \nL 46.0125 7.2 \nz\n\" style=\"fill:#ffffff;\"/>\n   </g>\n   <g id=\"patch_3\">\n    <path clip-path=\"url(#p1668ff043a)\" d=\"M 61.230682 224.64 \nL 91.667045 224.64 \nL 91.667045 224.436704 \nL 61.230682 224.436704 \nz\n\" style=\"fill:#1f77b4;\"/>\n   </g>\n   <g id=\"patch_4\">\n    <path clip-path=\"url(#p1668ff043a)\" d=\"M 91.667045 224.64 \nL 122.103409 224.64 \nL 122.103409 224.64 \nL 91.667045 224.64 \nz\n\" style=\"fill:#1f77b4;\"/>\n   </g>\n   <g id=\"patch_5\">\n    <path clip-path=\"url(#p1668ff043a)\" d=\"M 122.103409 224.64 \nL 152.539773 224.64 \nL 152.539773 224.64 \nL 122.103409 224.64 \nz\n\" style=\"fill:#1f77b4;\"/>\n   </g>\n   <g id=\"patch_6\">\n    <path clip-path=\"url(#p1668ff043a)\" d=\"M 152.539773 224.64 \nL 182.976136 224.64 \nL 182.976136 224.64 \nL 152.539773 224.64 \nz\n\" style=\"fill:#1f77b4;\"/>\n   </g>\n   <g id=\"patch_7\">\n    <path clip-path=\"url(#p1668ff043a)\" d=\"M 182.976136 224.64 \nL 213.4125 224.64 \nL 213.4125 224.64 \nL 182.976136 224.64 \nz\n\" style=\"fill:#1f77b4;\"/>\n   </g>\n   <g id=\"patch_8\">\n    <path clip-path=\"url(#p1668ff043a)\" d=\"M 213.4125 224.64 \nL 243.848864 224.64 \nL 243.848864 224.64 \nL 213.4125 224.64 \nz\n\" style=\"fill:#1f77b4;\"/>\n   </g>\n   <g id=\"patch_9\">\n    <path clip-path=\"url(#p1668ff043a)\" d=\"M 243.848864 224.64 \nL 274.285227 224.64 \nL 274.285227 224.64 \nL 243.848864 224.64 \nz\n\" style=\"fill:#1f77b4;\"/>\n   </g>\n   <g id=\"patch_10\">\n    <path clip-path=\"url(#p1668ff043a)\" d=\"M 274.285227 224.64 \nL 304.721591 224.64 \nL 304.721591 224.64 \nL 274.285227 224.64 \nz\n\" style=\"fill:#1f77b4;\"/>\n   </g>\n   <g id=\"patch_11\">\n    <path clip-path=\"url(#p1668ff043a)\" d=\"M 304.721591 224.64 \nL 335.157955 224.64 \nL 335.157955 224.64 \nL 304.721591 224.64 \nz\n\" style=\"fill:#1f77b4;\"/>\n   </g>\n   <g id=\"patch_12\">\n    <path clip-path=\"url(#p1668ff043a)\" d=\"M 335.157955 224.64 \nL 365.594318 224.64 \nL 365.594318 17.554286 \nL 335.157955 17.554286 \nz\n\" style=\"fill:#1f77b4;\"/>\n   </g>\n   <g id=\"matplotlib.axis_1\">\n    <g id=\"xtick_1\">\n     <g id=\"line2d_1\">\n      <defs>\n       <path d=\"M 0 0 \nL 0 3.5 \n\" id=\"m97cae78ea9\" style=\"stroke:#000000;stroke-width:0.8;\"/>\n      </defs>\n      <g>\n       <use style=\"stroke:#000000;stroke-width:0.8;\" x=\"82.133578\" xlink:href=\"#m97cae78ea9\" y=\"224.64\"/>\n      </g>\n     </g>\n     <g id=\"text_1\">\n      <!-- −2.0 -->\n      <g transform=\"translate(69.992171 239.238437)scale(0.1 -0.1)\">\n       <defs>\n        <path d=\"M 678 2272 \nL 4684 2272 \nL 4684 1741 \nL 678 1741 \nL 678 2272 \nz\n\" id=\"DejaVuSans-2212\" transform=\"scale(0.015625)\"/>\n        <path d=\"M 1228 531 \nL 3431 531 \nL 3431 0 \nL 469 0 \nL 469 531 \nQ 828 903 1448 1529 \nQ 2069 2156 2228 2338 \nQ 2531 2678 2651 2914 \nQ 2772 3150 2772 3378 \nQ 2772 3750 2511 3984 \nQ 2250 4219 1831 4219 \nQ 1534 4219 1204 4116 \nQ 875 4013 500 3803 \nL 500 4441 \nQ 881 4594 1212 4672 \nQ 1544 4750 1819 4750 \nQ 2544 4750 2975 4387 \nQ 3406 4025 3406 3419 \nQ 3406 3131 3298 2873 \nQ 3191 2616 2906 2266 \nQ 2828 2175 2409 1742 \nQ 1991 1309 1228 531 \nz\n\" id=\"DejaVuSans-32\" transform=\"scale(0.015625)\"/>\n        <path d=\"M 684 794 \nL 1344 794 \nL 1344 0 \nL 684 0 \nL 684 794 \nz\n\" id=\"DejaVuSans-2e\" transform=\"scale(0.015625)\"/>\n        <path d=\"M 2034 4250 \nQ 1547 4250 1301 3770 \nQ 1056 3291 1056 2328 \nQ 1056 1369 1301 889 \nQ 1547 409 2034 409 \nQ 2525 409 2770 889 \nQ 3016 1369 3016 2328 \nQ 3016 3291 2770 3770 \nQ 2525 4250 2034 4250 \nz\nM 2034 4750 \nQ 2819 4750 3233 4129 \nQ 3647 3509 3647 2328 \nQ 3647 1150 3233 529 \nQ 2819 -91 2034 -91 \nQ 1250 -91 836 529 \nQ 422 1150 422 2328 \nQ 422 3509 836 4129 \nQ 1250 4750 2034 4750 \nz\n\" id=\"DejaVuSans-30\" transform=\"scale(0.015625)\"/>\n       </defs>\n       <use xlink:href=\"#DejaVuSans-2212\"/>\n       <use x=\"83.789062\" xlink:href=\"#DejaVuSans-32\"/>\n       <use x=\"147.412109\" xlink:href=\"#DejaVuSans-2e\"/>\n       <use x=\"179.199219\" xlink:href=\"#DejaVuSans-30\"/>\n      </g>\n     </g>\n    </g>\n    <g id=\"xtick_2\">\n     <g id=\"line2d_2\">\n      <g>\n       <use style=\"stroke:#000000;stroke-width:0.8;\" x=\"152.998723\" xlink:href=\"#m97cae78ea9\" y=\"224.64\"/>\n      </g>\n     </g>\n     <g id=\"text_2\">\n      <!-- −1.5 -->\n      <g transform=\"translate(140.857317 239.238437)scale(0.1 -0.1)\">\n       <defs>\n        <path d=\"M 794 531 \nL 1825 531 \nL 1825 4091 \nL 703 3866 \nL 703 4441 \nL 1819 4666 \nL 2450 4666 \nL 2450 531 \nL 3481 531 \nL 3481 0 \nL 794 0 \nL 794 531 \nz\n\" id=\"DejaVuSans-31\" transform=\"scale(0.015625)\"/>\n        <path d=\"M 691 4666 \nL 3169 4666 \nL 3169 4134 \nL 1269 4134 \nL 1269 2991 \nQ 1406 3038 1543 3061 \nQ 1681 3084 1819 3084 \nQ 2600 3084 3056 2656 \nQ 3513 2228 3513 1497 \nQ 3513 744 3044 326 \nQ 2575 -91 1722 -91 \nQ 1428 -91 1123 -41 \nQ 819 9 494 109 \nL 494 744 \nQ 775 591 1075 516 \nQ 1375 441 1709 441 \nQ 2250 441 2565 725 \nQ 2881 1009 2881 1497 \nQ 2881 1984 2565 2268 \nQ 2250 2553 1709 2553 \nQ 1456 2553 1204 2497 \nQ 953 2441 691 2322 \nL 691 4666 \nz\n\" id=\"DejaVuSans-35\" transform=\"scale(0.015625)\"/>\n       </defs>\n       <use xlink:href=\"#DejaVuSans-2212\"/>\n       <use x=\"83.789062\" xlink:href=\"#DejaVuSans-31\"/>\n       <use x=\"147.412109\" xlink:href=\"#DejaVuSans-2e\"/>\n       <use x=\"179.199219\" xlink:href=\"#DejaVuSans-35\"/>\n      </g>\n     </g>\n    </g>\n    <g id=\"xtick_3\">\n     <g id=\"line2d_3\">\n      <g>\n       <use style=\"stroke:#000000;stroke-width:0.8;\" x=\"223.863868\" xlink:href=\"#m97cae78ea9\" y=\"224.64\"/>\n      </g>\n     </g>\n     <g id=\"text_3\">\n      <!-- −1.0 -->\n      <g transform=\"translate(211.722462 239.238437)scale(0.1 -0.1)\">\n       <use xlink:href=\"#DejaVuSans-2212\"/>\n       <use x=\"83.789062\" xlink:href=\"#DejaVuSans-31\"/>\n       <use x=\"147.412109\" xlink:href=\"#DejaVuSans-2e\"/>\n       <use x=\"179.199219\" xlink:href=\"#DejaVuSans-30\"/>\n      </g>\n     </g>\n    </g>\n    <g id=\"xtick_4\">\n     <g id=\"line2d_4\">\n      <g>\n       <use style=\"stroke:#000000;stroke-width:0.8;\" x=\"294.729014\" xlink:href=\"#m97cae78ea9\" y=\"224.64\"/>\n      </g>\n     </g>\n     <g id=\"text_4\">\n      <!-- −0.5 -->\n      <g transform=\"translate(282.587607 239.238437)scale(0.1 -0.1)\">\n       <use xlink:href=\"#DejaVuSans-2212\"/>\n       <use x=\"83.789062\" xlink:href=\"#DejaVuSans-30\"/>\n       <use x=\"147.412109\" xlink:href=\"#DejaVuSans-2e\"/>\n       <use x=\"179.199219\" xlink:href=\"#DejaVuSans-35\"/>\n      </g>\n     </g>\n    </g>\n    <g id=\"xtick_5\">\n     <g id=\"line2d_5\">\n      <g>\n       <use style=\"stroke:#000000;stroke-width:0.8;\" x=\"365.594159\" xlink:href=\"#m97cae78ea9\" y=\"224.64\"/>\n      </g>\n     </g>\n     <g id=\"text_5\">\n      <!-- 0.0 -->\n      <g transform=\"translate(357.642596 239.238437)scale(0.1 -0.1)\">\n       <use xlink:href=\"#DejaVuSans-30\"/>\n       <use x=\"63.623047\" xlink:href=\"#DejaVuSans-2e\"/>\n       <use x=\"95.410156\" xlink:href=\"#DejaVuSans-30\"/>\n      </g>\n     </g>\n    </g>\n    <g id=\"text_6\">\n     <!-- 1e9 -->\n     <g transform=\"translate(361.934375 251.916562)scale(0.1 -0.1)\">\n      <defs>\n       <path d=\"M 3597 1894 \nL 3597 1613 \nL 953 1613 \nQ 991 1019 1311 708 \nQ 1631 397 2203 397 \nQ 2534 397 2845 478 \nQ 3156 559 3463 722 \nL 3463 178 \nQ 3153 47 2828 -22 \nQ 2503 -91 2169 -91 \nQ 1331 -91 842 396 \nQ 353 884 353 1716 \nQ 353 2575 817 3079 \nQ 1281 3584 2069 3584 \nQ 2775 3584 3186 3129 \nQ 3597 2675 3597 1894 \nz\nM 3022 2063 \nQ 3016 2534 2758 2815 \nQ 2500 3097 2075 3097 \nQ 1594 3097 1305 2825 \nQ 1016 2553 972 2059 \nL 3022 2063 \nz\n\" id=\"DejaVuSans-65\" transform=\"scale(0.015625)\"/>\n       <path d=\"M 703 97 \nL 703 672 \nQ 941 559 1184 500 \nQ 1428 441 1663 441 \nQ 2288 441 2617 861 \nQ 2947 1281 2994 2138 \nQ 2813 1869 2534 1725 \nQ 2256 1581 1919 1581 \nQ 1219 1581 811 2004 \nQ 403 2428 403 3163 \nQ 403 3881 828 4315 \nQ 1253 4750 1959 4750 \nQ 2769 4750 3195 4129 \nQ 3622 3509 3622 2328 \nQ 3622 1225 3098 567 \nQ 2575 -91 1691 -91 \nQ 1453 -91 1209 -44 \nQ 966 3 703 97 \nz\nM 1959 2075 \nQ 2384 2075 2632 2365 \nQ 2881 2656 2881 3163 \nQ 2881 3666 2632 3958 \nQ 2384 4250 1959 4250 \nQ 1534 4250 1286 3958 \nQ 1038 3666 1038 3163 \nQ 1038 2656 1286 2365 \nQ 1534 2075 1959 2075 \nz\n\" id=\"DejaVuSans-39\" transform=\"scale(0.015625)\"/>\n      </defs>\n      <use xlink:href=\"#DejaVuSans-31\"/>\n      <use x=\"63.623047\" xlink:href=\"#DejaVuSans-65\"/>\n      <use x=\"125.146484\" xlink:href=\"#DejaVuSans-39\"/>\n     </g>\n    </g>\n   </g>\n   <g id=\"matplotlib.axis_2\">\n    <g id=\"ytick_1\">\n     <g id=\"line2d_6\">\n      <defs>\n       <path d=\"M 0 0 \nL -3.5 0 \n\" id=\"m1116d762e6\" style=\"stroke:#000000;stroke-width:0.8;\"/>\n      </defs>\n      <g>\n       <use style=\"stroke:#000000;stroke-width:0.8;\" x=\"46.0125\" xlink:href=\"#m1116d762e6\" y=\"224.64\"/>\n      </g>\n     </g>\n     <g id=\"text_7\">\n      <!-- 0 -->\n      <g transform=\"translate(32.65 228.439219)scale(0.1 -0.1)\">\n       <use xlink:href=\"#DejaVuSans-30\"/>\n      </g>\n     </g>\n    </g>\n    <g id=\"ytick_2\">\n     <g id=\"line2d_7\">\n      <g>\n       <use style=\"stroke:#000000;stroke-width:0.8;\" x=\"46.0125\" xlink:href=\"#m1116d762e6\" y=\"196.404376\"/>\n      </g>\n     </g>\n     <g id=\"text_8\">\n      <!-- 5000 -->\n      <g transform=\"translate(13.5625 200.203595)scale(0.1 -0.1)\">\n       <use xlink:href=\"#DejaVuSans-35\"/>\n       <use x=\"63.623047\" xlink:href=\"#DejaVuSans-30\"/>\n       <use x=\"127.246094\" xlink:href=\"#DejaVuSans-30\"/>\n       <use x=\"190.869141\" xlink:href=\"#DejaVuSans-30\"/>\n      </g>\n     </g>\n    </g>\n    <g id=\"ytick_3\">\n     <g id=\"line2d_8\">\n      <g>\n       <use style=\"stroke:#000000;stroke-width:0.8;\" x=\"46.0125\" xlink:href=\"#m1116d762e6\" y=\"168.168752\"/>\n      </g>\n     </g>\n     <g id=\"text_9\">\n      <!-- 10000 -->\n      <g transform=\"translate(7.2 171.967971)scale(0.1 -0.1)\">\n       <use xlink:href=\"#DejaVuSans-31\"/>\n       <use x=\"63.623047\" xlink:href=\"#DejaVuSans-30\"/>\n       <use x=\"127.246094\" xlink:href=\"#DejaVuSans-30\"/>\n       <use x=\"190.869141\" xlink:href=\"#DejaVuSans-30\"/>\n       <use x=\"254.492188\" xlink:href=\"#DejaVuSans-30\"/>\n      </g>\n     </g>\n    </g>\n    <g id=\"ytick_4\">\n     <g id=\"line2d_9\">\n      <g>\n       <use style=\"stroke:#000000;stroke-width:0.8;\" x=\"46.0125\" xlink:href=\"#m1116d762e6\" y=\"139.933128\"/>\n      </g>\n     </g>\n     <g id=\"text_10\">\n      <!-- 15000 -->\n      <g transform=\"translate(7.2 143.732346)scale(0.1 -0.1)\">\n       <use xlink:href=\"#DejaVuSans-31\"/>\n       <use x=\"63.623047\" xlink:href=\"#DejaVuSans-35\"/>\n       <use x=\"127.246094\" xlink:href=\"#DejaVuSans-30\"/>\n       <use x=\"190.869141\" xlink:href=\"#DejaVuSans-30\"/>\n       <use x=\"254.492188\" xlink:href=\"#DejaVuSans-30\"/>\n      </g>\n     </g>\n    </g>\n    <g id=\"ytick_5\">\n     <g id=\"line2d_10\">\n      <g>\n       <use style=\"stroke:#000000;stroke-width:0.8;\" x=\"46.0125\" xlink:href=\"#m1116d762e6\" y=\"111.697504\"/>\n      </g>\n     </g>\n     <g id=\"text_11\">\n      <!-- 20000 -->\n      <g transform=\"translate(7.2 115.496722)scale(0.1 -0.1)\">\n       <use xlink:href=\"#DejaVuSans-32\"/>\n       <use x=\"63.623047\" xlink:href=\"#DejaVuSans-30\"/>\n       <use x=\"127.246094\" xlink:href=\"#DejaVuSans-30\"/>\n       <use x=\"190.869141\" xlink:href=\"#DejaVuSans-30\"/>\n       <use x=\"254.492188\" xlink:href=\"#DejaVuSans-30\"/>\n      </g>\n     </g>\n    </g>\n    <g id=\"ytick_6\">\n     <g id=\"line2d_11\">\n      <g>\n       <use style=\"stroke:#000000;stroke-width:0.8;\" x=\"46.0125\" xlink:href=\"#m1116d762e6\" y=\"83.461879\"/>\n      </g>\n     </g>\n     <g id=\"text_12\">\n      <!-- 25000 -->\n      <g transform=\"translate(7.2 87.261098)scale(0.1 -0.1)\">\n       <use xlink:href=\"#DejaVuSans-32\"/>\n       <use x=\"63.623047\" xlink:href=\"#DejaVuSans-35\"/>\n       <use x=\"127.246094\" xlink:href=\"#DejaVuSans-30\"/>\n       <use x=\"190.869141\" xlink:href=\"#DejaVuSans-30\"/>\n       <use x=\"254.492188\" xlink:href=\"#DejaVuSans-30\"/>\n      </g>\n     </g>\n    </g>\n    <g id=\"ytick_7\">\n     <g id=\"line2d_12\">\n      <g>\n       <use style=\"stroke:#000000;stroke-width:0.8;\" x=\"46.0125\" xlink:href=\"#m1116d762e6\" y=\"55.226255\"/>\n      </g>\n     </g>\n     <g id=\"text_13\">\n      <!-- 30000 -->\n      <g transform=\"translate(7.2 59.025474)scale(0.1 -0.1)\">\n       <defs>\n        <path d=\"M 2597 2516 \nQ 3050 2419 3304 2112 \nQ 3559 1806 3559 1356 \nQ 3559 666 3084 287 \nQ 2609 -91 1734 -91 \nQ 1441 -91 1130 -33 \nQ 819 25 488 141 \nL 488 750 \nQ 750 597 1062 519 \nQ 1375 441 1716 441 \nQ 2309 441 2620 675 \nQ 2931 909 2931 1356 \nQ 2931 1769 2642 2001 \nQ 2353 2234 1838 2234 \nL 1294 2234 \nL 1294 2753 \nL 1863 2753 \nQ 2328 2753 2575 2939 \nQ 2822 3125 2822 3475 \nQ 2822 3834 2567 4026 \nQ 2313 4219 1838 4219 \nQ 1578 4219 1281 4162 \nQ 984 4106 628 3988 \nL 628 4550 \nQ 988 4650 1302 4700 \nQ 1616 4750 1894 4750 \nQ 2613 4750 3031 4423 \nQ 3450 4097 3450 3541 \nQ 3450 3153 3228 2886 \nQ 3006 2619 2597 2516 \nz\n\" id=\"DejaVuSans-33\" transform=\"scale(0.015625)\"/>\n       </defs>\n       <use xlink:href=\"#DejaVuSans-33\"/>\n       <use x=\"63.623047\" xlink:href=\"#DejaVuSans-30\"/>\n       <use x=\"127.246094\" xlink:href=\"#DejaVuSans-30\"/>\n       <use x=\"190.869141\" xlink:href=\"#DejaVuSans-30\"/>\n       <use x=\"254.492188\" xlink:href=\"#DejaVuSans-30\"/>\n      </g>\n     </g>\n    </g>\n    <g id=\"ytick_8\">\n     <g id=\"line2d_13\">\n      <g>\n       <use style=\"stroke:#000000;stroke-width:0.8;\" x=\"46.0125\" xlink:href=\"#m1116d762e6\" y=\"26.990631\"/>\n      </g>\n     </g>\n     <g id=\"text_14\">\n      <!-- 35000 -->\n      <g transform=\"translate(7.2 30.78985)scale(0.1 -0.1)\">\n       <use xlink:href=\"#DejaVuSans-33\"/>\n       <use x=\"63.623047\" xlink:href=\"#DejaVuSans-35\"/>\n       <use x=\"127.246094\" xlink:href=\"#DejaVuSans-30\"/>\n       <use x=\"190.869141\" xlink:href=\"#DejaVuSans-30\"/>\n       <use x=\"254.492188\" xlink:href=\"#DejaVuSans-30\"/>\n      </g>\n     </g>\n    </g>\n   </g>\n   <g id=\"patch_13\">\n    <path d=\"M 46.0125 224.64 \nL 46.0125 7.2 \n\" style=\"fill:none;stroke:#000000;stroke-linecap:square;stroke-linejoin:miter;stroke-width:0.8;\"/>\n   </g>\n   <g id=\"patch_14\">\n    <path d=\"M 380.8125 224.64 \nL 380.8125 7.2 \n\" style=\"fill:none;stroke:#000000;stroke-linecap:square;stroke-linejoin:miter;stroke-width:0.8;\"/>\n   </g>\n   <g id=\"patch_15\">\n    <path d=\"M 46.0125 224.64 \nL 380.8125 224.64 \n\" style=\"fill:none;stroke:#000000;stroke-linecap:square;stroke-linejoin:miter;stroke-width:0.8;\"/>\n   </g>\n   <g id=\"patch_16\">\n    <path d=\"M 46.0125 7.2 \nL 380.8125 7.2 \n\" style=\"fill:none;stroke:#000000;stroke-linecap:square;stroke-linejoin:miter;stroke-width:0.8;\"/>\n   </g>\n  </g>\n </g>\n <defs>\n  <clipPath id=\"p1668ff043a\">\n   <rect height=\"217.44\" width=\"334.8\" x=\"46.0125\" y=\"7.2\"/>\n  </clipPath>\n </defs>\n</svg>\n",
      "image/png": "[encoded data removed]"
     },
     "metadata": {
      "needs_background": "light"
     }
    }
   ],
   "source": [
    "maxN_minus_minMaxN = listings_num.maximum_nights - listings_num.minimum_maximum_nights\n",
    "maxN_minus_minMaxN.unique()\n",
    "maxN_minus_minMaxN.value_counts()\n",
    "\n",
    "plt.hist(maxN_minus_minMaxN)"
   ]
  },
  {
   "cell_type": "code",
   "execution_count": 28,
   "metadata": {},
   "outputs": [
    {
     "output_type": "execute_result",
     "data": {
      "text/plain": [
       "array([ 0.00000000e+00, -3.95000000e+02, -4.25000000e+02, -1.09500000e+03,\n",
       "       -1.06500000e+03, -1.09600000e+03, -9.75000000e+02, -1.10000000e+03,\n",
       "       -7.60000000e+02, -1.03500000e+03, -1.08000000e+03, -1.10400000e+03,\n",
       "       -1.09800000e+03, -1.00000000e+00, -9.43000000e+02, -8.25000000e+02,\n",
       "       -8.55000000e+02, -1.05500000e+03, -1.11100000e+03, -1.09700000e+03,\n",
       "       -7.65000000e+02, -1.00500000e+03, -1.09400000e+03, -1.12200000e+03,\n",
       "       -9.45000000e+02, -1.11300000e+03, -1.12000000e+03, -1.08500000e+03,\n",
       "       -1.11700000e+03, -1.11800000e+03, -1.10700000e+03, -1.10500000e+03,\n",
       "       -1.09300000e+03, -1.11000000e+03, -8.85000000e+02, -1.06400000e+03,\n",
       "       -1.09000000e+03, -1.11500000e+03, -1.11400000e+03, -9.39000000e+02,\n",
       "       -7.25000000e+02, -1.02500000e+03, -9.25000000e+02, -1.06600000e+03,\n",
       "       -9.44000000e+02, -6.45000000e+02, -1.03200000e+03, -1.25000000e+02,\n",
       "       -9.15000000e+02, -1.07000000e+03, -7.59000000e+02, -1.06300000e+03,\n",
       "       -1.10800000e+03, -1.03000000e+03, -1.40000000e+01, -6.25000000e+02,\n",
       "       -1.09200000e+03, -7.95000000e+02, -2.00000000e+00, -1.00000000e+03,\n",
       "       -9.95000000e+02, -1.08600000e+03, -1.08800000e+03, -1.08900000e+03,\n",
       "       -1.04500000e+03, -1.01300000e+03, -1.10200000e+03, -1.02600000e+03,\n",
       "       -5.00000000e+00, -1.10100000e+03, -1.11900000e+03, -1.11200000e+03,\n",
       "       -1.10900000e+03, -7.61000000e+02, -1.02900000e+03, -7.69000000e+02,\n",
       "       -9.35000000e+02, -9.40000000e+02, -1.03600000e+03,  1.00000000e+00,\n",
       "       -9.65000000e+02, -1.07500000e+03, -1.09100000e+03, -1.03300000e+03,\n",
       "       -1.11600000e+03, -2.00000000e+01, -1.06000000e+03, -1.00900000e+03,\n",
       "       -3.60000000e+02, -1.06800000e+03, -1.05300000e+03, -1.12300000e+03,\n",
       "       -1.06200000e+03, -1.06700000e+03, -1.12100000e+03, -1.09900000e+03,\n",
       "       -1.02400000e+03, -1.03400000e+03, -1.07800000e+03, -8.75000000e+02,\n",
       "       -3.75000000e+02, -9.73000000e+02, -1.08100000e+03, -1.20000000e+02,\n",
       "       -8.65000000e+02, -8.45000000e+02, -1.05000000e+03,  7.60000000e+02,\n",
       "       -9.64000000e+02, -1.02700000e+03,  8.00000000e+00, -9.00000000e+00,\n",
       "        3.35000000e+02, -7.62000000e+02, -1.23000000e+02, -9.90000000e+02,\n",
       "        1.26000000e+02, -4.05000000e+02, -9.37000000e+02, -1.05200000e+03,\n",
       "       -1.05100000e+03, -1.26000000e+02,  1.10400000e+03, -1.03100000e+03,\n",
       "       -1.10600000e+03, -1.08700000e+03, -1.06100000e+03, -2.14748362e+09,\n",
       "       -1.12400000e+03, -3.25000000e+02, -2.14748328e+09, -1.00300000e+03,\n",
       "       -7.71000000e+02, -2.14748362e+09, -1.08400000e+03, -7.63000000e+02,\n",
       "        1.09400000e+03, -2.14748252e+09, -1.07900000e+03,  1.09700000e+03,\n",
       "        7.80000000e+02,  1.11000000e+03, -4.50000000e+01, -6.20000000e+01,\n",
       "        9.00000000e+00, -1.10300000e+03, -1.08300000e+03, -9.26000000e+02,\n",
       "       -2.14748362e+09, -9.70000000e+02,  1.09500000e+03,  1.00000000e+01,\n",
       "       -2.14748363e+09, -5.70000000e+02, -3.48000000e+02, -1.05400000e+03,\n",
       "       -2.37000000e+02, -7.92000000e+02, -5.25000000e+02, -9.05000000e+02,\n",
       "       -6.81000000e+02, -8.26000000e+02, -1.05600000e+03, -9.47000000e+02,\n",
       "       -1.01500000e+03, -2.10000000e+02, -9.93000000e+02, -1.01900000e+03,\n",
       "       -1.07200000e+03,  1.85000000e+02, -1.77000000e+02,  9.45000000e+02,\n",
       "                   nan, -1.07100000e+03, -8.93000000e+02, -2.50000000e+01,\n",
       "       -8.87000000e+02, -1.02300000e+03, -2.25000000e+02, -9.42000000e+02,\n",
       "       -1.02000000e+03, -8.46000000e+02, -5.85000000e+02, -8.77000000e+02,\n",
       "       -7.58000000e+02, -4.21000000e+02, -8.66000000e+02, -9.72000000e+02,\n",
       "       -7.57000000e+02, -9.77000000e+02, -7.75000000e+02, -7.49000000e+02,\n",
       "       -9.12000000e+02, -9.46000000e+02, -7.45000000e+02,  3.37000000e+02,\n",
       "       -4.00000000e+00, -7.39000000e+02, -7.47000000e+02, -9.80000000e+02,\n",
       "       -1.00800000e+03, -1.02100000e+03,  3.55000000e+02, -2.70000000e+01,\n",
       "       -7.48000000e+02, -9.60000000e+02, -6.34000000e+02, -1.05900000e+03,\n",
       "        3.50000000e+02,  3.53000000e+02])"
      ]
     },
     "metadata": {},
     "execution_count": 28
    },
    {
     "output_type": "execute_result",
     "data": {
      "text/plain": [
       " 0.0       30885\n",
       "-1095.0      822\n",
       "-760.0       612\n",
       "-1097.0      424\n",
       "-1035.0      420\n",
       "           ...  \n",
       "-1068.0        1\n",
       "-970.0         1\n",
       "-1053.0        1\n",
       "-1067.0        1\n",
       "-865.0         1\n",
       "Length: 209, dtype: int64"
      ]
     },
     "metadata": {},
     "execution_count": 28
    },
    {
     "output_type": "execute_result",
     "data": {
      "text/plain": [
       "(array([   62.,     0.,     0.,     0.,     0.,     0.,     0.,     0.,\n",
       "            0., 36645.]),\n",
       " array([-2.14748363e+09, -1.93273515e+09, -1.71798668e+09, -1.50323821e+09,\n",
       "        -1.28848973e+09, -1.07374126e+09, -8.58992784e+08, -6.44244311e+08,\n",
       "        -4.29495837e+08, -2.14747364e+08,  1.11000000e+03]),\n",
       " <BarContainer object of 10 artists>)"
      ]
     },
     "metadata": {},
     "execution_count": 28
    },
    {
     "output_type": "display_data",
     "data": {
      "text/plain": "<Figure size 432x288 with 1 Axes>",
      "image/svg+xml": "<?xml version=\"1.0\" encoding=\"utf-8\" standalone=\"no\"?>\n<!DOCTYPE svg PUBLIC \"-//W3C//DTD SVG 1.1//EN\"\n  \"http://www.w3.org/Graphics/SVG/1.1/DTD/svg11.dtd\">\n<svg height=\"261.19625pt\" version=\"1.1\" viewBox=\"0 0 388.0125 261.19625\" width=\"388.0125pt\" xmlns=\"http://www.w3.org/2000/svg\" xmlns:xlink=\"http://www.w3.org/1999/xlink\">\n <metadata>\n  <rdf:RDF xmlns:cc=\"http://creativecommons.org/ns#\" xmlns:dc=\"http://purl.org/dc/elements/1.1/\" xmlns:rdf=\"http://www.w3.org/1999/02/22-rdf-syntax-ns#\">\n   <cc:Work>\n    <dc:type rdf:resource=\"http://purl.org/dc/dcmitype/StillImage\"/>\n    <dc:date>2021-09-07T21:59:14.926804</dc:date>\n    <dc:format>image/svg+xml</dc:format>\n    <dc:creator>\n     <cc:Agent>\n      <dc:title>Matplotlib v3.4.3, https://matplotlib.org/</dc:title>\n     </cc:Agent>\n    </dc:creator>\n   </cc:Work>\n  </rdf:RDF>\n </metadata>\n <defs>\n  <style type=\"text/css\">*{stroke-linecap:butt;stroke-linejoin:round;}</style>\n </defs>\n <g id=\"figure_1\">\n  <g id=\"patch_1\">\n   <path d=\"M 0 261.19625 \nL 388.0125 261.19625 \nL 388.0125 0 \nL 0 0 \nz\n\" style=\"fill:none;\"/>\n  </g>\n  <g id=\"axes_1\">\n   <g id=\"patch_2\">\n    <path d=\"M 46.0125 224.64 \nL 380.8125 224.64 \nL 380.8125 7.2 \nL 46.0125 7.2 \nz\n\" style=\"fill:#ffffff;\"/>\n   </g>\n   <g id=\"patch_3\">\n    <path clip-path=\"url(#p128ece41b5)\" d=\"M 61.230682 224.64 \nL 91.667045 224.64 \nL 91.667045 224.28963 \nL 61.230682 224.28963 \nz\n\" style=\"fill:#1f77b4;\"/>\n   </g>\n   <g id=\"patch_4\">\n    <path clip-path=\"url(#p128ece41b5)\" d=\"M 91.667045 224.64 \nL 122.103409 224.64 \nL 122.103409 224.64 \nL 91.667045 224.64 \nz\n\" style=\"fill:#1f77b4;\"/>\n   </g>\n   <g id=\"patch_5\">\n    <path clip-path=\"url(#p128ece41b5)\" d=\"M 122.103409 224.64 \nL 152.539773 224.64 \nL 152.539773 224.64 \nL 122.103409 224.64 \nz\n\" style=\"fill:#1f77b4;\"/>\n   </g>\n   <g id=\"patch_6\">\n    <path clip-path=\"url(#p128ece41b5)\" d=\"M 152.539773 224.64 \nL 182.976136 224.64 \nL 182.976136 224.64 \nL 152.539773 224.64 \nz\n\" style=\"fill:#1f77b4;\"/>\n   </g>\n   <g id=\"patch_7\">\n    <path clip-path=\"url(#p128ece41b5)\" d=\"M 182.976136 224.64 \nL 213.4125 224.64 \nL 213.4125 224.64 \nL 182.976136 224.64 \nz\n\" style=\"fill:#1f77b4;\"/>\n   </g>\n   <g id=\"patch_8\">\n    <path clip-path=\"url(#p128ece41b5)\" d=\"M 213.4125 224.64 \nL 243.848864 224.64 \nL 243.848864 224.64 \nL 213.4125 224.64 \nz\n\" style=\"fill:#1f77b4;\"/>\n   </g>\n   <g id=\"patch_9\">\n    <path clip-path=\"url(#p128ece41b5)\" d=\"M 243.848864 224.64 \nL 274.285227 224.64 \nL 274.285227 224.64 \nL 243.848864 224.64 \nz\n\" style=\"fill:#1f77b4;\"/>\n   </g>\n   <g id=\"patch_10\">\n    <path clip-path=\"url(#p128ece41b5)\" d=\"M 274.285227 224.64 \nL 304.721591 224.64 \nL 304.721591 224.64 \nL 274.285227 224.64 \nz\n\" style=\"fill:#1f77b4;\"/>\n   </g>\n   <g id=\"patch_11\">\n    <path clip-path=\"url(#p128ece41b5)\" d=\"M 304.721591 224.64 \nL 335.157955 224.64 \nL 335.157955 224.64 \nL 304.721591 224.64 \nz\n\" style=\"fill:#1f77b4;\"/>\n   </g>\n   <g id=\"patch_12\">\n    <path clip-path=\"url(#p128ece41b5)\" d=\"M 335.157955 224.64 \nL 365.594318 224.64 \nL 365.594318 17.554286 \nL 335.157955 17.554286 \nz\n\" style=\"fill:#1f77b4;\"/>\n   </g>\n   <g id=\"matplotlib.axis_1\">\n    <g id=\"xtick_1\">\n     <g id=\"line2d_1\">\n      <defs>\n       <path d=\"M 0 0 \nL 0 3.5 \n\" id=\"m0d2503c3fc\" style=\"stroke:#000000;stroke-width:0.8;\"/>\n      </defs>\n      <g>\n       <use style=\"stroke:#000000;stroke-width:0.8;\" x=\"82.133579\" xlink:href=\"#m0d2503c3fc\" y=\"224.64\"/>\n      </g>\n     </g>\n     <g id=\"text_1\">\n      <!-- −2.0 -->\n      <g transform=\"translate(69.992173 239.238437)scale(0.1 -0.1)\">\n       <defs>\n        <path d=\"M 678 2272 \nL 4684 2272 \nL 4684 1741 \nL 678 1741 \nL 678 2272 \nz\n\" id=\"DejaVuSans-2212\" transform=\"scale(0.015625)\"/>\n        <path d=\"M 1228 531 \nL 3431 531 \nL 3431 0 \nL 469 0 \nL 469 531 \nQ 828 903 1448 1529 \nQ 2069 2156 2228 2338 \nQ 2531 2678 2651 2914 \nQ 2772 3150 2772 3378 \nQ 2772 3750 2511 3984 \nQ 2250 4219 1831 4219 \nQ 1534 4219 1204 4116 \nQ 875 4013 500 3803 \nL 500 4441 \nQ 881 4594 1212 4672 \nQ 1544 4750 1819 4750 \nQ 2544 4750 2975 4387 \nQ 3406 4025 3406 3419 \nQ 3406 3131 3298 2873 \nQ 3191 2616 2906 2266 \nQ 2828 2175 2409 1742 \nQ 1991 1309 1228 531 \nz\n\" id=\"DejaVuSans-32\" transform=\"scale(0.015625)\"/>\n        <path d=\"M 684 794 \nL 1344 794 \nL 1344 0 \nL 684 0 \nL 684 794 \nz\n\" id=\"DejaVuSans-2e\" transform=\"scale(0.015625)\"/>\n        <path d=\"M 2034 4250 \nQ 1547 4250 1301 3770 \nQ 1056 3291 1056 2328 \nQ 1056 1369 1301 889 \nQ 1547 409 2034 409 \nQ 2525 409 2770 889 \nQ 3016 1369 3016 2328 \nQ 3016 3291 2770 3770 \nQ 2525 4250 2034 4250 \nz\nM 2034 4750 \nQ 2819 4750 3233 4129 \nQ 3647 3509 3647 2328 \nQ 3647 1150 3233 529 \nQ 2819 -91 2034 -91 \nQ 1250 -91 836 529 \nQ 422 1150 422 2328 \nQ 422 3509 836 4129 \nQ 1250 4750 2034 4750 \nz\n\" id=\"DejaVuSans-30\" transform=\"scale(0.015625)\"/>\n       </defs>\n       <use xlink:href=\"#DejaVuSans-2212\"/>\n       <use x=\"83.789062\" xlink:href=\"#DejaVuSans-32\"/>\n       <use x=\"147.412109\" xlink:href=\"#DejaVuSans-2e\"/>\n       <use x=\"179.199219\" xlink:href=\"#DejaVuSans-30\"/>\n      </g>\n     </g>\n    </g>\n    <g id=\"xtick_2\">\n     <g id=\"line2d_2\">\n      <g>\n       <use style=\"stroke:#000000;stroke-width:0.8;\" x=\"152.998724\" xlink:href=\"#m0d2503c3fc\" y=\"224.64\"/>\n      </g>\n     </g>\n     <g id=\"text_2\">\n      <!-- −1.5 -->\n      <g transform=\"translate(140.857318 239.238437)scale(0.1 -0.1)\">\n       <defs>\n        <path d=\"M 794 531 \nL 1825 531 \nL 1825 4091 \nL 703 3866 \nL 703 4441 \nL 1819 4666 \nL 2450 4666 \nL 2450 531 \nL 3481 531 \nL 3481 0 \nL 794 0 \nL 794 531 \nz\n\" id=\"DejaVuSans-31\" transform=\"scale(0.015625)\"/>\n        <path d=\"M 691 4666 \nL 3169 4666 \nL 3169 4134 \nL 1269 4134 \nL 1269 2991 \nQ 1406 3038 1543 3061 \nQ 1681 3084 1819 3084 \nQ 2600 3084 3056 2656 \nQ 3513 2228 3513 1497 \nQ 3513 744 3044 326 \nQ 2575 -91 1722 -91 \nQ 1428 -91 1123 -41 \nQ 819 9 494 109 \nL 494 744 \nQ 775 591 1075 516 \nQ 1375 441 1709 441 \nQ 2250 441 2565 725 \nQ 2881 1009 2881 1497 \nQ 2881 1984 2565 2268 \nQ 2250 2553 1709 2553 \nQ 1456 2553 1204 2497 \nQ 953 2441 691 2322 \nL 691 4666 \nz\n\" id=\"DejaVuSans-35\" transform=\"scale(0.015625)\"/>\n       </defs>\n       <use xlink:href=\"#DejaVuSans-2212\"/>\n       <use x=\"83.789062\" xlink:href=\"#DejaVuSans-31\"/>\n       <use x=\"147.412109\" xlink:href=\"#DejaVuSans-2e\"/>\n       <use x=\"179.199219\" xlink:href=\"#DejaVuSans-35\"/>\n      </g>\n     </g>\n    </g>\n    <g id=\"xtick_3\">\n     <g id=\"line2d_3\">\n      <g>\n       <use style=\"stroke:#000000;stroke-width:0.8;\" x=\"223.86387\" xlink:href=\"#m0d2503c3fc\" y=\"224.64\"/>\n      </g>\n     </g>\n     <g id=\"text_3\">\n      <!-- −1.0 -->\n      <g transform=\"translate(211.722464 239.238437)scale(0.1 -0.1)\">\n       <use xlink:href=\"#DejaVuSans-2212\"/>\n       <use x=\"83.789062\" xlink:href=\"#DejaVuSans-31\"/>\n       <use x=\"147.412109\" xlink:href=\"#DejaVuSans-2e\"/>\n       <use x=\"179.199219\" xlink:href=\"#DejaVuSans-30\"/>\n      </g>\n     </g>\n    </g>\n    <g id=\"xtick_4\">\n     <g id=\"line2d_4\">\n      <g>\n       <use style=\"stroke:#000000;stroke-width:0.8;\" x=\"294.729015\" xlink:href=\"#m0d2503c3fc\" y=\"224.64\"/>\n      </g>\n     </g>\n     <g id=\"text_4\">\n      <!-- −0.5 -->\n      <g transform=\"translate(282.587609 239.238437)scale(0.1 -0.1)\">\n       <use xlink:href=\"#DejaVuSans-2212\"/>\n       <use x=\"83.789062\" xlink:href=\"#DejaVuSans-30\"/>\n       <use x=\"147.412109\" xlink:href=\"#DejaVuSans-2e\"/>\n       <use x=\"179.199219\" xlink:href=\"#DejaVuSans-35\"/>\n      </g>\n     </g>\n    </g>\n    <g id=\"xtick_5\">\n     <g id=\"line2d_5\">\n      <g>\n       <use style=\"stroke:#000000;stroke-width:0.8;\" x=\"365.594161\" xlink:href=\"#m0d2503c3fc\" y=\"224.64\"/>\n      </g>\n     </g>\n     <g id=\"text_5\">\n      <!-- 0.0 -->\n      <g transform=\"translate(357.642598 239.238437)scale(0.1 -0.1)\">\n       <use xlink:href=\"#DejaVuSans-30\"/>\n       <use x=\"63.623047\" xlink:href=\"#DejaVuSans-2e\"/>\n       <use x=\"95.410156\" xlink:href=\"#DejaVuSans-30\"/>\n      </g>\n     </g>\n    </g>\n    <g id=\"text_6\">\n     <!-- 1e9 -->\n     <g transform=\"translate(361.934375 251.916562)scale(0.1 -0.1)\">\n      <defs>\n       <path d=\"M 3597 1894 \nL 3597 1613 \nL 953 1613 \nQ 991 1019 1311 708 \nQ 1631 397 2203 397 \nQ 2534 397 2845 478 \nQ 3156 559 3463 722 \nL 3463 178 \nQ 3153 47 2828 -22 \nQ 2503 -91 2169 -91 \nQ 1331 -91 842 396 \nQ 353 884 353 1716 \nQ 353 2575 817 3079 \nQ 1281 3584 2069 3584 \nQ 2775 3584 3186 3129 \nQ 3597 2675 3597 1894 \nz\nM 3022 2063 \nQ 3016 2534 2758 2815 \nQ 2500 3097 2075 3097 \nQ 1594 3097 1305 2825 \nQ 1016 2553 972 2059 \nL 3022 2063 \nz\n\" id=\"DejaVuSans-65\" transform=\"scale(0.015625)\"/>\n       <path d=\"M 703 97 \nL 703 672 \nQ 941 559 1184 500 \nQ 1428 441 1663 441 \nQ 2288 441 2617 861 \nQ 2947 1281 2994 2138 \nQ 2813 1869 2534 1725 \nQ 2256 1581 1919 1581 \nQ 1219 1581 811 2004 \nQ 403 2428 403 3163 \nQ 403 3881 828 4315 \nQ 1253 4750 1959 4750 \nQ 2769 4750 3195 4129 \nQ 3622 3509 3622 2328 \nQ 3622 1225 3098 567 \nQ 2575 -91 1691 -91 \nQ 1453 -91 1209 -44 \nQ 966 3 703 97 \nz\nM 1959 2075 \nQ 2384 2075 2632 2365 \nQ 2881 2656 2881 3163 \nQ 2881 3666 2632 3958 \nQ 2384 4250 1959 4250 \nQ 1534 4250 1286 3958 \nQ 1038 3666 1038 3163 \nQ 1038 2656 1286 2365 \nQ 1534 2075 1959 2075 \nz\n\" id=\"DejaVuSans-39\" transform=\"scale(0.015625)\"/>\n      </defs>\n      <use xlink:href=\"#DejaVuSans-31\"/>\n      <use x=\"63.623047\" xlink:href=\"#DejaVuSans-65\"/>\n      <use x=\"125.146484\" xlink:href=\"#DejaVuSans-39\"/>\n     </g>\n    </g>\n   </g>\n   <g id=\"matplotlib.axis_2\">\n    <g id=\"ytick_1\">\n     <g id=\"line2d_6\">\n      <defs>\n       <path d=\"M 0 0 \nL -3.5 0 \n\" id=\"m6702215eba\" style=\"stroke:#000000;stroke-width:0.8;\"/>\n      </defs>\n      <g>\n       <use style=\"stroke:#000000;stroke-width:0.8;\" x=\"46.0125\" xlink:href=\"#m6702215eba\" y=\"224.64\"/>\n      </g>\n     </g>\n     <g id=\"text_7\">\n      <!-- 0 -->\n      <g transform=\"translate(32.65 228.439219)scale(0.1 -0.1)\">\n       <use xlink:href=\"#DejaVuSans-30\"/>\n      </g>\n     </g>\n    </g>\n    <g id=\"ytick_2\">\n     <g id=\"line2d_7\">\n      <g>\n       <use style=\"stroke:#000000;stroke-width:0.8;\" x=\"46.0125\" xlink:href=\"#m6702215eba\" y=\"196.384342\"/>\n      </g>\n     </g>\n     <g id=\"text_8\">\n      <!-- 5000 -->\n      <g transform=\"translate(13.5625 200.183561)scale(0.1 -0.1)\">\n       <use xlink:href=\"#DejaVuSans-35\"/>\n       <use x=\"63.623047\" xlink:href=\"#DejaVuSans-30\"/>\n       <use x=\"127.246094\" xlink:href=\"#DejaVuSans-30\"/>\n       <use x=\"190.869141\" xlink:href=\"#DejaVuSans-30\"/>\n      </g>\n     </g>\n    </g>\n    <g id=\"ytick_3\">\n     <g id=\"line2d_8\">\n      <g>\n       <use style=\"stroke:#000000;stroke-width:0.8;\" x=\"46.0125\" xlink:href=\"#m6702215eba\" y=\"168.128685\"/>\n      </g>\n     </g>\n     <g id=\"text_9\">\n      <!-- 10000 -->\n      <g transform=\"translate(7.2 171.927904)scale(0.1 -0.1)\">\n       <use xlink:href=\"#DejaVuSans-31\"/>\n       <use x=\"63.623047\" xlink:href=\"#DejaVuSans-30\"/>\n       <use x=\"127.246094\" xlink:href=\"#DejaVuSans-30\"/>\n       <use x=\"190.869141\" xlink:href=\"#DejaVuSans-30\"/>\n       <use x=\"254.492188\" xlink:href=\"#DejaVuSans-30\"/>\n      </g>\n     </g>\n    </g>\n    <g id=\"ytick_4\">\n     <g id=\"line2d_9\">\n      <g>\n       <use style=\"stroke:#000000;stroke-width:0.8;\" x=\"46.0125\" xlink:href=\"#m6702215eba\" y=\"139.873027\"/>\n      </g>\n     </g>\n     <g id=\"text_10\">\n      <!-- 15000 -->\n      <g transform=\"translate(7.2 143.672246)scale(0.1 -0.1)\">\n       <use xlink:href=\"#DejaVuSans-31\"/>\n       <use x=\"63.623047\" xlink:href=\"#DejaVuSans-35\"/>\n       <use x=\"127.246094\" xlink:href=\"#DejaVuSans-30\"/>\n       <use x=\"190.869141\" xlink:href=\"#DejaVuSans-30\"/>\n       <use x=\"254.492188\" xlink:href=\"#DejaVuSans-30\"/>\n      </g>\n     </g>\n    </g>\n    <g id=\"ytick_5\">\n     <g id=\"line2d_10\">\n      <g>\n       <use style=\"stroke:#000000;stroke-width:0.8;\" x=\"46.0125\" xlink:href=\"#m6702215eba\" y=\"111.61737\"/>\n      </g>\n     </g>\n     <g id=\"text_11\">\n      <!-- 20000 -->\n      <g transform=\"translate(7.2 115.416588)scale(0.1 -0.1)\">\n       <use xlink:href=\"#DejaVuSans-32\"/>\n       <use x=\"63.623047\" xlink:href=\"#DejaVuSans-30\"/>\n       <use x=\"127.246094\" xlink:href=\"#DejaVuSans-30\"/>\n       <use x=\"190.869141\" xlink:href=\"#DejaVuSans-30\"/>\n       <use x=\"254.492188\" xlink:href=\"#DejaVuSans-30\"/>\n      </g>\n     </g>\n    </g>\n    <g id=\"ytick_6\">\n     <g id=\"line2d_11\">\n      <g>\n       <use style=\"stroke:#000000;stroke-width:0.8;\" x=\"46.0125\" xlink:href=\"#m6702215eba\" y=\"83.361712\"/>\n      </g>\n     </g>\n     <g id=\"text_12\">\n      <!-- 25000 -->\n      <g transform=\"translate(7.2 87.160931)scale(0.1 -0.1)\">\n       <use xlink:href=\"#DejaVuSans-32\"/>\n       <use x=\"63.623047\" xlink:href=\"#DejaVuSans-35\"/>\n       <use x=\"127.246094\" xlink:href=\"#DejaVuSans-30\"/>\n       <use x=\"190.869141\" xlink:href=\"#DejaVuSans-30\"/>\n       <use x=\"254.492188\" xlink:href=\"#DejaVuSans-30\"/>\n      </g>\n     </g>\n    </g>\n    <g id=\"ytick_7\">\n     <g id=\"line2d_12\">\n      <g>\n       <use style=\"stroke:#000000;stroke-width:0.8;\" x=\"46.0125\" xlink:href=\"#m6702215eba\" y=\"55.106055\"/>\n      </g>\n     </g>\n     <g id=\"text_13\">\n      <!-- 30000 -->\n      <g transform=\"translate(7.2 58.905273)scale(0.1 -0.1)\">\n       <defs>\n        <path d=\"M 2597 2516 \nQ 3050 2419 3304 2112 \nQ 3559 1806 3559 1356 \nQ 3559 666 3084 287 \nQ 2609 -91 1734 -91 \nQ 1441 -91 1130 -33 \nQ 819 25 488 141 \nL 488 750 \nQ 750 597 1062 519 \nQ 1375 441 1716 441 \nQ 2309 441 2620 675 \nQ 2931 909 2931 1356 \nQ 2931 1769 2642 2001 \nQ 2353 2234 1838 2234 \nL 1294 2234 \nL 1294 2753 \nL 1863 2753 \nQ 2328 2753 2575 2939 \nQ 2822 3125 2822 3475 \nQ 2822 3834 2567 4026 \nQ 2313 4219 1838 4219 \nQ 1578 4219 1281 4162 \nQ 984 4106 628 3988 \nL 628 4550 \nQ 988 4650 1302 4700 \nQ 1616 4750 1894 4750 \nQ 2613 4750 3031 4423 \nQ 3450 4097 3450 3541 \nQ 3450 3153 3228 2886 \nQ 3006 2619 2597 2516 \nz\n\" id=\"DejaVuSans-33\" transform=\"scale(0.015625)\"/>\n       </defs>\n       <use xlink:href=\"#DejaVuSans-33\"/>\n       <use x=\"63.623047\" xlink:href=\"#DejaVuSans-30\"/>\n       <use x=\"127.246094\" xlink:href=\"#DejaVuSans-30\"/>\n       <use x=\"190.869141\" xlink:href=\"#DejaVuSans-30\"/>\n       <use x=\"254.492188\" xlink:href=\"#DejaVuSans-30\"/>\n      </g>\n     </g>\n    </g>\n    <g id=\"ytick_8\">\n     <g id=\"line2d_13\">\n      <g>\n       <use style=\"stroke:#000000;stroke-width:0.8;\" x=\"46.0125\" xlink:href=\"#m6702215eba\" y=\"26.850397\"/>\n      </g>\n     </g>\n     <g id=\"text_14\">\n      <!-- 35000 -->\n      <g transform=\"translate(7.2 30.649616)scale(0.1 -0.1)\">\n       <use xlink:href=\"#DejaVuSans-33\"/>\n       <use x=\"63.623047\" xlink:href=\"#DejaVuSans-35\"/>\n       <use x=\"127.246094\" xlink:href=\"#DejaVuSans-30\"/>\n       <use x=\"190.869141\" xlink:href=\"#DejaVuSans-30\"/>\n       <use x=\"254.492188\" xlink:href=\"#DejaVuSans-30\"/>\n      </g>\n     </g>\n    </g>\n   </g>\n   <g id=\"patch_13\">\n    <path d=\"M 46.0125 224.64 \nL 46.0125 7.2 \n\" style=\"fill:none;stroke:#000000;stroke-linecap:square;stroke-linejoin:miter;stroke-width:0.8;\"/>\n   </g>\n   <g id=\"patch_14\">\n    <path d=\"M 380.8125 224.64 \nL 380.8125 7.2 \n\" style=\"fill:none;stroke:#000000;stroke-linecap:square;stroke-linejoin:miter;stroke-width:0.8;\"/>\n   </g>\n   <g id=\"patch_15\">\n    <path d=\"M 46.0125 224.64 \nL 380.8125 224.64 \n\" style=\"fill:none;stroke:#000000;stroke-linecap:square;stroke-linejoin:miter;stroke-width:0.8;\"/>\n   </g>\n   <g id=\"patch_16\">\n    <path d=\"M 46.0125 7.2 \nL 380.8125 7.2 \n\" style=\"fill:none;stroke:#000000;stroke-linecap:square;stroke-linejoin:miter;stroke-width:0.8;\"/>\n   </g>\n  </g>\n </g>\n <defs>\n  <clipPath id=\"p128ece41b5\">\n   <rect height=\"217.44\" width=\"334.8\" x=\"46.0125\" y=\"7.2\"/>\n  </clipPath>\n </defs>\n</svg>\n",
      "image/png": "[encoded data removed]"
     },
     "metadata": {
      "needs_background": "light"
     }
    }
   ],
   "source": [
    "maxN_minus_maxMaxN = listings_num.maximum_nights - listings_num.maximum_maximum_nights\n",
    "maxN_minus_maxMaxN.unique()\n",
    "maxN_minus_maxMaxN.value_counts()\n",
    "\n",
    "plt.hist(maxN_minus_maxMaxN)"
   ]
  },
  {
   "cell_type": "code",
   "execution_count": 30,
   "metadata": {},
   "outputs": [
    {
     "output_type": "execute_result",
     "data": {
      "text/plain": [
       "array([ 0.00000000e+00, -3.95000000e+02, -4.25000000e+02, -1.09500000e+03,\n",
       "       -1.06500000e+03, -1.09600000e+03, -9.75000000e+02, -1.10000000e+03,\n",
       "       -7.60000000e+02, -1.03500000e+03,  7.50000000e+00, -1.08000000e+03,\n",
       "       -1.10400000e+03, -1.09800000e+03, -1.00000000e+00, -9.43000000e+02,\n",
       "       -8.25000000e+02, -8.55000000e+02, -6.80000000e+02, -1.05500000e+03,\n",
       "       -1.11100000e+03, -1.09700000e+03, -7.65000000e+02, -1.00500000e+03,\n",
       "       -1.09400000e+03, -1.12200000e+03, -9.45000000e+02, -1.11300000e+03,\n",
       "        1.00000000e-01, -1.12000000e+03,  1.20000000e+00, -1.08500000e+03,\n",
       "       -8.61300000e+02, -1.11700000e+03, -1.11800000e+03, -1.10700000e+03,\n",
       "       -1.10500000e+03, -1.09300000e+03, -1.00340000e+03,  7.31000000e+01,\n",
       "       -1.11000000e+03,  1.10000000e+00, -8.85000000e+02, -1.10470000e+03,\n",
       "       -1.06400000e+03, -1.09000000e+03, -1.11500000e+03, -1.08610000e+03,\n",
       "       -9.39000000e+02, -7.25000000e+02, -1.10250000e+03, -1.02500000e+03,\n",
       "        2.38000000e+01, -9.25000000e+02,  2.50000000e+00, -1.06600000e+03,\n",
       "       -9.44000000e+02, -6.45000000e+02, -9.11800000e+02, -1.03200000e+03,\n",
       "       -1.25000000e+02, -9.15000000e+02, -9.21200000e+02, -1.07000000e+03,\n",
       "       -7.59000000e+02, -1.06300000e+03, -1.10800000e+03, -1.03000000e+03,\n",
       "       -1.40000000e+01, -6.25000000e+02, -1.09200000e+03, -1.06920000e+03,\n",
       "        4.58000000e+01, -7.95000000e+02,  1.16000000e+01,  1.00000000e-01,\n",
       "       -2.00000000e+00,  3.18200000e+02, -1.00000000e+03, -9.87500000e+02,\n",
       "       -3.63900000e+02, -9.95000000e+02, -1.08600000e+03, -1.08800000e+03,\n",
       "       -1.08900000e+03, -1.04500000e+03, -1.01300000e+03, -1.10200000e+03,\n",
       "       -1.05730000e+03, -1.02600000e+03, -5.00000000e+00, -1.10100000e+03,\n",
       "       -1.11900000e+03, -1.11200000e+03,  4.20000000e+00, -1.10900000e+03,\n",
       "       -7.61000000e+02, -1.02900000e+03, -7.69000000e+02, -9.35000000e+02,\n",
       "       -1.08430000e+03,  2.70000000e+00, -9.40000000e+02, -1.03600000e+03,\n",
       "        1.00000000e+00, -9.65000000e+02,  3.16100000e+02, -5.84500000e+02,\n",
       "       -1.07500000e+03, -1.09100000e+03, -1.03300000e+03, -1.11600000e+03,\n",
       "       -9.90600000e+02,  1.08700000e+02, -1.40000000e+00, -1.11400000e+03,\n",
       "       -1.06000000e+03, -1.00900000e+03, -3.60000000e+02, -1.06800000e+03,\n",
       "       -1.05300000e+03, -1.12300000e+03, -1.06200000e+03, -1.06700000e+03,\n",
       "       -1.12100000e+03, -1.09900000e+03, -1.02400000e+03, -1.03400000e+03,\n",
       "       -1.07800000e+03, -8.75000000e+02, -3.75000000e+02,  2.57200000e+02,\n",
       "       -9.73000000e+02, -9.53700000e+02, -1.08100000e+03, -1.20000000e+02,\n",
       "       -8.65000000e+02,  1.40000000e+00, -8.45000000e+02, -1.05000000e+03,\n",
       "        7.70000000e+00,  7.60000000e+02, -9.64000000e+02, -1.02700000e+03,\n",
       "       -9.61800000e+02,  8.00000000e+00, -1.00000000e-01, -1.00750000e+03,\n",
       "        3.35000000e+02, -1.11040000e+03, -7.62000000e+02, -1.23000000e+02,\n",
       "       -9.90000000e+02,  1.26000000e+02,  7.46000000e+01, -4.05000000e+02,\n",
       "       -9.37000000e+02,  7.73000000e+01, -1.00000000e-01,  3.35500000e+02,\n",
       "       -1.05200000e+03, -1.05100000e+03, -1.26000000e+02,  1.10400000e+03,\n",
       "        9.87100000e+02, -1.09900000e+02,  3.57100000e+02, -9.50000000e+01,\n",
       "       -1.03100000e+03, -1.10600000e+03, -1.08700000e+03,  5.84000000e+01,\n",
       "        7.40000000e+01, -1.06100000e+03, -2.14748362e+09, -1.07940000e+03,\n",
       "       -1.12400000e+03, -3.25000000e+02, -1.61428128e+08, -1.00300000e+03,\n",
       "       -7.71000000e+02, -2.14748362e+09,  1.07370000e+03, -2.00000000e-01,\n",
       "       -1.08400000e+03, -7.63000000e+02,  8.31000000e+02,  1.09420000e+03,\n",
       "        1.09120000e+03,  1.08200000e+03, -2.14748252e+09,  7.34700000e+02,\n",
       "        4.80000000e+00,  1.90000000e+00, -1.07900000e+03,  2.20000000e+00,\n",
       "        2.80000000e+00,  4.80000000e+00,  3.30000000e+00,  4.10000000e+00,\n",
       "        3.20000000e+00,  3.40000000e+00,  2.20000000e+00,  4.60000000e+00,\n",
       "        1.20000000e+00,  2.00000000e+00,  1.60000000e+00,  1.09400000e+03,\n",
       "       -6.29300000e+02,  5.00000000e+00,  4.30000000e+00,  1.25700000e+02,\n",
       "        1.09700000e+03,  7.80000000e+02,  1.11000000e+03,  1.18000000e+01,\n",
       "       -2.70000000e+00,  3.60000000e+00,  6.40000000e+00,  6.10000000e+00,\n",
       "       -2.82000000e+01,  9.00000000e+00, -1.10300000e+03, -1.08300000e+03,\n",
       "        2.10000000e+00, -9.26000000e+02, -5.02706393e+08, -5.03851510e+08,\n",
       "       -2.77800000e+02,  1.09500000e+03,  1.00000000e+01, -2.13772124e+09,\n",
       "       -2.13770010e+09,  9.10000000e+00,  8.60000000e+00,  8.40000000e+00,\n",
       "        8.50000000e+00,  9.60000000e+00,  9.40000000e+00,  8.20000000e+00,\n",
       "        9.20000000e+00,  1.02000000e+01,  1.01000000e+01,  2.40000000e+00,\n",
       "        2.30000000e+00,  2.10000000e+00,  5.45500000e+02, -5.70000000e+02,\n",
       "       -3.48000000e+02,  1.09260000e+03,  3.00000000e+00,  1.80000000e+00,\n",
       "       -1.05400000e+03,  6.92500000e+02, -2.37000000e+02,  1.02000000e+01,\n",
       "       -7.92000000e+02, -5.25000000e+02, -9.05000000e+02,  6.56100000e+02,\n",
       "        6.38800000e+02, -6.81000000e+02, -8.26000000e+02, -1.05600000e+03,\n",
       "        1.08330000e+03,  1.09370000e+03,  6.33600000e+02,  6.44000000e+02,\n",
       "        5.80000000e+02,  6.20000000e+00,  5.20000000e+00,  5.90000000e+00,\n",
       "        1.50000000e+00, -8.40400000e+02, -1.06870000e+03, -9.47000000e+02,\n",
       "        8.65000000e+01,  6.00000000e+00,  5.40000000e+00, -8.63300000e+02,\n",
       "        1.09410000e+03,  5.60000000e+00,  2.70000000e+00,  5.99000000e+02,\n",
       "       -7.97362415e+08, -7.87578896e+08,  6.90000000e+00,  5.50000000e+00,\n",
       "        8.90000000e+00,  5.80000000e+00,  6.60000000e+00,  6.30000000e+00,\n",
       "        3.10000000e+00,  4.70000000e+00,  4.90000000e+00,  3.70000000e+00,\n",
       "        6.80000000e+00,  3.90000000e+00,  8.30000000e+00,  7.70000000e+00,\n",
       "        6.50000000e+00,  8.10000000e+00,  7.00000000e+00,  6.70000000e+00,\n",
       "        7.60000000e+00,  7.40000000e+00,  1.49600000e+02, -1.01500000e+03,\n",
       "       -1.63000000e+01, -9.93000000e+02, -1.01900000e+03, -9.73600000e+02,\n",
       "        1.09190000e+03,  5.59000000e+01,  1.05570000e+03, -1.07200000e+03,\n",
       "        1.85000000e+02,  4.92900000e+02,  6.28600000e+02, -4.19000000e+01,\n",
       "        4.30000000e+00,  9.45000000e+02,             nan, -1.07100000e+03,\n",
       "       -8.93000000e+02, -2.50000000e+01, -8.87000000e+02,  1.04000000e+01,\n",
       "       -1.02300000e+03,  8.70000000e+00, -1.10020000e+03, -2.25000000e+02,\n",
       "        5.28000000e+01, -4.86400000e+02, -9.42000000e+02,  3.32600000e+02,\n",
       "        1.05050000e+03,  1.38600000e+02, -1.02000000e+03, -8.46000000e+02,\n",
       "        1.46000000e+01,  2.54600000e+02, -1.35000000e+02,  3.10400000e+02,\n",
       "       -2.13769976e+09,  3.31300000e+02,  1.37400000e+02,  8.77000000e+01,\n",
       "        7.48000000e+01,  1.67100000e+02, -5.85000000e+02, -8.77000000e+02,\n",
       "       -7.58000000e+02,  7.60000000e+00, -4.21000000e+02, -8.66000000e+02,\n",
       "        1.38900000e+02, -9.72000000e+02, -7.57000000e+02, -9.77000000e+02,\n",
       "       -7.75000000e+02,  7.06300000e+02, -1.08450000e+03, -7.49000000e+02,\n",
       "       -9.12000000e+02, -9.24300000e+02,  2.56000000e+01,  5.97300000e+02,\n",
       "       -9.46000000e+02, -7.45000000e+02, -1.04010000e+03,  3.38300000e+02,\n",
       "        3.38400000e+02,  3.38800000e+02,  3.38200000e+02,  6.00000000e-01,\n",
       "        1.37900000e+02,  3.38100000e+02,  3.41000000e+02,  3.43400000e+02,\n",
       "        3.40100000e+02,  3.41500000e+02,  3.40700000e+02, -7.39000000e+02,\n",
       "       -7.47000000e+02, -1.01730000e+03,  8.00000000e-01,  1.37100000e+02,\n",
       "        1.36800000e+02,  1.37200000e+02,  1.35800000e+02,  1.38700000e+02,\n",
       "        1.39500000e+02,  3.40000000e+02,  5.60000000e+01, -6.16700000e+02,\n",
       "        2.78900000e+02,  2.00000000e-01, -9.80000000e+02,  1.70000000e+00,\n",
       "       -2.40100000e+02, -2.75200000e+02, -1.00800000e+03, -1.08730000e+03,\n",
       "       -2.77000000e+01, -9.87800000e+02, -1.02100000e+03,  3.55000000e+02,\n",
       "       -2.10000000e+00,  8.45000000e+01,  4.60000000e+00,  1.18700000e+02,\n",
       "       -1.05600000e+02, -3.90900000e+02, -7.48000000e+02, -9.60000000e+02,\n",
       "        3.00000000e-01,  8.00000000e-01, -6.34000000e+02,  2.00000000e-01,\n",
       "        5.57000000e+01,  3.58000000e+01, -1.00690000e+03, -8.54700000e+02,\n",
       "       -1.05900000e+03,  3.17000000e+02,  3.51200000e+02,  3.53500000e+02,\n",
       "        1.89000000e+01,  2.84500000e+02])"
      ]
     },
     "metadata": {},
     "execution_count": 30
    },
    {
     "output_type": "execute_result",
     "data": {
      "text/plain": [
       " 0.0       30623\n",
       "-1095.0      810\n",
       "-760.0       607\n",
       "-1035.0      416\n",
       "-1065.0      368\n",
       "           ...  \n",
       " 5.2           1\n",
       " 5.9           1\n",
       " 1.5           1\n",
       "-840.4         1\n",
       " 284.5         1\n",
       "Length: 429, dtype: int64"
      ]
     },
     "metadata": {},
     "execution_count": 30
    },
    {
     "output_type": "execute_result",
     "data": {
      "text/plain": [
       "(array([4.5000e+01, 0.0000e+00, 0.0000e+00, 0.0000e+00, 0.0000e+00,\n",
       "        0.0000e+00, 1.1000e+01, 5.0000e+00, 0.0000e+00, 3.6646e+04]),\n",
       " array([-2.14748362e+09, -1.93273514e+09, -1.71798667e+09, -1.50323820e+09,\n",
       "        -1.28848973e+09, -1.07374125e+09, -8.58992781e+08, -6.44244308e+08,\n",
       "        -4.29495835e+08, -2.14747363e+08,  1.11000000e+03]),\n",
       " <BarContainer object of 10 artists>)"
      ]
     },
     "metadata": {},
     "execution_count": 30
    },
    {
     "output_type": "display_data",
     "data": {
      "text/plain": "<Figure size 432x288 with 1 Axes>",
      "image/svg+xml": "<?xml version=\"1.0\" encoding=\"utf-8\" standalone=\"no\"?>\n<!DOCTYPE svg PUBLIC \"-//W3C//DTD SVG 1.1//EN\"\n  \"http://www.w3.org/Graphics/SVG/1.1/DTD/svg11.dtd\">\n<svg height=\"261.19625pt\" version=\"1.1\" viewBox=\"0 0 388.0125 261.19625\" width=\"388.0125pt\" xmlns=\"http://www.w3.org/2000/svg\" xmlns:xlink=\"http://www.w3.org/1999/xlink\">\n <metadata>\n  <rdf:RDF xmlns:cc=\"http://creativecommons.org/ns#\" xmlns:dc=\"http://purl.org/dc/elements/1.1/\" xmlns:rdf=\"http://www.w3.org/1999/02/22-rdf-syntax-ns#\">\n   <cc:Work>\n    <dc:type rdf:resource=\"http://purl.org/dc/dcmitype/StillImage\"/>\n    <dc:date>2021-09-07T22:00:23.954015</dc:date>\n    <dc:format>image/svg+xml</dc:format>\n    <dc:creator>\n     <cc:Agent>\n      <dc:title>Matplotlib v3.4.3, https://matplotlib.org/</dc:title>\n     </cc:Agent>\n    </dc:creator>\n   </cc:Work>\n  </rdf:RDF>\n </metadata>\n <defs>\n  <style type=\"text/css\">*{stroke-linecap:butt;stroke-linejoin:round;}</style>\n </defs>\n <g id=\"figure_1\">\n  <g id=\"patch_1\">\n   <path d=\"M 0 261.19625 \nL 388.0125 261.19625 \nL 388.0125 0 \nL 0 0 \nz\n\" style=\"fill:none;\"/>\n  </g>\n  <g id=\"axes_1\">\n   <g id=\"patch_2\">\n    <path d=\"M 46.0125 224.64 \nL 380.8125 224.64 \nL 380.8125 7.2 \nL 46.0125 7.2 \nz\n\" style=\"fill:#ffffff;\"/>\n   </g>\n   <g id=\"patch_3\">\n    <path clip-path=\"url(#pb0cf8a44ee)\" d=\"M 61.230682 224.64 \nL 91.667045 224.64 \nL 91.667045 224.385706 \nL 61.230682 224.385706 \nz\n\" style=\"fill:#1f77b4;\"/>\n   </g>\n   <g id=\"patch_4\">\n    <path clip-path=\"url(#pb0cf8a44ee)\" d=\"M 91.667045 224.64 \nL 122.103409 224.64 \nL 122.103409 224.64 \nL 91.667045 224.64 \nz\n\" style=\"fill:#1f77b4;\"/>\n   </g>\n   <g id=\"patch_5\">\n    <path clip-path=\"url(#pb0cf8a44ee)\" d=\"M 122.103409 224.64 \nL 152.539773 224.64 \nL 152.539773 224.64 \nL 122.103409 224.64 \nz\n\" style=\"fill:#1f77b4;\"/>\n   </g>\n   <g id=\"patch_6\">\n    <path clip-path=\"url(#pb0cf8a44ee)\" d=\"M 152.539773 224.64 \nL 182.976136 224.64 \nL 182.976136 224.64 \nL 152.539773 224.64 \nz\n\" style=\"fill:#1f77b4;\"/>\n   </g>\n   <g id=\"patch_7\">\n    <path clip-path=\"url(#pb0cf8a44ee)\" d=\"M 182.976136 224.64 \nL 213.4125 224.64 \nL 213.4125 224.64 \nL 182.976136 224.64 \nz\n\" style=\"fill:#1f77b4;\"/>\n   </g>\n   <g id=\"patch_8\">\n    <path clip-path=\"url(#pb0cf8a44ee)\" d=\"M 213.4125 224.64 \nL 243.848864 224.64 \nL 243.848864 224.64 \nL 213.4125 224.64 \nz\n\" style=\"fill:#1f77b4;\"/>\n   </g>\n   <g id=\"patch_9\">\n    <path clip-path=\"url(#pb0cf8a44ee)\" d=\"M 243.848864 224.64 \nL 274.285227 224.64 \nL 274.285227 224.577839 \nL 243.848864 224.577839 \nz\n\" style=\"fill:#1f77b4;\"/>\n   </g>\n   <g id=\"patch_10\">\n    <path clip-path=\"url(#pb0cf8a44ee)\" d=\"M 274.285227 224.64 \nL 304.721591 224.64 \nL 304.721591 224.611745 \nL 274.285227 224.611745 \nz\n\" style=\"fill:#1f77b4;\"/>\n   </g>\n   <g id=\"patch_11\">\n    <path clip-path=\"url(#pb0cf8a44ee)\" d=\"M 304.721591 224.64 \nL 335.157955 224.64 \nL 335.157955 224.64 \nL 304.721591 224.64 \nz\n\" style=\"fill:#1f77b4;\"/>\n   </g>\n   <g id=\"patch_12\">\n    <path clip-path=\"url(#pb0cf8a44ee)\" d=\"M 335.157955 224.64 \nL 365.594318 224.64 \nL 365.594318 17.554286 \nL 335.157955 17.554286 \nz\n\" style=\"fill:#1f77b4;\"/>\n   </g>\n   <g id=\"matplotlib.axis_1\">\n    <g id=\"xtick_1\">\n     <g id=\"line2d_1\">\n      <defs>\n       <path d=\"M 0 0 \nL 0 3.5 \n\" id=\"m0f864d15a4\" style=\"stroke:#000000;stroke-width:0.8;\"/>\n      </defs>\n      <g>\n       <use style=\"stroke:#000000;stroke-width:0.8;\" x=\"82.133578\" xlink:href=\"#m0f864d15a4\" y=\"224.64\"/>\n      </g>\n     </g>\n     <g id=\"text_1\">\n      <!-- −2.0 -->\n      <g transform=\"translate(69.992172 239.238438)scale(0.1 -0.1)\">\n       <defs>\n        <path d=\"M 678 2272 \nL 4684 2272 \nL 4684 1741 \nL 678 1741 \nL 678 2272 \nz\n\" id=\"DejaVuSans-2212\" transform=\"scale(0.015625)\"/>\n        <path d=\"M 1228 531 \nL 3431 531 \nL 3431 0 \nL 469 0 \nL 469 531 \nQ 828 903 1448 1529 \nQ 2069 2156 2228 2338 \nQ 2531 2678 2651 2914 \nQ 2772 3150 2772 3378 \nQ 2772 3750 2511 3984 \nQ 2250 4219 1831 4219 \nQ 1534 4219 1204 4116 \nQ 875 4013 500 3803 \nL 500 4441 \nQ 881 4594 1212 4672 \nQ 1544 4750 1819 4750 \nQ 2544 4750 2975 4387 \nQ 3406 4025 3406 3419 \nQ 3406 3131 3298 2873 \nQ 3191 2616 2906 2266 \nQ 2828 2175 2409 1742 \nQ 1991 1309 1228 531 \nz\n\" id=\"DejaVuSans-32\" transform=\"scale(0.015625)\"/>\n        <path d=\"M 684 794 \nL 1344 794 \nL 1344 0 \nL 684 0 \nL 684 794 \nz\n\" id=\"DejaVuSans-2e\" transform=\"scale(0.015625)\"/>\n        <path d=\"M 2034 4250 \nQ 1547 4250 1301 3770 \nQ 1056 3291 1056 2328 \nQ 1056 1369 1301 889 \nQ 1547 409 2034 409 \nQ 2525 409 2770 889 \nQ 3016 1369 3016 2328 \nQ 3016 3291 2770 3770 \nQ 2525 4250 2034 4250 \nz\nM 2034 4750 \nQ 2819 4750 3233 4129 \nQ 3647 3509 3647 2328 \nQ 3647 1150 3233 529 \nQ 2819 -91 2034 -91 \nQ 1250 -91 836 529 \nQ 422 1150 422 2328 \nQ 422 3509 836 4129 \nQ 1250 4750 2034 4750 \nz\n\" id=\"DejaVuSans-30\" transform=\"scale(0.015625)\"/>\n       </defs>\n       <use xlink:href=\"#DejaVuSans-2212\"/>\n       <use x=\"83.789062\" xlink:href=\"#DejaVuSans-32\"/>\n       <use x=\"147.412109\" xlink:href=\"#DejaVuSans-2e\"/>\n       <use x=\"179.199219\" xlink:href=\"#DejaVuSans-30\"/>\n      </g>\n     </g>\n    </g>\n    <g id=\"xtick_2\">\n     <g id=\"line2d_2\">\n      <g>\n       <use style=\"stroke:#000000;stroke-width:0.8;\" x=\"152.998724\" xlink:href=\"#m0f864d15a4\" y=\"224.64\"/>\n      </g>\n     </g>\n     <g id=\"text_2\">\n      <!-- −1.5 -->\n      <g transform=\"translate(140.857317 239.238438)scale(0.1 -0.1)\">\n       <defs>\n        <path d=\"M 794 531 \nL 1825 531 \nL 1825 4091 \nL 703 3866 \nL 703 4441 \nL 1819 4666 \nL 2450 4666 \nL 2450 531 \nL 3481 531 \nL 3481 0 \nL 794 0 \nL 794 531 \nz\n\" id=\"DejaVuSans-31\" transform=\"scale(0.015625)\"/>\n        <path d=\"M 691 4666 \nL 3169 4666 \nL 3169 4134 \nL 1269 4134 \nL 1269 2991 \nQ 1406 3038 1543 3061 \nQ 1681 3084 1819 3084 \nQ 2600 3084 3056 2656 \nQ 3513 2228 3513 1497 \nQ 3513 744 3044 326 \nQ 2575 -91 1722 -91 \nQ 1428 -91 1123 -41 \nQ 819 9 494 109 \nL 494 744 \nQ 775 591 1075 516 \nQ 1375 441 1709 441 \nQ 2250 441 2565 725 \nQ 2881 1009 2881 1497 \nQ 2881 1984 2565 2268 \nQ 2250 2553 1709 2553 \nQ 1456 2553 1204 2497 \nQ 953 2441 691 2322 \nL 691 4666 \nz\n\" id=\"DejaVuSans-35\" transform=\"scale(0.015625)\"/>\n       </defs>\n       <use xlink:href=\"#DejaVuSans-2212\"/>\n       <use x=\"83.789062\" xlink:href=\"#DejaVuSans-31\"/>\n       <use x=\"147.412109\" xlink:href=\"#DejaVuSans-2e\"/>\n       <use x=\"179.199219\" xlink:href=\"#DejaVuSans-35\"/>\n      </g>\n     </g>\n    </g>\n    <g id=\"xtick_3\">\n     <g id=\"line2d_3\">\n      <g>\n       <use style=\"stroke:#000000;stroke-width:0.8;\" x=\"223.863869\" xlink:href=\"#m0f864d15a4\" y=\"224.64\"/>\n      </g>\n     </g>\n     <g id=\"text_3\">\n      <!-- −1.0 -->\n      <g transform=\"translate(211.722463 239.238438)scale(0.1 -0.1)\">\n       <use xlink:href=\"#DejaVuSans-2212\"/>\n       <use x=\"83.789062\" xlink:href=\"#DejaVuSans-31\"/>\n       <use x=\"147.412109\" xlink:href=\"#DejaVuSans-2e\"/>\n       <use x=\"179.199219\" xlink:href=\"#DejaVuSans-30\"/>\n      </g>\n     </g>\n    </g>\n    <g id=\"xtick_4\">\n     <g id=\"line2d_4\">\n      <g>\n       <use style=\"stroke:#000000;stroke-width:0.8;\" x=\"294.729015\" xlink:href=\"#m0f864d15a4\" y=\"224.64\"/>\n      </g>\n     </g>\n     <g id=\"text_4\">\n      <!-- −0.5 -->\n      <g transform=\"translate(282.587609 239.238438)scale(0.1 -0.1)\">\n       <use xlink:href=\"#DejaVuSans-2212\"/>\n       <use x=\"83.789062\" xlink:href=\"#DejaVuSans-30\"/>\n       <use x=\"147.412109\" xlink:href=\"#DejaVuSans-2e\"/>\n       <use x=\"179.199219\" xlink:href=\"#DejaVuSans-35\"/>\n      </g>\n     </g>\n    </g>\n    <g id=\"xtick_5\">\n     <g id=\"line2d_5\">\n      <g>\n       <use style=\"stroke:#000000;stroke-width:0.8;\" x=\"365.594161\" xlink:href=\"#m0f864d15a4\" y=\"224.64\"/>\n      </g>\n     </g>\n     <g id=\"text_5\">\n      <!-- 0.0 -->\n      <g transform=\"translate(357.642598 239.238438)scale(0.1 -0.1)\">\n       <use xlink:href=\"#DejaVuSans-30\"/>\n       <use x=\"63.623047\" xlink:href=\"#DejaVuSans-2e\"/>\n       <use x=\"95.410156\" xlink:href=\"#DejaVuSans-30\"/>\n      </g>\n     </g>\n    </g>\n    <g id=\"text_6\">\n     <!-- 1e9 -->\n     <g transform=\"translate(361.934375 251.916563)scale(0.1 -0.1)\">\n      <defs>\n       <path d=\"M 3597 1894 \nL 3597 1613 \nL 953 1613 \nQ 991 1019 1311 708 \nQ 1631 397 2203 397 \nQ 2534 397 2845 478 \nQ 3156 559 3463 722 \nL 3463 178 \nQ 3153 47 2828 -22 \nQ 2503 -91 2169 -91 \nQ 1331 -91 842 396 \nQ 353 884 353 1716 \nQ 353 2575 817 3079 \nQ 1281 3584 2069 3584 \nQ 2775 3584 3186 3129 \nQ 3597 2675 3597 1894 \nz\nM 3022 2063 \nQ 3016 2534 2758 2815 \nQ 2500 3097 2075 3097 \nQ 1594 3097 1305 2825 \nQ 1016 2553 972 2059 \nL 3022 2063 \nz\n\" id=\"DejaVuSans-65\" transform=\"scale(0.015625)\"/>\n       <path d=\"M 703 97 \nL 703 672 \nQ 941 559 1184 500 \nQ 1428 441 1663 441 \nQ 2288 441 2617 861 \nQ 2947 1281 2994 2138 \nQ 2813 1869 2534 1725 \nQ 2256 1581 1919 1581 \nQ 1219 1581 811 2004 \nQ 403 2428 403 3163 \nQ 403 3881 828 4315 \nQ 1253 4750 1959 4750 \nQ 2769 4750 3195 4129 \nQ 3622 3509 3622 2328 \nQ 3622 1225 3098 567 \nQ 2575 -91 1691 -91 \nQ 1453 -91 1209 -44 \nQ 966 3 703 97 \nz\nM 1959 2075 \nQ 2384 2075 2632 2365 \nQ 2881 2656 2881 3163 \nQ 2881 3666 2632 3958 \nQ 2384 4250 1959 4250 \nQ 1534 4250 1286 3958 \nQ 1038 3666 1038 3163 \nQ 1038 2656 1286 2365 \nQ 1534 2075 1959 2075 \nz\n\" id=\"DejaVuSans-39\" transform=\"scale(0.015625)\"/>\n      </defs>\n      <use xlink:href=\"#DejaVuSans-31\"/>\n      <use x=\"63.623047\" xlink:href=\"#DejaVuSans-65\"/>\n      <use x=\"125.146484\" xlink:href=\"#DejaVuSans-39\"/>\n     </g>\n    </g>\n   </g>\n   <g id=\"matplotlib.axis_2\">\n    <g id=\"ytick_1\">\n     <g id=\"line2d_6\">\n      <defs>\n       <path d=\"M 0 0 \nL -3.5 0 \n\" id=\"m954a9c46ef\" style=\"stroke:#000000;stroke-width:0.8;\"/>\n      </defs>\n      <g>\n       <use style=\"stroke:#000000;stroke-width:0.8;\" x=\"46.0125\" xlink:href=\"#m954a9c46ef\" y=\"224.64\"/>\n      </g>\n     </g>\n     <g id=\"text_7\">\n      <!-- 0 -->\n      <g transform=\"translate(32.65 228.439219)scale(0.1 -0.1)\">\n       <use xlink:href=\"#DejaVuSans-30\"/>\n      </g>\n     </g>\n    </g>\n    <g id=\"ytick_2\">\n     <g id=\"line2d_7\">\n      <g>\n       <use style=\"stroke:#000000;stroke-width:0.8;\" x=\"46.0125\" xlink:href=\"#m954a9c46ef\" y=\"196.385113\"/>\n      </g>\n     </g>\n     <g id=\"text_8\">\n      <!-- 5000 -->\n      <g transform=\"translate(13.5625 200.184332)scale(0.1 -0.1)\">\n       <use xlink:href=\"#DejaVuSans-35\"/>\n       <use x=\"63.623047\" xlink:href=\"#DejaVuSans-30\"/>\n       <use x=\"127.246094\" xlink:href=\"#DejaVuSans-30\"/>\n       <use x=\"190.869141\" xlink:href=\"#DejaVuSans-30\"/>\n      </g>\n     </g>\n    </g>\n    <g id=\"ytick_3\">\n     <g id=\"line2d_8\">\n      <g>\n       <use style=\"stroke:#000000;stroke-width:0.8;\" x=\"46.0125\" xlink:href=\"#m954a9c46ef\" y=\"168.130227\"/>\n      </g>\n     </g>\n     <g id=\"text_9\">\n      <!-- 10000 -->\n      <g transform=\"translate(7.2 171.929446)scale(0.1 -0.1)\">\n       <use xlink:href=\"#DejaVuSans-31\"/>\n       <use x=\"63.623047\" xlink:href=\"#DejaVuSans-30\"/>\n       <use x=\"127.246094\" xlink:href=\"#DejaVuSans-30\"/>\n       <use x=\"190.869141\" xlink:href=\"#DejaVuSans-30\"/>\n       <use x=\"254.492188\" xlink:href=\"#DejaVuSans-30\"/>\n      </g>\n     </g>\n    </g>\n    <g id=\"ytick_4\">\n     <g id=\"line2d_9\">\n      <g>\n       <use style=\"stroke:#000000;stroke-width:0.8;\" x=\"46.0125\" xlink:href=\"#m954a9c46ef\" y=\"139.87534\"/>\n      </g>\n     </g>\n     <g id=\"text_10\">\n      <!-- 15000 -->\n      <g transform=\"translate(7.2 143.674559)scale(0.1 -0.1)\">\n       <use xlink:href=\"#DejaVuSans-31\"/>\n       <use x=\"63.623047\" xlink:href=\"#DejaVuSans-35\"/>\n       <use x=\"127.246094\" xlink:href=\"#DejaVuSans-30\"/>\n       <use x=\"190.869141\" xlink:href=\"#DejaVuSans-30\"/>\n       <use x=\"254.492188\" xlink:href=\"#DejaVuSans-30\"/>\n      </g>\n     </g>\n    </g>\n    <g id=\"ytick_5\">\n     <g id=\"line2d_10\">\n      <g>\n       <use style=\"stroke:#000000;stroke-width:0.8;\" x=\"46.0125\" xlink:href=\"#m954a9c46ef\" y=\"111.620454\"/>\n      </g>\n     </g>\n     <g id=\"text_11\">\n      <!-- 20000 -->\n      <g transform=\"translate(7.2 115.419673)scale(0.1 -0.1)\">\n       <use xlink:href=\"#DejaVuSans-32\"/>\n       <use x=\"63.623047\" xlink:href=\"#DejaVuSans-30\"/>\n       <use x=\"127.246094\" xlink:href=\"#DejaVuSans-30\"/>\n       <use x=\"190.869141\" xlink:href=\"#DejaVuSans-30\"/>\n       <use x=\"254.492188\" xlink:href=\"#DejaVuSans-30\"/>\n      </g>\n     </g>\n    </g>\n    <g id=\"ytick_6\">\n     <g id=\"line2d_11\">\n      <g>\n       <use style=\"stroke:#000000;stroke-width:0.8;\" x=\"46.0125\" xlink:href=\"#m954a9c46ef\" y=\"83.365567\"/>\n      </g>\n     </g>\n     <g id=\"text_12\">\n      <!-- 25000 -->\n      <g transform=\"translate(7.2 87.164786)scale(0.1 -0.1)\">\n       <use xlink:href=\"#DejaVuSans-32\"/>\n       <use x=\"63.623047\" xlink:href=\"#DejaVuSans-35\"/>\n       <use x=\"127.246094\" xlink:href=\"#DejaVuSans-30\"/>\n       <use x=\"190.869141\" xlink:href=\"#DejaVuSans-30\"/>\n       <use x=\"254.492188\" xlink:href=\"#DejaVuSans-30\"/>\n      </g>\n     </g>\n    </g>\n    <g id=\"ytick_7\">\n     <g id=\"line2d_12\">\n      <g>\n       <use style=\"stroke:#000000;stroke-width:0.8;\" x=\"46.0125\" xlink:href=\"#m954a9c46ef\" y=\"55.110681\"/>\n      </g>\n     </g>\n     <g id=\"text_13\">\n      <!-- 30000 -->\n      <g transform=\"translate(7.2 58.9099)scale(0.1 -0.1)\">\n       <defs>\n        <path d=\"M 2597 2516 \nQ 3050 2419 3304 2112 \nQ 3559 1806 3559 1356 \nQ 3559 666 3084 287 \nQ 2609 -91 1734 -91 \nQ 1441 -91 1130 -33 \nQ 819 25 488 141 \nL 488 750 \nQ 750 597 1062 519 \nQ 1375 441 1716 441 \nQ 2309 441 2620 675 \nQ 2931 909 2931 1356 \nQ 2931 1769 2642 2001 \nQ 2353 2234 1838 2234 \nL 1294 2234 \nL 1294 2753 \nL 1863 2753 \nQ 2328 2753 2575 2939 \nQ 2822 3125 2822 3475 \nQ 2822 3834 2567 4026 \nQ 2313 4219 1838 4219 \nQ 1578 4219 1281 4162 \nQ 984 4106 628 3988 \nL 628 4550 \nQ 988 4650 1302 4700 \nQ 1616 4750 1894 4750 \nQ 2613 4750 3031 4423 \nQ 3450 4097 3450 3541 \nQ 3450 3153 3228 2886 \nQ 3006 2619 2597 2516 \nz\n\" id=\"DejaVuSans-33\" transform=\"scale(0.015625)\"/>\n       </defs>\n       <use xlink:href=\"#DejaVuSans-33\"/>\n       <use x=\"63.623047\" xlink:href=\"#DejaVuSans-30\"/>\n       <use x=\"127.246094\" xlink:href=\"#DejaVuSans-30\"/>\n       <use x=\"190.869141\" xlink:href=\"#DejaVuSans-30\"/>\n       <use x=\"254.492188\" xlink:href=\"#DejaVuSans-30\"/>\n      </g>\n     </g>\n    </g>\n    <g id=\"ytick_8\">\n     <g id=\"line2d_13\">\n      <g>\n       <use style=\"stroke:#000000;stroke-width:0.8;\" x=\"46.0125\" xlink:href=\"#m954a9c46ef\" y=\"26.855794\"/>\n      </g>\n     </g>\n     <g id=\"text_14\">\n      <!-- 35000 -->\n      <g transform=\"translate(7.2 30.655013)scale(0.1 -0.1)\">\n       <use xlink:href=\"#DejaVuSans-33\"/>\n       <use x=\"63.623047\" xlink:href=\"#DejaVuSans-35\"/>\n       <use x=\"127.246094\" xlink:href=\"#DejaVuSans-30\"/>\n       <use x=\"190.869141\" xlink:href=\"#DejaVuSans-30\"/>\n       <use x=\"254.492188\" xlink:href=\"#DejaVuSans-30\"/>\n      </g>\n     </g>\n    </g>\n   </g>\n   <g id=\"patch_13\">\n    <path d=\"M 46.0125 224.64 \nL 46.0125 7.2 \n\" style=\"fill:none;stroke:#000000;stroke-linecap:square;stroke-linejoin:miter;stroke-width:0.8;\"/>\n   </g>\n   <g id=\"patch_14\">\n    <path d=\"M 380.8125 224.64 \nL 380.8125 7.2 \n\" style=\"fill:none;stroke:#000000;stroke-linecap:square;stroke-linejoin:miter;stroke-width:0.8;\"/>\n   </g>\n   <g id=\"patch_15\">\n    <path d=\"M 46.0125 224.64 \nL 380.8125 224.64 \n\" style=\"fill:none;stroke:#000000;stroke-linecap:square;stroke-linejoin:miter;stroke-width:0.8;\"/>\n   </g>\n   <g id=\"patch_16\">\n    <path d=\"M 46.0125 7.2 \nL 380.8125 7.2 \n\" style=\"fill:none;stroke:#000000;stroke-linecap:square;stroke-linejoin:miter;stroke-width:0.8;\"/>\n   </g>\n  </g>\n </g>\n <defs>\n  <clipPath id=\"pb0cf8a44ee\">\n   <rect height=\"217.44\" width=\"334.8\" x=\"46.0125\" y=\"7.2\"/>\n  </clipPath>\n </defs>\n</svg>\n",
      "image/png": "[encoded data removed]"
     },
     "metadata": {
      "needs_background": "light"
     }
    }
   ],
   "source": [
    "maxN_minus_maxNAvg = listings_num.maximum_nights - listings_num.maximum_nights_avg_ntm\n",
    "maxN_minus_maxNAvg.unique()\n",
    "maxN_minus_maxNAvg.value_counts()\n",
    "\n",
    "plt.hist(maxN_minus_maxNAvg)"
   ]
  },
  {
   "cell_type": "code",
   "execution_count": 34,
   "metadata": {},
   "outputs": [
    {
     "output_type": "execute_result",
     "data": {
      "text/plain": [
       "id                                                  0\n",
       "host_id                                             0\n",
       "host_listings_count                                23\n",
       "host_total_listings_count                          23\n",
       "latitude                                            0\n",
       "longitude                                           0\n",
       "accommodates                                        0\n",
       "bedrooms                                         3869\n",
       "beds                                              594\n",
       "minimum_nights                                      0\n",
       "maximum_nights                                      0\n",
       "minimum_minimum_nights                              0\n",
       "maximum_minimum_nights                              0\n",
       "minimum_maximum_nights                              0\n",
       "maximum_maximum_nights                              0\n",
       "minimum_nights_avg_ntm                              0\n",
       "maximum_nights_avg_ntm                              0\n",
       "availability_30                                     0\n",
       "availability_60                                     0\n",
       "availability_90                                     0\n",
       "availability_365                                    0\n",
       "number_of_reviews                                   0\n",
       "number_of_reviews_ltm                               0\n",
       "number_of_reviews_l30d                              0\n",
       "review_scores_rating                             9415\n",
       "review_scores_accuracy                          10063\n",
       "review_scores_cleanliness                       10052\n",
       "review_scores_checkin                           10071\n",
       "review_scores_communication                     10060\n",
       "review_scores_location                          10075\n",
       "review_scores_value                             10075\n",
       "calculated_host_listings_count                      0\n",
       "calculated_host_listings_count_entire_homes         0\n",
       "calculated_host_listings_count_private_rooms        0\n",
       "calculated_host_listings_count_shared_rooms         0\n",
       "reviews_per_month                                9415\n",
       "dtype: int64"
      ]
     },
     "metadata": {},
     "execution_count": 34
    }
   ],
   "source": [
    "# Replace all Min_xx/Max_xx night with Min_nights/Max_nights\n",
    "listings_num.minimum_minimum_nights.fillna(listings_num.minimum_nights, inplace=True)\n",
    "listings_num.maximum_minimum_nights.fillna(listings_num.minimum_nights, inplace=True)\n",
    "listings_num.minimum_nights_avg_ntm.fillna(listings_num.minimum_nights, inplace=True)\n",
    "listings_num.minimum_maximum_nights.fillna(listings_num.maximum_nights, inplace=True)\n",
    "listings_num.maximum_maximum_nights.fillna(listings_num.maximum_nights, inplace=True)\n",
    "listings_num.maximum_nights_avg_ntm.fillna(listings_num.maximum_nights, inplace=True)\n",
    "\n",
    "listings_num.isna().sum()"
   ]
  },
  {
   "cell_type": "code",
   "execution_count": null,
   "metadata": {},
   "outputs": [],
   "source": []
  }
 ]
}
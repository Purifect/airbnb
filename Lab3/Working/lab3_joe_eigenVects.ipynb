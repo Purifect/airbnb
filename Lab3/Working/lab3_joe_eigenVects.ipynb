{
 "cells": [
  {
   "cell_type": "markdown",
   "metadata": {},
   "source": [
    "# Lab 3: Clustering"
   ]
  },
  {
   "cell_type": "code",
   "execution_count": 1,
   "metadata": {},
   "outputs": [],
   "source": [
    "# Imports\n",
    "import matplotlib.pyplot as plt\n",
    "import seaborn as sns\n",
    "import numpy as np\n",
    "import pandas as pd\n",
    "from datetime import date\n",
    "import sklearn\n",
    "pd.set_option(\"display.max_columns\", None, \"display.max_rows\", None)\n",
    "import missingno as msno"
   ]
  },
  {
   "cell_type": "code",
   "execution_count": 2,
   "metadata": {},
   "outputs": [],
   "source": [
    "col_list = [\"id\", \"price\", \"room_type\", \"bathrooms_text\", \"accommodates\", \"availability_30\", \"latitude\", \"longitude\", \"neighbourhood_group_cleansed\", \"number_of_reviews\", \"reviews_per_month\"]"
   ]
  },
  {
   "cell_type": "code",
   "execution_count": 3,
   "metadata": {},
   "outputs": [
    {
     "data": {
      "text/html": [
       "<div>\n",
       "<style scoped>\n",
       "    .dataframe tbody tr th:only-of-type {\n",
       "        vertical-align: middle;\n",
       "    }\n",
       "\n",
       "    .dataframe tbody tr th {\n",
       "        vertical-align: top;\n",
       "    }\n",
       "\n",
       "    .dataframe thead th {\n",
       "        text-align: right;\n",
       "    }\n",
       "</style>\n",
       "<table border=\"1\" class=\"dataframe\">\n",
       "  <thead>\n",
       "    <tr style=\"text-align: right;\">\n",
       "      <th></th>\n",
       "      <th>id</th>\n",
       "      <th>neighbourhood_group_cleansed</th>\n",
       "      <th>latitude</th>\n",
       "      <th>longitude</th>\n",
       "      <th>room_type</th>\n",
       "      <th>accommodates</th>\n",
       "      <th>bathrooms_text</th>\n",
       "      <th>price</th>\n",
       "      <th>availability_30</th>\n",
       "      <th>number_of_reviews</th>\n",
       "      <th>reviews_per_month</th>\n",
       "    </tr>\n",
       "  </thead>\n",
       "  <tbody>\n",
       "    <tr>\n",
       "      <th>0</th>\n",
       "      <td>2595</td>\n",
       "      <td>Manhattan</td>\n",
       "      <td>40.75356</td>\n",
       "      <td>-73.98559</td>\n",
       "      <td>Entire home/apt</td>\n",
       "      <td>1</td>\n",
       "      <td>1 bath</td>\n",
       "      <td>$150.00</td>\n",
       "      <td>6</td>\n",
       "      <td>48</td>\n",
       "      <td>0.34</td>\n",
       "    </tr>\n",
       "    <tr>\n",
       "      <th>1</th>\n",
       "      <td>3831</td>\n",
       "      <td>Brooklyn</td>\n",
       "      <td>40.68494</td>\n",
       "      <td>-73.95765</td>\n",
       "      <td>Entire home/apt</td>\n",
       "      <td>3</td>\n",
       "      <td>1 bath</td>\n",
       "      <td>$75.00</td>\n",
       "      <td>0</td>\n",
       "      <td>408</td>\n",
       "      <td>5.09</td>\n",
       "    </tr>\n",
       "    <tr>\n",
       "      <th>2</th>\n",
       "      <td>5121</td>\n",
       "      <td>Brooklyn</td>\n",
       "      <td>40.68535</td>\n",
       "      <td>-73.95512</td>\n",
       "      <td>Private room</td>\n",
       "      <td>2</td>\n",
       "      <td>NaN</td>\n",
       "      <td>$60.00</td>\n",
       "      <td>30</td>\n",
       "      <td>50</td>\n",
       "      <td>0.55</td>\n",
       "    </tr>\n",
       "    <tr>\n",
       "      <th>3</th>\n",
       "      <td>5136</td>\n",
       "      <td>Brooklyn</td>\n",
       "      <td>40.66265</td>\n",
       "      <td>-73.99454</td>\n",
       "      <td>Entire home/apt</td>\n",
       "      <td>4</td>\n",
       "      <td>1.5 baths</td>\n",
       "      <td>$275.00</td>\n",
       "      <td>7</td>\n",
       "      <td>1</td>\n",
       "      <td>0.01</td>\n",
       "    </tr>\n",
       "    <tr>\n",
       "      <th>4</th>\n",
       "      <td>5178</td>\n",
       "      <td>Manhattan</td>\n",
       "      <td>40.76457</td>\n",
       "      <td>-73.98317</td>\n",
       "      <td>Private room</td>\n",
       "      <td>2</td>\n",
       "      <td>1 bath</td>\n",
       "      <td>$61.00</td>\n",
       "      <td>3</td>\n",
       "      <td>485</td>\n",
       "      <td>3.63</td>\n",
       "    </tr>\n",
       "  </tbody>\n",
       "</table>\n",
       "</div>"
      ],
      "text/plain": [
       "     id neighbourhood_group_cleansed  latitude  longitude        room_type  \\\n",
       "0  2595                    Manhattan  40.75356  -73.98559  Entire home/apt   \n",
       "1  3831                     Brooklyn  40.68494  -73.95765  Entire home/apt   \n",
       "2  5121                     Brooklyn  40.68535  -73.95512     Private room   \n",
       "3  5136                     Brooklyn  40.66265  -73.99454  Entire home/apt   \n",
       "4  5178                    Manhattan  40.76457  -73.98317     Private room   \n",
       "\n",
       "   accommodates bathrooms_text    price  availability_30  number_of_reviews  \\\n",
       "0             1         1 bath  $150.00                6                 48   \n",
       "1             3         1 bath   $75.00                0                408   \n",
       "2             2            NaN   $60.00               30                 50   \n",
       "3             4      1.5 baths  $275.00                7                  1   \n",
       "4             2         1 bath   $61.00                3                485   \n",
       "\n",
       "   reviews_per_month  \n",
       "0               0.34  \n",
       "1               5.09  \n",
       "2               0.55  \n",
       "3               0.01  \n",
       "4               3.63  "
      ]
     },
     "execution_count": 3,
     "metadata": {},
     "output_type": "execute_result"
    }
   ],
   "source": [
    "# load data\n",
    "listings=pd.read_csv(\"https://raw.githubusercontent.com/rickfontenot/airbnb/main/airbnb_nyc_listings.csv?token=ARN5NNHQQO5DGH6T72FBV2DBGD342\", usecols=col_list)\n",
    "\n",
    "listings.head()"
   ]
  },
  {
   "cell_type": "code",
   "execution_count": 4,
   "metadata": {},
   "outputs": [
    {
     "data": {
      "text/plain": [
       "id                                int64\n",
       "neighbourhood_group_cleansed     object\n",
       "latitude                        float64\n",
       "longitude                       float64\n",
       "room_type                        object\n",
       "accommodates                      int64\n",
       "bathrooms_text                   object\n",
       "price                            object\n",
       "availability_30                   int64\n",
       "number_of_reviews                 int64\n",
       "reviews_per_month               float64\n",
       "dtype: object"
      ]
     },
     "execution_count": 4,
     "metadata": {},
     "output_type": "execute_result"
    }
   ],
   "source": [
    "# Check data info\n",
    "listings.dtypes"
   ]
  },
  {
   "cell_type": "markdown",
   "metadata": {},
   "source": [
    "# Cleaning Price"
   ]
  },
  {
   "cell_type": "code",
   "execution_count": 5,
   "metadata": {},
   "outputs": [
    {
     "name": "stdout",
     "output_type": "stream",
     "text": [
      "object\n",
      "299    $2,500.00\n",
      "Name: price, dtype: object\n",
      "float64\n",
      "299    2500.0\n",
      "Name: price, dtype: float64\n"
     ]
    }
   ],
   "source": [
    "print(listings.price.dtypes) #initial type is object\n",
    "print(listings.price.loc[[299]]) #original value \"$2,500.00\"\n",
    "listings.price = listings.price.replace('[\\$,]', '', regex=True).astype(float)\n",
    "print(listings.price.dtypes) #transformed type is float64\n",
    "print(listings.price.loc[[299]]) #new value is 2500.0"
   ]
  },
  {
   "cell_type": "markdown",
   "metadata": {},
   "source": [
    "# Cleaning the bathroom"
   ]
  },
  {
   "cell_type": "code",
   "execution_count": 6,
   "metadata": {},
   "outputs": [],
   "source": [
    "#convert nAn values to 'NA' for parsing, will change back to nAn after splitting\n",
    "listings['bathrooms_text'] = listings['bathrooms_text'].astype(object).replace(np.nan, 'NA')\n",
    "\n",
    "#Create translation dictionary since description formats are not consistent\n",
    "transdict = {'1 bath': '1 private', \n",
    "             'NA': 'NA',\n",
    "             '1.5 baths': '1.5 private',\n",
    "             '1 shared bath': '1 shared', \n",
    "             '1 private bath': '1 private',\n",
    "             'Shared half-bath': '0.5 shared',\n",
    "             '2 baths': '2 private',\n",
    "             '1.5 shared baths': '1.5 shared',\n",
    "             '3 baths': '3 private',\n",
    "             'Half-bath': '0.5 private',\n",
    "             '2.5 baths': '2.5 private', \n",
    "             '2 shared baths': '2 shared',\n",
    "             '0 baths' : '0 private',\n",
    "             '4 baths':'4 private', \n",
    "             '0 shared baths': '0 shared',\n",
    "             'Private half-bath': '0.5 private',  \n",
    "             '4.5 baths' :'4.5 private', \n",
    "             '5.5 baths': '5.5 private' , \n",
    "             '2.5 shared baths': '2.5 shared',\n",
    "             '3.5 baths': '3.5 private', \n",
    "             '15.5 baths': '15.5 private', \n",
    "             '5 baths': '5 private', \n",
    "             '3 shared baths': '3 shared', \n",
    "             '4 shared baths': '4 shared',\n",
    "             '6 baths': '6 private', \n",
    "             '3.5 shared baths': '3.5 private', \n",
    "             '6 shared baths' : '6 shared',\n",
    "             '6.5 shared baths': '6.5 shared', \n",
    "             '4.5 shared baths' :'4.5 private',\n",
    "             '5.5 shared baths' : '5.5 private', \n",
    "             '7.5 baths': '7.5 private', \n",
    "             '5 shared baths': '5 shared',\n",
    "             '6.5 baths': '6.5 private', \n",
    "             '8 baths': '8 private', \n",
    "             '7 shared baths':'7 shared', \n",
    "             '7 baths': '7 private', \n",
    "             '10 baths': '10 private'}\n",
    "\n",
    "#use trandict to iterate over bathrooms_text column\n",
    "listings['bathrooms_text'] = [transdict[letter] for letter in listings['bathrooms_text']]\n",
    "\n",
    "#use str.split to create two new columns 'num_baths' and 'bath_type'\n",
    "listings[['num_baths','bath_type']] = listings['bathrooms_text'].str.split(' ', 1, expand = True)\n",
    "\n",
    "#For num_baths convert 'NA' values back to nan and convert type to float\n",
    "listings['num_baths'] = listings['num_baths'].astype(object).replace( 'NA',np.nan)\n",
    "listings['num_baths'] = listings['num_baths'].astype(np.float16)\n",
    "\n",
    "#For bath type convert 'NA' values back to nan and convert type to category\n",
    "listings.bath_type.fillna(value=np.nan, inplace=True)\n",
    "listings['bath_type'] = listings['bath_type'].astype('category')"
   ]
  },
  {
   "cell_type": "markdown",
   "metadata": {},
   "source": [
    "# Drop bathroom_text"
   ]
  },
  {
   "cell_type": "code",
   "execution_count": 7,
   "metadata": {},
   "outputs": [
    {
     "name": "stdout",
     "output_type": "stream",
     "text": [
      "float16\n",
      "[ 1.   nan  1.5  0.5  2.   3.   2.5  0.   4.   4.5  5.5  3.5 15.5  5.\n",
      "  6.   6.5  7.5  8.   7.  10. ]\n",
      "category\n",
      "['private', NaN, 'shared']\n",
      "Categories (2, object): ['private', 'shared']\n"
     ]
    }
   ],
   "source": [
    "#Confirm conversions for bathroom text\n",
    "print(listings.num_baths.dtypes) #transformed type is float16\n",
    "print(listings.num_baths.unique())\n",
    "print(listings.bath_type.dtypes) #transformed type is category\n",
    "print(listings.bath_type.unique()) \n",
    "\n",
    "#Drop original bathrooms_text column now that replaced by two new variables\n",
    "listings.drop('bathrooms_text', axis=1, inplace=True)"
   ]
  },
  {
   "cell_type": "markdown",
   "metadata": {},
   "source": [
    "# Data type dict"
   ]
  },
  {
   "cell_type": "code",
   "execution_count": 8,
   "metadata": {},
   "outputs": [
    {
     "name": "stdout",
     "output_type": "stream",
     "text": [
      "id                                 int64\n",
      "neighbourhood_group_cleansed    category\n",
      "latitude                         float64\n",
      "longitude                        float64\n",
      "room_type                       category\n",
      "accommodates                       Int16\n",
      "price                            float64\n",
      "availability_30                    Int16\n",
      "number_of_reviews                  int16\n",
      "reviews_per_month                float64\n",
      "num_baths                        float64\n",
      "bath_type                       category\n",
      "dtype: object\n"
     ]
    }
   ],
   "source": [
    "convert_dict = {\n",
    "'neighbourhood_group_cleansed': 'category',\n",
    "'room_type': 'category',\n",
    "'accommodates': 'Int16',\n",
    "'price': 'float64',\n",
    "'availability_30': 'Int16',\n",
    "'num_baths': 'float64',\n",
    "'bath_type': 'category',\n",
    "\"number_of_reviews\":\"int16\", \n",
    "\"reviews_per_month\": \"float64\"\n",
    "               }\n",
    "  \n",
    "listings = listings.astype(convert_dict, errors='ignore')\n",
    "print(listings.dtypes)"
   ]
  },
  {
   "cell_type": "markdown",
   "metadata": {},
   "source": [
    "# Check Missing Values"
   ]
  },
  {
   "cell_type": "code",
   "execution_count": 9,
   "metadata": {},
   "outputs": [
    {
     "data": {
      "text/plain": [
       "id                                 0\n",
       "neighbourhood_group_cleansed       0\n",
       "latitude                           0\n",
       "longitude                          0\n",
       "room_type                          0\n",
       "accommodates                       0\n",
       "price                              0\n",
       "availability_30                    0\n",
       "number_of_reviews                  0\n",
       "reviews_per_month               9415\n",
       "num_baths                        109\n",
       "bath_type                        109\n",
       "dtype: int64"
      ]
     },
     "execution_count": 9,
     "metadata": {},
     "output_type": "execute_result"
    }
   ],
   "source": [
    "listings.isna().sum()"
   ]
  },
  {
   "cell_type": "markdown",
   "metadata": {},
   "source": [
    "# Drop Missing Values and Duplicate rows"
   ]
  },
  {
   "cell_type": "code",
   "execution_count": 10,
   "metadata": {},
   "outputs": [
    {
     "name": "stdout",
     "output_type": "stream",
     "text": [
      "Dataframe Size before dropping NA:  (36724, 12)\n",
      "Dataframe Size after dropping NA:  (27243, 12)\n",
      "id                              0\n",
      "neighbourhood_group_cleansed    0\n",
      "latitude                        0\n",
      "longitude                       0\n",
      "room_type                       0\n",
      "accommodates                    0\n",
      "price                           0\n",
      "availability_30                 0\n",
      "number_of_reviews               0\n",
      "reviews_per_month               0\n",
      "num_baths                       0\n",
      "bath_type                       0\n",
      "dtype: int64\n",
      "Duplicate rows:  0\n"
     ]
    }
   ],
   "source": [
    "print(\"Dataframe Size before dropping NA: \",listings.shape)\n",
    "listings.dropna(inplace= True)\n",
    "print(\"Dataframe Size after dropping NA: \",listings.shape)\n",
    "\n",
    "print(listings.isna().sum())\n",
    "\n",
    "# Check for duplicate rows\n",
    "print('Duplicate rows: ',listings.duplicated(keep='first').sum())"
   ]
  },
  {
   "cell_type": "markdown",
   "metadata": {},
   "source": []
  },
  {
   "cell_type": "code",
   "execution_count": 11,
   "metadata": {},
   "outputs": [
    {
     "data": {
      "text/html": [
       "<div>\n",
       "<style scoped>\n",
       "    .dataframe tbody tr th:only-of-type {\n",
       "        vertical-align: middle;\n",
       "    }\n",
       "\n",
       "    .dataframe tbody tr th {\n",
       "        vertical-align: top;\n",
       "    }\n",
       "\n",
       "    .dataframe thead th {\n",
       "        text-align: right;\n",
       "    }\n",
       "</style>\n",
       "<table border=\"1\" class=\"dataframe\">\n",
       "  <thead>\n",
       "    <tr style=\"text-align: right;\">\n",
       "      <th></th>\n",
       "      <th>id</th>\n",
       "      <th>latitude</th>\n",
       "      <th>longitude</th>\n",
       "      <th>accommodates</th>\n",
       "      <th>price</th>\n",
       "      <th>availability_30</th>\n",
       "      <th>number_of_reviews</th>\n",
       "      <th>reviews_per_month</th>\n",
       "      <th>num_baths</th>\n",
       "      <th>neighbourhood_group_cleansed_Brooklyn</th>\n",
       "      <th>neighbourhood_group_cleansed_Manhattan</th>\n",
       "      <th>neighbourhood_group_cleansed_Queens</th>\n",
       "      <th>neighbourhood_group_cleansed_Staten Island</th>\n",
       "      <th>room_type_Hotel room</th>\n",
       "      <th>room_type_Private room</th>\n",
       "      <th>room_type_Shared room</th>\n",
       "      <th>bath_type_shared</th>\n",
       "    </tr>\n",
       "  </thead>\n",
       "  <tbody>\n",
       "    <tr>\n",
       "      <th>0</th>\n",
       "      <td>2595</td>\n",
       "      <td>40.75356</td>\n",
       "      <td>-73.98559</td>\n",
       "      <td>1</td>\n",
       "      <td>150.0</td>\n",
       "      <td>6</td>\n",
       "      <td>48</td>\n",
       "      <td>0.34</td>\n",
       "      <td>1.0</td>\n",
       "      <td>0</td>\n",
       "      <td>1</td>\n",
       "      <td>0</td>\n",
       "      <td>0</td>\n",
       "      <td>0</td>\n",
       "      <td>0</td>\n",
       "      <td>0</td>\n",
       "      <td>0</td>\n",
       "    </tr>\n",
       "    <tr>\n",
       "      <th>1</th>\n",
       "      <td>3831</td>\n",
       "      <td>40.68494</td>\n",
       "      <td>-73.95765</td>\n",
       "      <td>3</td>\n",
       "      <td>75.0</td>\n",
       "      <td>0</td>\n",
       "      <td>408</td>\n",
       "      <td>5.09</td>\n",
       "      <td>1.0</td>\n",
       "      <td>1</td>\n",
       "      <td>0</td>\n",
       "      <td>0</td>\n",
       "      <td>0</td>\n",
       "      <td>0</td>\n",
       "      <td>0</td>\n",
       "      <td>0</td>\n",
       "      <td>0</td>\n",
       "    </tr>\n",
       "    <tr>\n",
       "      <th>3</th>\n",
       "      <td>5136</td>\n",
       "      <td>40.66265</td>\n",
       "      <td>-73.99454</td>\n",
       "      <td>4</td>\n",
       "      <td>275.0</td>\n",
       "      <td>7</td>\n",
       "      <td>1</td>\n",
       "      <td>0.01</td>\n",
       "      <td>1.5</td>\n",
       "      <td>1</td>\n",
       "      <td>0</td>\n",
       "      <td>0</td>\n",
       "      <td>0</td>\n",
       "      <td>0</td>\n",
       "      <td>0</td>\n",
       "      <td>0</td>\n",
       "      <td>0</td>\n",
       "    </tr>\n",
       "    <tr>\n",
       "      <th>4</th>\n",
       "      <td>5178</td>\n",
       "      <td>40.76457</td>\n",
       "      <td>-73.98317</td>\n",
       "      <td>2</td>\n",
       "      <td>61.0</td>\n",
       "      <td>3</td>\n",
       "      <td>485</td>\n",
       "      <td>3.63</td>\n",
       "      <td>1.0</td>\n",
       "      <td>0</td>\n",
       "      <td>1</td>\n",
       "      <td>0</td>\n",
       "      <td>0</td>\n",
       "      <td>0</td>\n",
       "      <td>1</td>\n",
       "      <td>0</td>\n",
       "      <td>0</td>\n",
       "    </tr>\n",
       "    <tr>\n",
       "      <th>5</th>\n",
       "      <td>5203</td>\n",
       "      <td>40.80380</td>\n",
       "      <td>-73.96751</td>\n",
       "      <td>1</td>\n",
       "      <td>75.0</td>\n",
       "      <td>0</td>\n",
       "      <td>118</td>\n",
       "      <td>0.90</td>\n",
       "      <td>1.0</td>\n",
       "      <td>0</td>\n",
       "      <td>1</td>\n",
       "      <td>0</td>\n",
       "      <td>0</td>\n",
       "      <td>0</td>\n",
       "      <td>1</td>\n",
       "      <td>0</td>\n",
       "      <td>1</td>\n",
       "    </tr>\n",
       "  </tbody>\n",
       "</table>\n",
       "</div>"
      ],
      "text/plain": [
       "     id  latitude  longitude  accommodates  price  availability_30  \\\n",
       "0  2595  40.75356  -73.98559             1  150.0                6   \n",
       "1  3831  40.68494  -73.95765             3   75.0                0   \n",
       "3  5136  40.66265  -73.99454             4  275.0                7   \n",
       "4  5178  40.76457  -73.98317             2   61.0                3   \n",
       "5  5203  40.80380  -73.96751             1   75.0                0   \n",
       "\n",
       "   number_of_reviews  reviews_per_month  num_baths  \\\n",
       "0                 48               0.34        1.0   \n",
       "1                408               5.09        1.0   \n",
       "3                  1               0.01        1.5   \n",
       "4                485               3.63        1.0   \n",
       "5                118               0.90        1.0   \n",
       "\n",
       "   neighbourhood_group_cleansed_Brooklyn  \\\n",
       "0                                      0   \n",
       "1                                      1   \n",
       "3                                      1   \n",
       "4                                      0   \n",
       "5                                      0   \n",
       "\n",
       "   neighbourhood_group_cleansed_Manhattan  \\\n",
       "0                                       1   \n",
       "1                                       0   \n",
       "3                                       0   \n",
       "4                                       1   \n",
       "5                                       1   \n",
       "\n",
       "   neighbourhood_group_cleansed_Queens  \\\n",
       "0                                    0   \n",
       "1                                    0   \n",
       "3                                    0   \n",
       "4                                    0   \n",
       "5                                    0   \n",
       "\n",
       "   neighbourhood_group_cleansed_Staten Island  room_type_Hotel room  \\\n",
       "0                                           0                     0   \n",
       "1                                           0                     0   \n",
       "3                                           0                     0   \n",
       "4                                           0                     0   \n",
       "5                                           0                     0   \n",
       "\n",
       "   room_type_Private room  room_type_Shared room  bath_type_shared  \n",
       "0                       0                      0                 0  \n",
       "1                       0                      0                 0  \n",
       "3                       0                      0                 0  \n",
       "4                       1                      0                 0  \n",
       "5                       1                      0                 1  "
      ]
     },
     "execution_count": 11,
     "metadata": {},
     "output_type": "execute_result"
    }
   ],
   "source": [
    "Categoricals_to_convert = ['neighbourhood_group_cleansed','room_type','bath_type']\n",
    "\n",
    "# using pd get dummies for the category columns we are keeping\n",
    "dummies = pd.get_dummies(listings[Categoricals_to_convert],drop_first=True)\n",
    "\n",
    "#dropping original columns\n",
    "listings_df = listings.drop(Categoricals_to_convert,axis=1)\n",
    "\n",
    "#concating dummies to the data frame\n",
    "listings_df = pd.concat([listings_df,dummies],axis=1)\n",
    "\n",
    "\n",
    "listings_df.head()"
   ]
  },
  {
   "cell_type": "code",
   "execution_count": 12,
   "metadata": {},
   "outputs": [
    {
     "name": "stdout",
     "output_type": "stream",
     "text": [
      "Size of modeling set (to be CV split):  (24499, 18)\n",
      "Size of hold back validation set:  (2723, 18)\n"
     ]
    },
    {
     "name": "stderr",
     "output_type": "stream",
     "text": [
      "C:\\Users\\joela\\AppData\\Local\\Temp/ipykernel_8660/925426905.py:5: SettingWithCopyWarning: \n",
      "A value is trying to be set on a copy of a slice from a DataFrame.\n",
      "Try using .loc[row_indexer,col_indexer] = value instead\n",
      "\n",
      "See the caveats in the documentation: https://pandas.pydata.org/pandas-docs/stable/user_guide/indexing.html#returning-a-view-versus-a-copy\n",
      "  listings_cleaned['price_log'] = np.log10(listings_cleaned['price'])\n"
     ]
    }
   ],
   "source": [
    "#Split Modeling and Validation Datasets\n",
    "from sklearn.model_selection import train_test_split\n",
    "\n",
    "listings_cleaned = listings_df[(listings_df.price >= 14) & (listings_df.price < 5000)]\n",
    "listings_cleaned['price_log'] = np.log10(listings_cleaned['price'])\n",
    "\n",
    "listings_modeling, listings_validation = train_test_split(listings_cleaned, test_size=0.1, random_state=42)\n",
    "\n",
    "print(\"Size of modeling set (to be CV split): \",listings_modeling.shape)\n",
    "print(\"Size of hold back validation set: \",listings_validation.shape)"
   ]
  },
  {
   "cell_type": "markdown",
   "metadata": {},
   "source": [
    "# Attention RICK !!!!!!!!!!\n",
    "\n",
    "\n",
    "### Reducing data size BELOW\n",
    "___\n",
    "**Splitting** the original data set into a **smaller dataframe** \n",
    "\n",
    "to run on **full size** data just remove this cell and run again. \n",
    "___\n",
    "\n",
    "\n"
   ]
  },
  {
   "cell_type": "code",
   "execution_count": 66,
   "metadata": {},
   "outputs": [],
   "source": [
    "#listings_modeling, listings_validation = train_test_split(listings_cleaned, test_size=0.1, random_state=42)\n",
    "\n",
    "df_smol =  listings_cleaned.sample(frac = 0.3, replace=False, random_state=42)\n",
    "\n",
    "\n",
    "\n",
    "listings_modeling, listings_validation = train_test_split(df_smol, test_size=0.1, random_state=42)"
   ]
  },
  {
   "cell_type": "markdown",
   "metadata": {},
   "source": [
    "REMOVE THE **ABOVE CELL** TO RUN ON FULL DATA SET"
   ]
  },
  {
   "cell_type": "code",
   "execution_count": 67,
   "metadata": {},
   "outputs": [
    {
     "data": {
      "text/plain": [
       "(7350, 2)"
      ]
     },
     "execution_count": 67,
     "metadata": {},
     "output_type": "execute_result"
    }
   ],
   "source": [
    "from sklearn.preprocessing import StandardScaler\n",
    "\n",
    "Lat = listings_modeling.latitude\n",
    "Long = listings_modeling.longitude\n",
    "\n",
    "LatLong = np.column_stack((Lat, Long))\n",
    "\n",
    "LatLong.shape\n",
    "\n"
   ]
  },
  {
   "cell_type": "code",
   "execution_count": 68,
   "metadata": {},
   "outputs": [
    {
     "data": {
      "text/plain": [
       "(817, 2)"
      ]
     },
     "execution_count": 68,
     "metadata": {},
     "output_type": "execute_result"
    }
   ],
   "source": [
    "Lat_val = listings_validation.latitude\n",
    "Long_val = listings_validation.longitude\n",
    "\n",
    "LatLong_val = np.column_stack((Lat_val, Long_val))\n",
    "\n",
    "LatLong_val.shape"
   ]
  },
  {
   "cell_type": "markdown",
   "metadata": {},
   "source": [
    "Take a small sample to help with compute time for spectral clustering"
   ]
  },
  {
   "cell_type": "code",
   "execution_count": 31,
   "metadata": {},
   "outputs": [],
   "source": [
    "#num_rows_2_sample = 1000"
   ]
  },
  {
   "cell_type": "code",
   "execution_count": 32,
   "metadata": {},
   "outputs": [],
   "source": [
    "#= LatLong[np.random.choice(LatLong.shape[0], num_rows_2_sample, replace=False)]"
   ]
  },
  {
   "cell_type": "code",
   "execution_count": null,
   "metadata": {},
   "outputs": [],
   "source": []
  },
  {
   "cell_type": "markdown",
   "metadata": {},
   "source": [
    "# Spectral Clustering"
   ]
  },
  {
   "cell_type": "markdown",
   "metadata": {},
   "source": [
    "Base Spectral Cluster model from Dr. Larson's Notebook using default settings from SKLEAN \n",
    "\n",
    "* n_clusters default is 8 etc etc "
   ]
  },
  {
   "cell_type": "code",
   "execution_count": 19,
   "metadata": {},
   "outputs": [],
   "source": [
    "from sklearn.cluster import SpectralClustering\n",
    "from sklearn.neighbors import kneighbors_graph\n",
    "\n",
    "#object to cluster on\n",
    "# LatLong = np.column_stack((Lat, Long))\n",
    "\n",
    "#nclust = n_clusters default is 8 "
   ]
  },
  {
   "cell_type": "code",
   "execution_count": 69,
   "metadata": {},
   "outputs": [
    {
     "name": "stderr",
     "output_type": "stream",
     "text": [
      "C:\\Users\\joela\\anaconda3\\envs\\conda_DS\\lib\\site-packages\\sklearn\\manifold\\_spectral_embedding.py:260: UserWarning: Graph is not fully connected, spectral embedding may not work as expected.\n",
      "  warnings.warn(\n"
     ]
    },
    {
     "data": {
      "image/png": "[encoded data removed]",
      "text/plain": [
       "<Figure size 432x288 with 1 Axes>"
      ]
     },
     "metadata": {
      "needs_background": "light"
     },
     "output_type": "display_data"
    }
   ],
   "source": [
    "#default model\n",
    "\n",
    "#reduced to a 7350 sample to not crash my poor virgin computer that runs on a hamster wheel. \n",
    "X= LatLong\n",
    "\n",
    "#running with default n_clusters, assign_labels = 'kmeans' default\n",
    "spc = SpectralClustering(affinity = 'nearest_neighbors')\n",
    "labels = spc.fit_predict(X)\n",
    "\n",
    "plt.scatter(X[:, 0], X[:, 1], c=labels,\n",
    "                    cmap=plt.cm.rainbow, s=5, linewidths=0)\n",
    "\n",
    "plt.show()"
   ]
  },
  {
   "cell_type": "code",
   "execution_count": 70,
   "metadata": {},
   "outputs": [
    {
     "name": "stdout",
     "output_type": "stream",
     "text": [
      "{'affinity': 'nearest_neighbors',\n",
      " 'assign_labels': 'kmeans',\n",
      " 'coef0': 1,\n",
      " 'degree': 3,\n",
      " 'eigen_solver': None,\n",
      " 'eigen_tol': 0.0,\n",
      " 'gamma': 1.0,\n",
      " 'kernel_params': None,\n",
      " 'n_clusters': 8,\n",
      " 'n_components': None,\n",
      " 'n_init': 10,\n",
      " 'n_jobs': None,\n",
      " 'n_neighbors': 10,\n",
      " 'random_state': None,\n",
      " 'verbose': False}\n"
     ]
    }
   ],
   "source": [
    "from pprint import pprint\n",
    "\n",
    "pprint(spc.get_params())\n"
   ]
  },
  {
   "cell_type": "markdown",
   "metadata": {},
   "source": [
    "### Self tuned clustering and optimal number of clusters approximation\n",
    "The idea behind the self tuning spectral clustering is determine the optimal number of clusters and also the similarity metric σi used in the computation of the affinity matrix.\n",
    "\n"
   ]
  },
  {
   "cell_type": "code",
   "execution_count": 71,
   "metadata": {},
   "outputs": [],
   "source": [
    "from scipy.spatial.distance import pdist, squareform\n",
    "def getAffinityMatrix(coordinates, k = 7):\n",
    "    \"\"\"\n",
    "    Calculate affinity matrix based on input coordinates matrix and the numeber\n",
    "    of nearest neighbours.\n",
    "    \n",
    "    Apply local scaling based on the k nearest neighbour\n",
    "        References:\n",
    "    https://papers.nips.cc/paper/2619-self-tuning-spectral-clustering.pdf\n",
    "    \"\"\"\n",
    "    # calculate euclidian distance matrix\n",
    "    dists = squareform(pdist(coordinates)) \n",
    "    \n",
    "    # for each row, sort the distances ascendingly and take the index of the \n",
    "    #k-th position (nearest neighbour)\n",
    "    knn_distances = np.sort(dists, axis=0)[k]\n",
    "    knn_distances = knn_distances[np.newaxis].T\n",
    "    \n",
    "    # calculate sigma_i * sigma_j\n",
    "    local_scale = knn_distances.dot(knn_distances.T)\n",
    "\n",
    "    affinity_matrix = dists * dists\n",
    "    affinity_matrix = -affinity_matrix / local_scale\n",
    "    # divide square distance matrix by local scale\n",
    "    affinity_matrix[np.where(np.isnan(affinity_matrix))] = 0.0\n",
    "    # apply exponential\n",
    "    affinity_matrix = np.exp(affinity_matrix)\n",
    "    np.fill_diagonal(affinity_matrix, 0)\n",
    "    return affinity_matrix\n"
   ]
  },
  {
   "cell_type": "markdown",
   "metadata": {},
   "source": [
    "Can we use this ⭣ affinity matrix in the Spectral clustering call e.g.,  SpectralClustering(n_clusters = 105, affinity = affinity_matrix .... ) ??? \n",
    "\n",
    "\n",
    "I did not work when i tried but i don't know why... hmm  "
   ]
  },
  {
   "cell_type": "code",
   "execution_count": 72,
   "metadata": {},
   "outputs": [
    {
     "name": "stderr",
     "output_type": "stream",
     "text": [
      "C:\\Users\\joela\\AppData\\Local\\Temp/ipykernel_8660/3966623325.py:23: RuntimeWarning: divide by zero encountered in true_divide\n",
      "  affinity_matrix = -affinity_matrix / local_scale\n",
      "C:\\Users\\joela\\AppData\\Local\\Temp/ipykernel_8660/3966623325.py:23: RuntimeWarning: invalid value encountered in true_divide\n",
      "  affinity_matrix = -affinity_matrix / local_scale\n"
     ]
    }
   ],
   "source": [
    "affinity_matrix = getAffinityMatrix(X, k = 7)"
   ]
  },
  {
   "cell_type": "markdown",
   "metadata": {},
   "source": [
    "### Eigengap heuristic for finding the optimal number of clusters\n",
    "\n",
    "This paper [A Tutorial on Spectral Clustering — Ulrike von Luxburg](https://www.kyb.tuebingen.mpg.de/fileadmin/user_upload/files/publications/attachments/Luxburg07_tutorial_4488%5B0%5D.pdf) proposes an approach based on perturbation theory and spectral graph theory to calculate the optimal number of clusters. [GitHub code here](https://github.com/ciortanmadalina/high_noise_clustering/blob/master/spectral_clustering.ipynb). Eigengap heuristic suggests the number of clusters k is usually given by the value of k that maximizes the eigengap (difference between consecutive eigenvalues). The larger this eigengap is, the closer the eigenvectors of the ideal case and hence the better spectral clustering works."
   ]
  },
  {
   "cell_type": "code",
   "execution_count": 76,
   "metadata": {},
   "outputs": [],
   "source": [
    "import scipy\n",
    "from scipy.sparse import csgraph\n",
    "from scipy.sparse.linalg import eigsh\n",
    "from numpy import linalg as LA\n",
    "def eigenDecomposition(A, plot = True, topK = 5):\n",
    "    \"\"\"\n",
    "    :param A: Affinity matrix\n",
    "    :param plot: plots the sorted eigen values for visual inspection\n",
    "    :return A tuple containing:\n",
    "    - the optimal number of clusters by eigengap heuristic\n",
    "    - all eigen values\n",
    "    - all eigen vectors\n",
    "    \n",
    "    This method performs the eigen decomposition on a given affinity matrix,\n",
    "    following the steps recommended in the paper:\n",
    "    1. Construct the normalized affinity matrix: L = D−1/2ADˆ −1/2.\n",
    "    2. Find the eigenvalues and their associated eigen vectors\n",
    "    3. Identify the maximum gap which corresponds to the number of clusters\n",
    "    by eigengap heuristic\n",
    "    \n",
    "    References:\n",
    "    https://papers.nips.cc/paper/2619-self-tuning-spectral-clustering.pdf\n",
    "    http://www.kyb.mpg.de/fileadmin/user_upload/files/publications/attachments/Luxburg07_tutorial_4488%5b0%5d.pdf\n",
    "    \"\"\"\n",
    "    L = csgraph.laplacian(A, normed=True)\n",
    "    n_components = A.shape[0]\n",
    "    \n",
    "    # LM parameter : Eigenvalues with largest magnitude (eigs, eigsh), that is, largest eigenvalues in \n",
    "    # the euclidean norm of complex numbers.\n",
    "#     eigenvalues, eigenvectors = eigsh(L, k=n_components, which=\"LM\", sigma=1.0, maxiter=5000)\n",
    "    eigenvalues, eigenvectors = LA.eig(L)\n",
    "    \n",
    "    if plot:\n",
    "        plt.title('Largest eigen values of input matrix')\n",
    "        plt.scatter(np.arange(len(eigenvalues)), eigenvalues)\n",
    "        plt.grid()\n",
    "        \n",
    "    # Identify the optimal number of clusters as the index corresponding\n",
    "    # to the larger gap between eigen values\n",
    "    index_largest_gap = np.argsort(np.diff(eigenvalues))[::-1][:topK]\n",
    "    nb_clusters = index_largest_gap + 1\n",
    "        \n",
    "    return nb_clusters, eigenvalues, eigenvectors"
   ]
  },
  {
   "cell_type": "code",
   "execution_count": 78,
   "metadata": {},
   "outputs": [
    {
     "name": "stdout",
     "output_type": "stream",
     "text": [
      "Optimal number of clusters [1138 1154 1169 1218 1416]\n"
     ]
    },
    {
     "data": {
      "image/png": "[encoded data removed]",
      "text/plain": [
       "<Figure size 432x288 with 1 Axes>"
      ]
     },
     "metadata": {
      "needs_background": "light"
     },
     "output_type": "display_data"
    }
   ],
   "source": [
    "# X here is taking LatLong_smol\n",
    "# the resulting egien vector graph will be different on the full data set. When I ran it last night on my Chad computer\n",
    "# I got [369 1974 2252 2529 2804]\n",
    "# But even when i run it on the 1000 samples i get different values everytime. \n",
    "\n",
    "affinity_matrix = getAffinityMatrix(X, k = 10)\n",
    "k, _,  _ = eigenDecomposition(affinity_matrix)\n",
    "print(f'Optimal number of clusters {k}')"
   ]
  },
  {
   "cell_type": "markdown",
   "metadata": {},
   "source": [
    "#### Use Optimal number of clusters to apply to spectral model. Then use clusters in RF model \n",
    "\n",
    "This run i got 1138, 1154, 1169, 1218, 1416\n",
    "\n",
    "Previous run when i sampled the numpy array instead of the pandas data framn i got \n",
    "\n",
    " 105, 159, 172, 184, 196\n",
    " \n",
    "my **CHAD** computer got 369 1974 2252 2529 2804 on the full data set."
   ]
  },
  {
   "cell_type": "code",
   "execution_count": 80,
   "metadata": {},
   "outputs": [
    {
     "name": "stderr",
     "output_type": "stream",
     "text": [
      "C:\\Users\\joela\\anaconda3\\envs\\conda_DS\\lib\\site-packages\\sklearn\\manifold\\_spectral_embedding.py:260: UserWarning: Graph is not fully connected, spectral embedding may not work as expected.\n",
      "  warnings.warn(\n"
     ]
    },
    {
     "data": {
      "image/png": "[encoded data removed]",
      "text/plain": [
       "<Figure size 432x288 with 1 Axes>"
      ]
     },
     "metadata": {
      "needs_background": "light"
     },
     "output_type": "display_data"
    },
    {
     "name": "stderr",
     "output_type": "stream",
     "text": [
      "C:\\Users\\joela\\anaconda3\\envs\\conda_DS\\lib\\site-packages\\sklearn\\manifold\\_spectral_embedding.py:260: UserWarning: Graph is not fully connected, spectral embedding may not work as expected.\n",
      "  warnings.warn(\n",
      "C:\\Users\\joela\\anaconda3\\envs\\conda_DS\\lib\\site-packages\\sklearn\\manifold\\_spectral_embedding.py:260: UserWarning: Graph is not fully connected, spectral embedding may not work as expected.\n",
      "  warnings.warn(\n"
     ]
    },
    {
     "data": {
      "image/png": "[encoded data removed]",
      "text/plain": [
       "<Figure size 1080x288 with 1 Axes>"
      ]
     },
     "metadata": {
      "needs_background": "light"
     },
     "output_type": "display_data"
    }
   ],
   "source": [
    "#--------Change parameters below this line---------------------------\n",
    "# apply Eigengap heuristic results to spectral\n",
    "\n",
    "# X = Latlong from df_smol for my virgin dell laptop\n",
    "X= LatLong\n",
    "\n",
    "#model name spc_eigen_tuned apply this object below\n",
    "spc_eigen_tuned = SpectralClustering(n_clusters = 1138, affinity = 'nearest_neighbors', n_neighbors = 7, n_jobs =-1)\n",
    "labels = spc.fit_predict(X)\n",
    "\n",
    "plt.scatter(X[:, 0], X[:, 1], c=labels,\n",
    "                    cmap=plt.cm.rainbow, s=5, linewidths=0)\n",
    "\n",
    "plt.show()\n",
    "\n",
    "#~~~~~~~~~~~~~~~~~ split into two chucks to work on error code~~~~~~~~~~~~~~~~~~~~~~~~\n",
    "\n",
    "#~~~~~error code: Negative values in data passed to precomputed distance matrix.~~~~~~~~~~~~~~~~\n",
    "\n",
    "#~~ troubleshooting procedures. Changed affinity parameter to 'nearest_neighbors'\n",
    "#did not like 'precomputed_nearest_neighbors' recieved negative vales error code\n",
    "\n",
    "#--------Change parameters above this line---------------------------\n",
    "#calling the eigen tuned spectral clustersing\n",
    "model_train = spc_eigen_tuned.fit(X)\n",
    "\n",
    "#spectral has attribute predict usees .fit_predict\n",
    "label = spc_eigen_tuned.fit_predict(X)\n",
    "\n",
    "#Getting unique labels\n",
    " \n",
    "u_labels = np.unique(label)\n",
    " \n",
    "#plotting the results:\n",
    "\n",
    "plt.figure(figsize=(15,4)) \n",
    "for i in u_labels:\n",
    "#LatLong from df_smol here ↓ and there ------------⭨\n",
    "    plt.scatter(LatLong[label == i , 0] , LatLong[label == i , 1] , label = i, s=1)\n",
    "plt.grid()\n",
    "plt.show()\n"
   ]
  },
  {
   "cell_type": "code",
   "execution_count": 81,
   "metadata": {},
   "outputs": [
    {
     "data": {
      "text/plain": [
       "(817, 2)"
      ]
     },
     "execution_count": 81,
     "metadata": {},
     "output_type": "execute_result"
    }
   ],
   "source": [
    "Lat_val = listings_validation.latitude\n",
    "Long_val = listings_validation.longitude\n",
    "\n",
    "LatLong_val = np.column_stack((Lat_val, Long_val))\n",
    "\n",
    "LatLong_val.shape"
   ]
  },
  {
   "cell_type": "code",
   "execution_count": 82,
   "metadata": {},
   "outputs": [
    {
     "name": "stderr",
     "output_type": "stream",
     "text": [
      "C:\\Users\\joela\\anaconda3\\envs\\conda_DS\\lib\\site-packages\\sklearn\\manifold\\_spectral_embedding.py:260: UserWarning: Graph is not fully connected, spectral embedding may not work as expected.\n",
      "  warnings.warn(\n"
     ]
    },
    {
     "data": {
      "image/png": "[encoded data removed]",
      "text/plain": [
       "<Figure size 1080x288 with 1 Axes>"
      ]
     },
     "metadata": {
      "needs_background": "light"
     },
     "output_type": "display_data"
    }
   ],
   "source": [
    "#spectral has attribute predict usees .fit_predict\n",
    "label_val = model_train.fit_predict(LatLong) #LatLong from df_smol reduced data for my laptop\n",
    "\n",
    "#Getting unique labels\n",
    " \n",
    "u_labels = np.unique(label_val)\n",
    " \n",
    "#plotting the results:\n",
    "\n",
    "plt.figure(figsize=(15,4)) \n",
    "for i in u_labels:\n",
    "#LatLong dfsmol here ↓ and there ---------------⭨\n",
    "    plt.scatter(LatLong[label_val == i , 0] , LatLong[label_val == i , 1] , label = i, s=1)\n",
    "plt.grid()\n",
    "plt.show()"
   ]
  },
  {
   "cell_type": "code",
   "execution_count": null,
   "metadata": {},
   "outputs": [],
   "source": [
    "listings_modeling.head()"
   ]
  },
  {
   "cell_type": "code",
   "execution_count": null,
   "metadata": {},
   "outputs": [],
   "source": [
    "listings_modeling['cluster'] = label\n",
    "listings_modeling.head()"
   ]
  },
  {
   "cell_type": "code",
   "execution_count": null,
   "metadata": {},
   "outputs": [],
   "source": [
    "listings_validation['cluster'] = label_val\n",
    "listings_validation.head()"
   ]
  },
  {
   "cell_type": "code",
   "execution_count": null,
   "metadata": {},
   "outputs": [],
   "source": [
    "sns.histplot(data=listings_modeling, x=\"cluster\")\n"
   ]
  },
  {
   "cell_type": "code",
   "execution_count": null,
   "metadata": {},
   "outputs": [],
   "source": [
    "plt.figure(figsize=(15,8)) \n",
    "sns.set(font_scale=1)\n",
    "sns.boxplot(x='cluster', y='price', data=listings_modeling)\n",
    "plt.ylim(0, 1000)\n"
   ]
  },
  {
   "cell_type": "code",
   "execution_count": null,
   "metadata": {},
   "outputs": [],
   "source": [
    "plt.figure(figsize=(15,8)) \n",
    "sns.set(font_scale=1)\n",
    "sns.boxplot(x='cluster', y=listings_modeling.price / listings_modeling.accommodates, data=listings_modeling)\n",
    "plt.ylim(0, 400)"
   ]
  },
  {
   "cell_type": "code",
   "execution_count": null,
   "metadata": {},
   "outputs": [],
   "source": [
    "#Create X and Y for modeling\n",
    "X_price = listings_modeling.drop(['id','price','price_log','latitude','longitude','neighbourhood_group_cleansed_Brooklyn','neighbourhood_group_cleansed_Manhattan','neighbourhood_group_cleansed_Queens','neighbourhood_group_cleansed_Staten Island'],axis=1) #droping rating_max\n",
    "Y_price_log = listings_modeling['price_log']\n",
    "\n",
    "#Create new X and Y for validation\n",
    "X_price_valid = listings_validation.drop(['id','price','price_log','latitude','longitude','neighbourhood_group_cleansed_Brooklyn','neighbourhood_group_cleansed_Manhattan','neighbourhood_group_cleansed_Queens','neighbourhood_group_cleansed_Staten Island'],axis=1) #droping rating_max\n",
    "Y_price_log_valid = listings_validation['price_log']\n",
    "\n",
    "#Standard scale the data\n",
    "from sklearn.preprocessing import StandardScaler\n",
    "std = StandardScaler()\n",
    "\n",
    "std.fit(X_price.values) # only std.fit on train set\n",
    "X_price_std = std.transform(X_price.values)\n",
    "X_price_valid_std = std.transform(X_price_valid.values)"
   ]
  },
  {
   "cell_type": "code",
   "execution_count": null,
   "metadata": {},
   "outputs": [],
   "source": [
    "#Best model is RandomForestRegressor(min_samples_leaf=10, min_samples_split=5, n_estimators=500)\n",
    "\n",
    "from sklearn.ensemble import RandomForestRegressor\n",
    "\n",
    "rfRandomEstimator = RandomForestRegressor(min_samples_leaf=10, min_samples_split=5, n_estimators=500, n_jobs=8, random_state=0)\n",
    "rfRandomEstimator.fit(X_price_std, Y_price_log)\n",
    "\n",
    "#Evaluate the regression estimator above using our pre-defined cross validation and scoring metrics. \n",
    "rf, rfMae = EvaluateRegressionEstimator('Random Forest Regressor', rfRandomEstimator, X_price_std, Y_price_log, X_price_valid_std, Y_price_log_valid, cv_price)\n",
    "regModel_stat = regModel_stat.append(rf)"
   ]
  },
  {
   "cell_type": "code",
   "execution_count": null,
   "metadata": {},
   "outputs": [],
   "source": [
    "#Load the model's coefficient weights and feature names into a dataframe sorted by weights\n",
    "randomForrestReg_weights = rfRandomEstimator.feature_importances_.ravel()\n",
    "randomForrestReg_feature_names = X_price_valid.columns.values\n",
    "randomForrestReg_ft_imp_df = pd.DataFrame({'feature_names':randomForrestReg_feature_names, 'weights':randomForrestReg_weights, 'absolute_weights': np.abs(randomForrestReg_weights)})\n",
    "randomForrestReg_ft_imp_df.sort_values(by='absolute_weights', inplace=True, ascending=False)"
   ]
  },
  {
   "cell_type": "code",
   "execution_count": null,
   "metadata": {},
   "outputs": [],
   "source": [
    "# Examine categorical variables of interest  \n",
    "import matplotlib.pyplot as plt\n",
    "%matplotlib inline\n",
    "\n",
    "#Plot the model's feature importances\n",
    "# REFERENCE:  Eric Larson, https://github.com/eclarson/DataMiningNotebooks\n",
    "plt.style.use('ggplot')\n",
    "\n",
    "randomForrestReg_wt_plt_df = randomForrestReg_ft_imp_df.head(75)\n",
    "\n",
    "randomForrestReg_weights = pd.Series(randomForrestReg_wt_plt_df['weights'].values,index=randomForrestReg_wt_plt_df['feature_names'])\n",
    "ax = randomForrestReg_weights.plot(kind='bar', figsize=(20,8))\n",
    "\n",
    "sns.set(font_scale=5)\n",
    "ax.set_title(\"Top Feature Correlations for Random Forrest Regressor\", fontsize=16)\n",
    "ax.set_ylabel(\"Coefficient Magnitude\\n(z-score)\")\n",
    "ax.set_xlabel(\"Feature Names\")\n",
    "plt.show()"
   ]
  },
  {
   "cell_type": "code",
   "execution_count": null,
   "metadata": {},
   "outputs": [],
   "source": [
    "listings_modeling.cluster = pd.Categorical(listings_modeling.cluster)\n",
    "\n",
    "Categoricals_to_convert = ['cluster']\n",
    "\n",
    "# using pd get dummies for the category columns we are keeping\n",
    "dummies = pd.get_dummies(listings_modeling[Categoricals_to_convert],drop_first=True)\n",
    "\n",
    "#dropping original columns\n",
    "listings_cluster1 = listings_modeling.drop(Categoricals_to_convert,axis=1)\n",
    "\n",
    "#concating dummies to the data frame\n",
    "listings_cluster1 = pd.concat([listings_cluster1,dummies],axis=1)\n",
    "\n",
    "listings_cluster1.head()"
   ]
  },
  {
   "cell_type": "code",
   "execution_count": null,
   "metadata": {},
   "outputs": [],
   "source": [
    "listings_validation.cluster = pd.Categorical(listings_validation.cluster)\n",
    "\n",
    "Categoricals_to_convert = ['cluster']\n",
    "\n",
    "# using pd get dummies for the category columns we are keeping\n",
    "dummies = pd.get_dummies(listings_validation[Categoricals_to_convert],drop_first=True)\n",
    "\n",
    "#dropping original columns\n",
    "validation_cluster1 = listings_validation.drop(Categoricals_to_convert,axis=1)\n",
    "\n",
    "#concating dummies to the data frame\n",
    "validation_cluster1 = pd.concat([validation_cluster1,dummies],axis=1)\n",
    "\n",
    "validation_cluster1.head()"
   ]
  },
  {
   "cell_type": "code",
   "execution_count": null,
   "metadata": {},
   "outputs": [],
   "source": [
    "#Create X and Y for modeling\n",
    "X_price = listings_cluster1.drop(['id','price','price_log','latitude','longitude','neighbourhood_group_cleansed_Brooklyn','neighbourhood_group_cleansed_Manhattan','neighbourhood_group_cleansed_Queens','neighbourhood_group_cleansed_Staten Island'],axis=1) #droping rating_max\n",
    "Y_price_log = listings_cluster1['price_log']\n",
    "\n",
    "#Create new X and Y for validation\n",
    "X_price_valid = validation_cluster1.drop(['id','price','price_log','latitude','longitude','neighbourhood_group_cleansed_Brooklyn','neighbourhood_group_cleansed_Manhattan','neighbourhood_group_cleansed_Queens','neighbourhood_group_cleansed_Staten Island'],axis=1) #droping rating_max\n",
    "Y_price_log_valid = validation_cluster1['price_log']\n",
    "\n",
    "#Standard scale the data\n",
    "from sklearn.preprocessing import StandardScaler\n",
    "std = StandardScaler()\n",
    "\n",
    "std.fit(X_price.values) # only std.fit on train set\n",
    "X_price_std = std.transform(X_price.values)\n",
    "X_price_valid_std = std.transform(X_price_valid.values)"
   ]
  },
  {
   "cell_type": "code",
   "execution_count": null,
   "metadata": {},
   "outputs": [],
   "source": [
    "#Best model is RandomForestRegressor(min_samples_leaf=10, min_samples_split=5, n_estimators=500)\n",
    "\n",
    "from sklearn.ensemble import RandomForestRegressor\n",
    "\n",
    "rfRandomEstimator = RandomForestRegressor(min_samples_leaf=10, min_samples_split=5, n_estimators=500, n_jobs=8, random_state=0)\n",
    "rfRandomEstimator.fit(X_price_std, Y_price_log)\n",
    "\n",
    "#Evaluate the regression estimator above using our pre-defined cross validation and scoring metrics. \n",
    "rf, rfMae = EvaluateRegressionEstimator('Random Forest Regressor', rfRandomEstimator, X_price_std, Y_price_log, X_price_valid_std, Y_price_log_valid, cv_price)\n",
    "regModel_stat = regModel_stat.append(rf)"
   ]
  },
  {
   "cell_type": "code",
   "execution_count": null,
   "metadata": {},
   "outputs": [],
   "source": [
    "#Load the model's coefficient weights and feature names into a dataframe sorted by weights\n",
    "randomForrestReg_weights = rfRandomEstimator.feature_importances_.ravel()\n",
    "randomForrestReg_feature_names = X_price_valid.columns.values\n",
    "randomForrestReg_ft_imp_df = pd.DataFrame({'feature_names':randomForrestReg_feature_names, 'weights':randomForrestReg_weights, 'absolute_weights': np.abs(randomForrestReg_weights)})\n",
    "randomForrestReg_ft_imp_df.sort_values(by='absolute_weights', inplace=True, ascending=False)"
   ]
  },
  {
   "cell_type": "code",
   "execution_count": null,
   "metadata": {},
   "outputs": [],
   "source": [
    "# Examine categorical variables of interest  \n",
    "import matplotlib.pyplot as plt\n",
    "%matplotlib inline\n",
    "\n",
    "#Plot the model's feature importances\n",
    "# REFERENCE:  Eric Larson, https://github.com/eclarson/DataMiningNotebooks\n",
    "plt.style.use('ggplot')\n",
    "\n",
    "randomForrestReg_wt_plt_df = randomForrestReg_ft_imp_df.head(75)\n",
    "\n",
    "randomForrestReg_weights = pd.Series(randomForrestReg_wt_plt_df['weights'].values,index=randomForrestReg_wt_plt_df['feature_names'])\n",
    "ax = randomForrestReg_weights.plot(kind='bar', figsize=(20,8))\n",
    "\n",
    "ax.set_title(\"Top Feature Correlations for Random Forrest Regressor\", fontsize=16)\n",
    "ax.set_ylabel(\"Coefficient Magnitude\\n(z-score)\")\n",
    "ax.set_xlabel(\"Feature Names\")\n",
    "plt.show()"
   ]
  },
  {
   "cell_type": "markdown",
   "metadata": {},
   "source": [
    "### This concludes the Joey Eigenvector presentation. "
   ]
  },
  {
   "cell_type": "markdown",
   "metadata": {},
   "source": [
    "### DJ's Spectral code. Keeping for reference. "
   ]
  },
  {
   "cell_type": "code",
   "execution_count": null,
   "metadata": {},
   "outputs": [],
   "source": [
    "from sklearn.cluster import SpectralClustering\n",
    "from sklearn.neighbors import kneighbors_graph\n",
    "from sklearn.metrics import silhouette_score\n",
    "\n",
    "nclust = [65, 75]\n",
    "affinity = [\"nearest_neighbors\"]\n",
    "train_models_dict = {}\n",
    "\n",
    "kmeans_silhouette = []\n",
    "# kmeans_SSE = []\n",
    "    \n",
    "for n in range(45,75,10):\n",
    "    spc = SpectralClustering(n_clusters = n, affinity = \"nearest_neighbors\")\n",
    "\n",
    "    # if aff == \"precomputed\":\n",
    "    #     print(\"\")\n",
    "    #     # xknn = kneighbors_graph(LatLong, 10) # additional connectivity information\n",
    "    #     # labels = spc.fit_predict(xknn)\n",
    "    #     # label_val = spc.fit_predict(LatLong_val)\n",
    "\n",
    "    # else:\n",
    "    \n",
    "    labels = spc.fit_predict(LatLong)\n",
    "        # label_val = spc.fit_predict(LatLong_val)\n",
    "\n",
    "    # key = aff + \"_\" + str(n)\n",
    "    # train_models_dict[key] = [labels, label_val]\n",
    "    # listings_modeling[\"clusters\"] = labels\n",
    "    # listings_validation[\"clusters\"] = label_val\n",
    "\n",
    "    kmeans_silhouette.append(silhouette_score(LatLong, spc.labels_, metric='euclidean'))\n",
    "\n",
    "\n",
    "plt.plot(range(45,75,10), kmeans_silhouette)\n",
    "plt.title('Elbow Method')\n",
    "plt.xlabel('Clusters')\n",
    "plt.ylabel('Silhouette')\n",
    "plt.show()\n",
    "\n",
    "# print(range(10,200,5))"
   ]
  },
  {
   "cell_type": "code",
   "execution_count": null,
   "metadata": {},
   "outputs": [],
   "source": [
    "# from sklearn.cluster import SpectralClustering\n",
    "\n",
    "# X = LatLong\n",
    "# nclust = 45\n",
    "\n",
    "# spc = SpectralClustering(n_clusters = nclust, affinity = \"nearest_neighbors\")\n",
    "# labels = spc.fit_predict(X)\n",
    "\n",
    "# plt.scatter(X[:, 0], X[:, 1], c = labels, cmap=plt.cm.rainbow, s=5, linewidths=0)\n",
    "\n",
    "# plt.show()"
   ]
  },
  {
   "cell_type": "code",
   "execution_count": null,
   "metadata": {},
   "outputs": [],
   "source": [
    "#Standard scale the data\n",
    "from sklearn.preprocessing import StandardScaler\n",
    "\n",
    "#Create X and Y for modeling\n",
    "X_price = listings_modeling.drop(['id','price','price_log','latitude','longitude'],axis=1) #droping rating_max\n",
    "Y_price_log = listings_modeling['price_log']\n",
    "\n",
    "#Create new X and Y for validation\n",
    "X_price_valid = listings_validation.drop(['id','price','price_log','latitude','longitude'],axis=1) #droping rating_max\n",
    "Y_price_log_valid = listings_validation['price_log']\n",
    "\n",
    "std = StandardScaler()\n",
    "\n",
    "std.fit(X_price.values) # only std.fit on train set\n",
    "X_price_std = std.transform(X_price.values)\n",
    "X_price_valid_std = std.transform(X_price_valid.values)"
   ]
  },
  {
   "cell_type": "code",
   "execution_count": null,
   "metadata": {},
   "outputs": [],
   "source": [
    "from sklearn.model_selection import KFold\n",
    "\n",
    "cv_price = KFold(n_splits=10, shuffle=False)\n",
    "\n",
    "from sklearn.metrics import mean_absolute_error, make_scorer, mean_squared_error, r2_score\n",
    "\n",
    "def rmse(y_actual, y_predicted):\n",
    "    return np.sqrt(mean_squared_error(y_actual, y_predicted))\n",
    "\n",
    "def mape(y_actual, y_predicted): \n",
    "    mask = y_actual != 0\n",
    "    return (np.fabs(y_actual - y_predicted)/y_actual)[mask].mean() * 100\n",
    "\n",
    "#Create scorers for rmse and mape functions\n",
    "mae_scorer = make_scorer(score_func=mean_absolute_error, greater_is_better=False)\n",
    "rmse_scorer = make_scorer(score_func=rmse, greater_is_better=False)\n",
    "mape_scorer = make_scorer(score_func=mape, greater_is_better=False)\n",
    "r2_scorer = make_scorer(score_func=r2_score, greater_is_better=True)\n",
    "\n",
    "#Make scorer array to pass into cross_validate() function for producing mutiple scores for each cv fold.\n",
    "errorScoring = {'MAE':  mae_scorer, \n",
    "                'RMSE': rmse_scorer,\n",
    "                'MAPE': mape_scorer,\n",
    "                'R2': r2_scorer\n",
    "               } "
   ]
  },
  {
   "cell_type": "code",
   "execution_count": null,
   "metadata": {},
   "outputs": [],
   "source": [
    "#Create function for regression models\n",
    "from sklearn.model_selection import cross_validate\n",
    "\n",
    "def EvaluateRegressionEstimator(modelNme, regEstimator, X, y, x_valid, y_valid, cv):\n",
    "    \n",
    "    print('Parameterization of the best estimator:',regEstimator,'\\n')\n",
    "\n",
    "    scores = cross_validate(regEstimator, X, y, scoring=errorScoring, cv=cv, return_train_score=True)\n",
    "\n",
    "    yhat = regEstimator.predict(x_valid)\n",
    "\n",
    "    #cross val score sign-flips the outputs of MAE\n",
    "    # https://github.com/scikit-learn/scikit-learn/issues/2439\n",
    "    scores['test_MAE'] = scores['test_MAE'] * -1\n",
    "    scores['test_MAPE'] = scores['test_MAPE'] * -1\n",
    "    scores['test_RMSE'] = scores['test_RMSE'] * -1\n",
    "\n",
    "    #print mean MAE for all folds \n",
    "    maeAvg = scores['test_MAE'].mean()\n",
    "    print_str = \"The average MAE for all cv folds is: \\t\\t\\t {maeAvg:.5}\"\n",
    "    print(print_str.format(maeAvg=maeAvg))\n",
    "\n",
    "    #print mean test_MAPE for all folds\n",
    "    mape_avg = scores['test_MAPE'].mean()\n",
    "    print_str = \"The average MAE percentage (MAPE) for all cv folds is: \\t {mape_avg:.5}\"\n",
    "    print(print_str.format(mape_avg=mape_avg))\n",
    "\n",
    "    #print mean RMSE for all folds \n",
    "    RMSEavg = scores['test_RMSE'].mean()\n",
    "    print_str = \"The average RMSE for all cv folds is: \\t\\t\\t {RMSEavg:.5}\"\n",
    "    print(print_str.format(RMSEavg=RMSEavg))\n",
    "\n",
    "    #print R2 for all folds \n",
    "    R2avg = scores['test_R2'].mean()\n",
    "    print_str = \"The average R2 for all cv folds is: \\t\\t\\t {R2avg:.5}\"\n",
    "    print(print_str.format(R2avg=R2avg))\n",
    "    print('---------------------------------------------------------------------')\n",
    "\n",
    "    model_stat = pd.DataFrame()\n",
    "    model_stat['Model_name'] = [str(modelNme)]\n",
    "    model_stat['MAE_model'] = scores['test_MAE'].mean()\n",
    "    model_stat['MAPE_model'] = scores['test_MAPE'].mean()\n",
    "    model_stat['RMSE_model'] = scores['test_RMSE'].mean()\n",
    "    model_stat['R2_model'] = scores['test_R2'].mean()\n",
    "    model_stat['MAE_validation'] = mean_absolute_error(y_valid, yhat)\n",
    "    model_stat['MAPE_validation'] = mape(y_valid, yhat)\n",
    "    model_stat['RMSE_validation'] = rmse(y_valid, yhat)\n",
    "    model_stat['R2_validation'] = r2_score(y_valid, yhat)\n",
    "\n",
    "    print('Cross Validation Fold Mean Error Scores')\n",
    "    scoresResults = pd.DataFrame()\n",
    "    scoresResults['MAE'] = scores['test_MAE']\n",
    "    scoresResults['MAPE'] = scores['test_MAPE']\n",
    "    scoresResults['RMSE'] = scores['test_RMSE']\n",
    "    scoresResults['R2'] = scores['test_R2']\n",
    "    print(scoresResults)\n",
    "    \n",
    "    return model_stat, model_stat['MAE_validation']"
   ]
  },
  {
   "cell_type": "code",
   "execution_count": null,
   "metadata": {},
   "outputs": [],
   "source": [
    "#Best model is RandomForestRegressor(min_samples_leaf=10, min_samples_split=5, n_estimators=500)\n",
    "\n",
    "from sklearn.ensemble import RandomForestRegressor\n",
    "\n",
    "#Create dataframe to collect regression models stat\n",
    "regModel_stat = pd.DataFrame()\n",
    "\n",
    "\n",
    "rfRandomEstimator = RandomForestRegressor(min_samples_leaf=10, min_samples_split=5, n_estimators=500, n_jobs=8, random_state=0)\n",
    "rfRandomEstimator.fit(X_price_std, Y_price_log)\n",
    "\n",
    "#Evaluate the regression estimator above using our pre-defined cross validation and scoring metrics. \n",
    "rf, rfMae = EvaluateRegressionEstimator('Random Forest Regressor', rfRandomEstimator, X_price_std, Y_price_log, X_price_valid_std, Y_price_log_valid, cv_price)\n",
    "regModel_stat = regModel_stat.append(rf)"
   ]
  },
  {
   "cell_type": "code",
   "execution_count": null,
   "metadata": {},
   "outputs": [],
   "source": [
    "#Load the model's coefficient weights and feature names into a dataframe sorted by weights\n",
    "randomForrestReg_weights = rfRandomEstimator.feature_importances_.ravel()\n",
    "randomForrestReg_feature_names = X_price_valid.columns.values\n",
    "randomForrestReg_ft_imp_df = pd.DataFrame({'feature_names':randomForrestReg_feature_names, 'weights':randomForrestReg_weights, 'absolute_weights': np.abs(randomForrestReg_weights)})\n",
    "randomForrestReg_ft_imp_df.sort_values(by='absolute_weights', inplace=True, ascending=False)"
   ]
  },
  {
   "cell_type": "code",
   "execution_count": null,
   "metadata": {},
   "outputs": [],
   "source": [
    "# Examine categorical variables of interest  \n",
    "import matplotlib.pyplot as plt\n",
    "%matplotlib inline\n",
    "\n",
    "#Plot the model's feature importances\n",
    "# REFERENCE:  Eric Larson, https://github.com/eclarson/DataMiningNotebooks\n",
    "plt.style.use('ggplot')\n",
    "\n",
    "randomForrestReg_wt_plt_df = randomForrestReg_ft_imp_df.head(75)\n",
    "\n",
    "randomForrestReg_weights = pd.Series(randomForrestReg_wt_plt_df['weights'].values,index=randomForrestReg_wt_plt_df['feature_names'])\n",
    "ax = randomForrestReg_weights.plot(kind='bar', figsize=(20,8))\n",
    "\n",
    "ax.set_title(\"Top Feature Correlations for Random Forrest Regressor\", fontsize=16)\n",
    "ax.set_ylabel(\"Coefficient Magnitude\\n(z-score)\")\n",
    "ax.set_xlabel(\"Feature Names\")\n",
    "plt.show()"
   ]
  },
  {
   "cell_type": "markdown",
   "metadata": {},
   "source": [
    "# Spectral: kneighbors (pre-computed)"
   ]
  },
  {
   "cell_type": "code",
   "execution_count": null,
   "metadata": {},
   "outputs": [],
   "source": [
    "from sklearn.cluster import SpectralClustering\n",
    "\n",
    "X = LatLong\n",
    "nclust = 45\n",
    "xknn = kneighbors_graph(X, 10) # additional connectivity information\n",
    "\n",
    "spc = SpectralClustering(n_clusters = nclust, affinity = \"precomputed\")\n",
    "labels = spc.fit_predict(xknn)\n",
    "\n",
    "plt.scatter(X[:, 0], X[:, 1], c = labels, cmap=plt.cm.rainbow, s=5, linewidths=0)\n",
    "\n",
    "plt.show()"
   ]
  },
  {
   "cell_type": "markdown",
   "metadata": {},
   "source": [
    "# Spectral: custom (pre-computed)"
   ]
  },
  {
   "cell_type": "code",
   "execution_count": null,
   "metadata": {},
   "outputs": [],
   "source": [
    "# from sklearn.cluster import SpectralClustering\n",
    "# from sklearn.metrics import pairwise_distances\n",
    "\n",
    "# X = LatLong\n",
    "# nclust = 45\n",
    "\n",
    "# d = pairwise_distances(X, metric='euclidean')\n",
    "# d = np.exp(- d**2 / (2*0.1**2)) # making sure euclidean distance does not exceed one\n",
    "\n",
    "# spc = SpectralClustering(n_clusters = nclust, affinity = \"precomputed\", eigen_solver =\"arpack\")\n",
    "# labels = spc.fit_predict(d)\n",
    "\n",
    "# plt.scatter(X[:, 0], X[:, 1], c = labels, cmap=plt.cm.rainbow, s=5, linewidths=0)\n",
    "\n",
    "# plt.show()"
   ]
  }
 ],
 "metadata": {
  "interpreter": {
   "hash": "163c475792d3cda12f8f4bc682140b2faffa038247c7a6f843a4fd616cacb042"
  },
  "kernelspec": {
   "display_name": "Python 3 (ipykernel)",
   "language": "python",
   "name": "python3"
  },
  "language_info": {
   "codemirror_mode": {
    "name": "ipython",
    "version": 3
   },
   "file_extension": ".py",
   "mimetype": "text/x-python",
   "name": "python",
   "nbconvert_exporter": "python",
   "pygments_lexer": "ipython3",
   "version": "3.8.12"
  }
 },
 "nbformat": 4,
 "nbformat_minor": 2
}
